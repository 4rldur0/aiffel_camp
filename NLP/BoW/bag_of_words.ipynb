{
 "cells": [
  {
   "cell_type": "code",
   "execution_count": 5,
   "metadata": {},
   "outputs": [],
   "source": [
    "from tensorflow.keras.datasets import reuters\n",
    "import matplotlib.pyplot as plt\n",
    "import seaborn as sns\n",
    "import numpy as np\n",
    "import pandas as pd\n",
    "\n",
    "from sklearn.feature_extraction.text import CountVectorizer\n",
    "from sklearn.feature_extraction.text import TfidfTransformer"
   ]
  },
  {
   "cell_type": "code",
   "execution_count": 12,
   "metadata": {},
   "outputs": [],
   "source": [
    "from sklearn.naive_bayes import MultinomialNB  # 다항분포 나이브 베이즈 모델\n",
    "from sklearn.linear_model import LogisticRegression\n",
    "from sklearn.naive_bayes import ComplementNB\n",
    "from sklearn.tree import DecisionTreeClassifier\n",
    "from sklearn.ensemble import RandomForestClassifier\n",
    "from sklearn.ensemble import GradientBoostingClassifier\n",
    "from sklearn.ensemble import VotingClassifier\n",
    "from sklearn.svm import LinearSVC\n",
    "\n",
    "from sklearn.metrics import accuracy_score\n",
    "from sklearn.metrics import classification_report\n",
    "from sklearn.metrics import confusion_matrix\n",
    "from sklearn.metrics import f1_score"
   ]
  },
  {
   "cell_type": "markdown",
   "metadata": {},
   "source": [
    "###  단어사전 크기를 변경하면 실험하기"
   ]
  },
  {
   "cell_type": "markdown",
   "metadata": {},
   "source": [
    "1. 분류 모델의 accuracy가 기준 이상 높게 나왔는가?  \n",
    "3가지 단어 개수에 대해 8가지 머신러닝 기법을 적용하여 그중 최적의 솔루션을 도출하였다.  \n",
    "2. 분류 모델의 F1 score가 기준 이상 높게 나왔는가?  \n",
    "Vocabulary size에 따른 각 머신러닝 모델의 성능변화 추이를 살피고, 해당 머신러닝 알고리즘의 특성에 근거해 원인을 분석하였다.  \n",
    "3. 딥러닝 모델을 활용해 성능이 비교 및 확인되었는가?  \n",
    "동일한 데이터셋과 전처리 조건으로 딥러닝 모델의 성능과 비교하여 결과에 따른 원인을 분석하였다.  "
   ]
  },
  {
   "cell_type": "markdown",
   "metadata": {},
   "source": [
    "### 데이터\n",
    "\n",
    "로이터 뉴스데이터 분류 - 46개의 주제"
   ]
  },
  {
   "cell_type": "code",
   "execution_count": 41,
   "metadata": {},
   "outputs": [],
   "source": [
    "# num_words로 단어사전의 크기 조절\n",
    "(x_train, y_train), (x_test, y_test) = reuters.load_data(\n",
    "    num_words=10000, test_split=0.2\n",
    ")"
   ]
  },
  {
   "cell_type": "code",
   "execution_count": 7,
   "metadata": {},
   "outputs": [
    {
     "name": "stdout",
     "output_type": "stream",
     "text": [
      "훈련용 뉴스의 최대 길이 :2376\n",
      "훈련용 뉴스의 평균 길이 :145.5398574927633\n"
     ]
    },
    {
     "data": {
      "image/png": "[encoded data removed]",
      "text/plain": [
       "<Figure size 500x200 with 1 Axes>"
      ]
     },
     "metadata": {},
     "output_type": "display_data"
    }
   ],
   "source": [
    "# 각 뉴스의 길이 분포\n",
    "print(\"훈련용 뉴스의 최대 길이 :{}\".format(max(len(l) for l in x_train)))\n",
    "print(\"훈련용 뉴스의 평균 길이 :{}\".format(sum(map(len, x_train)) / len(x_train)))\n",
    "plt.figure(figsize=(5, 2))\n",
    "plt.hist(\n",
    "    [len(s) for s in x_train],\n",
    "    bins=50,\n",
    ")\n",
    "plt.xlabel(\"length of samples\")\n",
    "plt.ylabel(\"number of samples\")\n",
    "plt.show()"
   ]
  },
  {
   "cell_type": "code",
   "execution_count": 9,
   "metadata": {},
   "outputs": [
    {
     "data": {
      "image/png": "[encoded data removed]",
      "text/plain": [
       "<Figure size 500x200 with 1 Axes>"
      ]
     },
     "metadata": {},
     "output_type": "display_data"
    }
   ],
   "source": [
    "# 각 주제별 뉴스의 수\n",
    "fig, axe = plt.subplots(ncols=1)\n",
    "fig.set_size_inches(5, 2)\n",
    "sns.countplot(x=y_train)\n",
    "plt.show()"
   ]
  },
  {
   "cell_type": "code",
   "execution_count": 13,
   "metadata": {},
   "outputs": [
    {
     "name": "stdout",
     "output_type": "stream",
     "text": [
      "각 클래스 빈도수:\n",
      "[[   0    1    2    3    4    5    6    7    8    9   10   11   12   13\n",
      "    14   15   16   17   18   19   20   21   22   23   24   25   26   27\n",
      "    28   29   30   31   32   33   34   35   36   37   38   39   40   41\n",
      "    42   43   44   45]\n",
      " [  55  432   74 3159 1949   17   48   16  139  101  124  390   49  172\n",
      "    26   20  444   39   66  549  269  100   15   41   62   92   24   15\n",
      "    48   19   45   39   32   11   50   10   49   19   19   24   36   30\n",
      "    13   21   12   18]]\n"
     ]
    }
   ],
   "source": [
    "# 각 주제별 뉴스의 수, 수치화\n",
    "unique_elements, counts_elements = np.unique(y_train, return_counts=True)\n",
    "print(\"각 클래스 빈도수:\")\n",
    "print(np.asarray((unique_elements, counts_elements)))"
   ]
  },
  {
   "cell_type": "markdown",
   "metadata": {},
   "source": [
    "#### 데이터 decode\n",
    "\n",
    "데이터가 이미 벡터화되어 있는 상태로, 원본 문장으로 복원"
   ]
  },
  {
   "cell_type": "code",
   "execution_count": 15,
   "metadata": {},
   "outputs": [
    {
     "name": "stdout",
     "output_type": "stream",
     "text": [
      "Downloading data from https://storage.googleapis.com/tensorflow/tf-keras-datasets/reuters_word_index.json\n",
      "550378/550378 [==============================] - 0s 0us/step\n"
     ]
    }
   ],
   "source": [
    "# 단어 -> 수치형 사전\n",
    "word_index = reuters.get_word_index(path=\"reuters_word_index.json\")"
   ]
  },
  {
   "cell_type": "code",
   "execution_count": 17,
   "metadata": {},
   "outputs": [],
   "source": [
    "# 수치 -> 단어 사전\n",
    "index_to_word = {index + 3: word for word, index in word_index.items()}\n",
    "for index, token in enumerate((\"<pad>\", \"<sos>\", \"<unk>\")):  # 토큰 추가\n",
    "    index_to_word[index] = token"
   ]
  },
  {
   "cell_type": "code",
   "execution_count": 43,
   "metadata": {},
   "outputs": [],
   "source": [
    "def decoding(data):\n",
    "    decoded = []\n",
    "    for i in range(len(data)):\n",
    "        t = \" \".join([index_to_word[index] for index in data[i]])\n",
    "        decoded.append(t)\n",
    "    return decoded\n",
    "\n",
    "x_train = decoding(x_train)\n",
    "x_test = decoding(x_test)"
   ]
  },
  {
   "cell_type": "markdown",
   "metadata": {},
   "source": [
    "#### 벡터화"
   ]
  },
  {
   "cell_type": "code",
   "execution_count": 25,
   "metadata": {},
   "outputs": [],
   "source": [
    "# TF-IDF변환을 위한 DTM\n",
    "dtmvector = CountVectorizer()\n",
    "x_train_dtm = dtmvector.fit_transform(x_train)"
   ]
  },
  {
   "cell_type": "code",
   "execution_count": 26,
   "metadata": {},
   "outputs": [],
   "source": [
    "# TF-IDF\n",
    "tfidf_transformer = TfidfTransformer()\n",
    "tfidfv = tfidf_transformer.fit_transform(x_train_dtm)"
   ]
  },
  {
   "cell_type": "code",
   "execution_count": 63,
   "metadata": {},
   "outputs": [],
   "source": [
    "# 테스트 데이터 tfidf 변환\n",
    "x_test_dtm = dtmvector.transform(x_test)\n",
    "tfidfv_test = tfidf_transformer.transform(x_test_dtm)"
   ]
  },
  {
   "cell_type": "markdown",
   "metadata": {},
   "source": [
    "## 분류 모델"
   ]
  },
  {
   "cell_type": "code",
   "execution_count": 28,
   "metadata": {},
   "outputs": [],
   "source": [
    "# 혼동행렬 그리기\n",
    "def graph_confusion_matrix(model, x_test, y_test):  # , classes_name):\n",
    "    df_cm = pd.DataFrame(\n",
    "        confusion_matrix(y_test, model.predict(x_test))\n",
    "    )  # , index=classes_name, columns=classes_name)\n",
    "    fig = plt.figure(figsize=(12, 12))\n",
    "    heatmap = sns.heatmap(df_cm, annot=True, fmt=\"d\")\n",
    "    heatmap.yaxis.set_ticklabels(\n",
    "        heatmap.yaxis.get_ticklabels(), rotation=0, ha=\"right\", fontsize=12\n",
    "    )\n",
    "    heatmap.xaxis.set_ticklabels(\n",
    "        heatmap.xaxis.get_ticklabels(), rotation=45, ha=\"right\", fontsize=12\n",
    "    )\n",
    "    plt.ylabel(\"label\")\n",
    "    plt.xlabel(\"predicted value\")"
   ]
  },
  {
   "cell_type": "markdown",
   "metadata": {},
   "source": [
    "### 단어 사전 크기 별 비교"
   ]
  },
  {
   "cell_type": "code",
   "execution_count": 93,
   "metadata": {},
   "outputs": [],
   "source": [
    "# 한번에 비교하는 함수 사용\n",
    "def compare_model(word_vocab_size):\n",
    "    def create_data(word_vocab_size):\n",
    "        # 인코딩된 데이터를 복원\n",
    "        def decoding(data):\n",
    "            decoded = []\n",
    "            for i in range(len(data)):\n",
    "                t = \" \".join([index_to_word[index] for index in data[i]])\n",
    "                decoded.append(t)\n",
    "            return decoded\n",
    "\n",
    "        # 데이터 로드 및 분리\n",
    "        (x_train, y_train), (x_test, y_test) = reuters.load_data(\n",
    "            num_words=word_vocab_size, test_split=0.2\n",
    "        )\n",
    "\n",
    "        # 단어 -> 수치형 사전\n",
    "        word_index = reuters.get_word_index(path=\"reuters_word_index.json\")\n",
    "        # 수치 -> 단어 사전\n",
    "        index_to_word = {index + 3: word for word, index in word_index.items()}\n",
    "        for index, token in enumerate((\"<pad>\", \"<sos>\", \"<unk>\")):  # 토큰 추가\n",
    "            index_to_word[index] = token\n",
    "\n",
    "        x_train = decoding(x_train)\n",
    "        x_test = decoding(x_test)\n",
    "\n",
    "        # TF-IDF변환을 위한 DTM\n",
    "        dtmvector = CountVectorizer()\n",
    "        x_train_dtm = dtmvector.fit_transform(x_train)\n",
    "\n",
    "        # TF-IDF\n",
    "        tfidf_transformer = TfidfTransformer()\n",
    "        tfidfv = tfidf_transformer.fit_transform(x_train_dtm)\n",
    "\n",
    "        # 테스트 데이터 tfidf 변환\n",
    "        x_test_dtm = dtmvector.transform(x_test)\n",
    "        tfidfv_test = tfidf_transformer.transform(x_test_dtm)\n",
    "\n",
    "        return tfidfv, y_train, tfidfv_test, y_test\n",
    "\n",
    "    # 모델을 가지고 성능을 확인\n",
    "    def predict_model(model, tfidfv, y_train, tfidfv_test, y_test):\n",
    "        model.fit(tfidfv, y_train)\n",
    "        predicted = model.predict(tfidfv_test)\n",
    "        print(str(model))\n",
    "        acc = accuracy_score(y_test, predicted)\n",
    "        print(\"정확도:\", acc)\n",
    "        # 정밀도, 재현율, f1스코어 확인\n",
    "        # print(classification_report(y_test, model.predict(tfidfv_test), zero_division=0))\n",
    "        # 클래스가 많고 불균형이 있으면 average=\"weighted\"를 사용\n",
    "        f1 = f1_score(y_test, predicted, average=\"weighted\")\n",
    "        print(\"f1 score : \", f1)\n",
    "\n",
    "        return acc, f1\n",
    "\n",
    "    # 주어진 단어사전 크기로 데이터 생성\n",
    "    tfidfv, y_train, tfidfv_test, y_test = create_data(word_vocab_size)\n",
    "\n",
    "    # lms에서의 파라미터를 그대로 사용\n",
    "    models = [\n",
    "        MultinomialNB(),\n",
    "        ComplementNB(),\n",
    "        LogisticRegression(C=10000, penalty=\"l2\", max_iter=3000),\n",
    "        LinearSVC(C=1000, penalty=\"l1\", max_iter=3000, dual=False),\n",
    "        DecisionTreeClassifier(max_depth=10, random_state=0),\n",
    "        RandomForestClassifier(5, random_state=0),\n",
    "        GradientBoostingClassifier(random_state=0),\n",
    "        VotingClassifier(\n",
    "            [\n",
    "                (\n",
    "                    \"LogisticRegression\",\n",
    "                    LogisticRegression(C=10000, penalty=\"l2\", max_iter=3000),\n",
    "                ),\n",
    "                (\"ComplementNB\", ComplementNB()),\n",
    "                (\n",
    "                    \"GradientBoostingClassifier\",\n",
    "                    GradientBoostingClassifier(random_state=0),\n",
    "                ),\n",
    "            ],\n",
    "            voting=\"soft\",\n",
    "        ),\n",
    "    ]\n",
    "\n",
    "    accs = []\n",
    "    f1s = []\n",
    "\n",
    "    # 각 모델별 성능 측정\n",
    "    for m in models:\n",
    "        acc, f1 = predict_model(m, tfidfv, y_train, tfidfv_test, y_test)\n",
    "        accs.append(acc)\n",
    "        f1s.append(f1)\n",
    "        print(\"\\n\")\n",
    "\n",
    "    print(\"평균 정확도 : \", np.mean(accs))\n",
    "    print(\"평균 f1 score : \", np.mean(f1s))\n",
    "\n",
    "    return accs, f1s"
   ]
  },
  {
   "cell_type": "markdown",
   "metadata": {},
   "source": [
    "가이드대로 무제한과 5천개 모델 비교  \n",
    "무제한의 경우 30979개"
   ]
  },
  {
   "cell_type": "code",
   "execution_count": 8,
   "metadata": {},
   "outputs": [],
   "source": [
    "(x_train, y_train), (x_test, y_test) = reuters.load_data(num_words=None, test_split=0.2)"
   ]
  },
  {
   "cell_type": "code",
   "execution_count": 68,
   "metadata": {},
   "outputs": [
    {
     "data": {
      "text/plain": [
       "30979"
      ]
     },
     "execution_count": 68,
     "metadata": {},
     "output_type": "execute_result"
    }
   ],
   "source": [
    "len(reuters.get_word_index())"
   ]
  },
  {
   "cell_type": "code",
   "execution_count": 18,
   "metadata": {},
   "outputs": [
    {
     "name": "stdout",
     "output_type": "stream",
     "text": [
      "MultinomialNB()\n",
      "정확도: 0.5997328584149599\n",
      "f1 score :  0.5045670886188424\n",
      "\n",
      "\n",
      "ComplementNB()\n",
      "정확도: 0.7649154051647373\n",
      "f1 score :  0.7346534179503126\n",
      "\n",
      "\n",
      "LogisticRegression(C=10000, max_iter=3000)\n",
      "정확도: 0.811219946571683\n",
      "f1 score :  0.805548394682704\n",
      "\n",
      "\n"
     ]
    },
    {
     "name": "stderr",
     "output_type": "stream",
     "text": [
      "c:\\Users\\zzoon\\anaconda3\\envs\\aiffel\\lib\\site-packages\\sklearn\\svm\\_base.py:1235: ConvergenceWarning: Liblinear failed to converge, increase the number of iterations.\n",
      "  warnings.warn(\n"
     ]
    },
    {
     "name": "stdout",
     "output_type": "stream",
     "text": [
      "LinearSVC(C=1000, dual=False, max_iter=3000, penalty='l1')\n",
      "정확도: 0.7876224398931434\n",
      "f1 score :  0.7836550341037456\n",
      "\n",
      "\n",
      "DecisionTreeClassifier(max_depth=10, random_state=0)\n",
      "정확도: 0.6211041852181657\n",
      "f1 score :  0.5769283128518847\n",
      "\n",
      "\n",
      "RandomForestClassifier(n_estimators=5, random_state=0)\n",
      "정확도: 0.6544968833481746\n",
      "f1 score :  0.6225909375608356\n",
      "\n",
      "\n",
      "GradientBoostingClassifier(random_state=0)\n",
      "정확도: 0.7680320569902048\n",
      "f1 score :  0.7627808003795614\n",
      "\n",
      "\n",
      "VotingClassifier(estimators=[('LogisticRegression',\n",
      "                              LogisticRegression(C=10000, max_iter=3000)),\n",
      "                             ('ComplementNB', ComplementNB()),\n",
      "                             ('GradientBoostingClassifier',\n",
      "                              GradientBoostingClassifier(random_state=0))],\n",
      "                 voting='soft')\n",
      "정확도: 0.8161175422974176\n",
      "f1 score :  0.8114868325185072\n",
      "\n",
      "\n",
      "평균 정확도 :  0.7279051647373107\n",
      "평균 f1 score :  0.7002763523332991\n"
     ]
    }
   ],
   "source": [
    "acc_none, f1_none = compare_model(None)"
   ]
  },
  {
   "cell_type": "code",
   "execution_count": 20,
   "metadata": {},
   "outputs": [
    {
     "name": "stdout",
     "output_type": "stream",
     "text": [
      "MultinomialNB()\n",
      "정확도: 0.6731967943009796\n",
      "f1 score :  0.6012501291711391\n",
      "\n",
      "\n",
      "ComplementNB()\n",
      "정확도: 0.7707034728406055\n",
      "f1 score :  0.7458990404916549\n",
      "\n",
      "\n",
      "LogisticRegression(C=10000, max_iter=3000)\n",
      "정확도: 0.8058771148708815\n",
      "f1 score :  0.7999522035295096\n",
      "\n",
      "\n"
     ]
    },
    {
     "name": "stderr",
     "output_type": "stream",
     "text": [
      "c:\\Users\\zzoon\\anaconda3\\envs\\aiffel\\lib\\site-packages\\sklearn\\svm\\_base.py:1235: ConvergenceWarning: Liblinear failed to converge, increase the number of iterations.\n",
      "  warnings.warn(\n"
     ]
    },
    {
     "name": "stdout",
     "output_type": "stream",
     "text": [
      "LinearSVC(C=1000, dual=False, max_iter=3000, penalty='l1')\n",
      "정확도: 0.7711487088156723\n",
      "f1 score :  0.7675078690609342\n",
      "\n",
      "\n",
      "DecisionTreeClassifier(max_depth=10, random_state=0)\n",
      "정확도: 0.6179875333926982\n",
      "f1 score :  0.5729970881280324\n",
      "\n",
      "\n",
      "RandomForestClassifier(n_estimators=5, random_state=0)\n",
      "정확도: 0.701246660730187\n",
      "f1 score :  0.6770217603524399\n",
      "\n",
      "\n",
      "GradientBoostingClassifier(random_state=0)\n",
      "정확도: 0.7666963490650045\n",
      "f1 score :  0.7649877687417499\n",
      "\n",
      "\n",
      "VotingClassifier(estimators=[('LogisticRegression',\n",
      "                              LogisticRegression(C=10000, max_iter=3000)),\n",
      "                             ('ComplementNB', ComplementNB()),\n",
      "                             ('GradientBoostingClassifier',\n",
      "                              GradientBoostingClassifier(random_state=0))],\n",
      "                 voting='soft')\n",
      "정확도: 0.8156723063223509\n",
      "f1 score :  0.8123343226239979\n",
      "\n",
      "\n",
      "평균 정확도 :  0.7403161175422974\n",
      "평균 f1 score :  0.7177437727624322\n"
     ]
    }
   ],
   "source": [
    "acc_5k, f1_5k = compare_model(5000)"
   ]
  },
  {
   "cell_type": "code",
   "execution_count": 60,
   "metadata": {},
   "outputs": [
    {
     "name": "stdout",
     "output_type": "stream",
     "text": [
      "MultinomialNB()\n",
      "정확도: 0.6874443455031166\n",
      "f1 score :  0.6266168450864102\n",
      "\n",
      "\n",
      "ComplementNB()\n",
      "정확도: 0.7644701691896705\n",
      "f1 score :  0.7369718160654113\n",
      "\n",
      "\n",
      "LogisticRegression(C=10000, max_iter=3000)\n",
      "정확도: 0.7907390917186109\n",
      "f1 score :  0.7845727090587516\n",
      "\n",
      "\n"
     ]
    },
    {
     "name": "stderr",
     "output_type": "stream",
     "text": [
      "c:\\Users\\zzoon\\anaconda3\\envs\\aiffel\\lib\\site-packages\\sklearn\\svm\\_base.py:1235: ConvergenceWarning: Liblinear failed to converge, increase the number of iterations.\n",
      "  warnings.warn(\n"
     ]
    },
    {
     "name": "stdout",
     "output_type": "stream",
     "text": [
      "LinearSVC(C=1000, dual=False, max_iter=3000, penalty='l1')\n",
      "정확도: 0.7582368655387355\n",
      "f1 score :  0.755429557093784\n",
      "\n",
      "\n",
      "DecisionTreeClassifier(max_depth=10, random_state=0)\n",
      "정확도: 0.6260017809439002\n",
      "f1 score :  0.580006731123168\n",
      "\n",
      "\n",
      "RandomForestClassifier(n_estimators=5, random_state=0)\n",
      "정확도: 0.6856634016028496\n",
      "f1 score :  0.6591675010462239\n",
      "\n",
      "\n",
      "GradientBoostingClassifier(random_state=0)\n",
      "정확도: 0.7715939447907391\n",
      "f1 score :  0.7684677559515952\n",
      "\n",
      "\n",
      "VotingClassifier(estimators=[('LogisticRegression',\n",
      "                              LogisticRegression(C=10000, max_iter=3000)),\n",
      "                             ('ComplementNB', ComplementNB()),\n",
      "                             ('GradientBoostingClassifier',\n",
      "                              GradientBoostingClassifier(random_state=0))],\n",
      "                 voting='soft')\n",
      "정확도: 0.8063223508459484\n",
      "f1 score :  0.8023293437010324\n",
      "\n",
      "\n",
      "평균 정확도 :  0.7363089937666963\n",
      "평균 f1 score :  0.7141952823907971\n"
     ]
    }
   ],
   "source": [
    "acc_3k, f1_3k = compare_model(3000)"
   ]
  },
  {
   "cell_type": "code",
   "execution_count": 35,
   "metadata": {},
   "outputs": [
    {
     "name": "stdout",
     "output_type": "stream",
     "text": [
      "MultinomialNB()\n",
      "정확도: 0.6856634016028496\n",
      "f1 score :  0.6365038314524903\n",
      "\n",
      "\n",
      "ComplementNB()\n",
      "정확도: 0.7346393588601959\n",
      "f1 score :  0.6972989886481723\n",
      "\n",
      "\n",
      "LogisticRegression(C=10000, max_iter=3000)\n",
      "정확도: 0.7515583259127337\n",
      "f1 score :  0.7458662316204984\n",
      "\n",
      "\n"
     ]
    },
    {
     "name": "stderr",
     "output_type": "stream",
     "text": [
      "c:\\Users\\zzoon\\anaconda3\\envs\\aiffel\\lib\\site-packages\\sklearn\\svm\\_base.py:1235: ConvergenceWarning: Liblinear failed to converge, increase the number of iterations.\n",
      "  warnings.warn(\n"
     ]
    },
    {
     "name": "stdout",
     "output_type": "stream",
     "text": [
      "LinearSVC(C=1000, dual=False, max_iter=3000, penalty='l1')\n",
      "정확도: 0.7235084594835263\n",
      "f1 score :  0.7192582585213461\n",
      "\n",
      "\n",
      "DecisionTreeClassifier(max_depth=10, random_state=0)\n",
      "정확도: 0.6179875333926982\n",
      "f1 score :  0.5452644109309468\n",
      "\n",
      "\n",
      "RandomForestClassifier(n_estimators=5, random_state=0)\n",
      "정확도: 0.707479964381122\n",
      "f1 score :  0.6828470246563969\n",
      "\n",
      "\n",
      "GradientBoostingClassifier(random_state=0)\n",
      "정확도: 0.7466607301869991\n",
      "f1 score :  0.7391611033422827\n",
      "\n",
      "\n",
      "VotingClassifier(estimators=[('LogisticRegression',\n",
      "                              LogisticRegression(C=10000, max_iter=3000)),\n",
      "                             ('ComplementNB', ComplementNB()),\n",
      "                             ('GradientBoostingClassifier',\n",
      "                              GradientBoostingClassifier(random_state=0))],\n",
      "                 voting='soft')\n",
      "정확도: 0.7693677649154052\n",
      "f1 score :  0.7633561254198039\n",
      "\n",
      "\n",
      "평균 정확도 :  0.7171081923419412\n",
      "평균 f1 score :  0.6911944968239923\n"
     ]
    }
   ],
   "source": [
    "acc_1k, f1_1k = compare_model(1000)"
   ]
  },
  {
   "cell_type": "code",
   "execution_count": 42,
   "metadata": {},
   "outputs": [
    {
     "name": "stdout",
     "output_type": "stream",
     "text": [
      "MultinomialNB()\n",
      "정확도: 0.5988423864648263\n",
      "f1 score :  0.5419149114393443\n",
      "\n",
      "\n",
      "ComplementNB()\n",
      "정확도: 0.6620658949243099\n",
      "f1 score :  0.6081920817518673\n",
      "\n",
      "\n",
      "LogisticRegression(C=10000, max_iter=3000)\n",
      "정확도: 0.7119323241317899\n",
      "f1 score :  0.7089563410836204\n",
      "\n",
      "\n"
     ]
    },
    {
     "name": "stderr",
     "output_type": "stream",
     "text": [
      "c:\\Users\\zzoon\\anaconda3\\envs\\aiffel\\lib\\site-packages\\sklearn\\svm\\_base.py:1235: ConvergenceWarning: Liblinear failed to converge, increase the number of iterations.\n",
      "  warnings.warn(\n"
     ]
    },
    {
     "name": "stdout",
     "output_type": "stream",
     "text": [
      "LinearSVC(C=1000, dual=False, max_iter=3000, penalty='l1')\n",
      "정확도: 0.7092609082813891\n",
      "f1 score :  0.7140647534695791\n",
      "\n",
      "\n",
      "DecisionTreeClassifier(max_depth=10, random_state=0)\n",
      "정확도: 0.6064113980409617\n",
      "f1 score :  0.5308414494522599\n",
      "\n",
      "\n",
      "RandomForestClassifier(n_estimators=5, random_state=0)\n",
      "정확도: 0.6821015138023152\n",
      "f1 score :  0.659158201248989\n",
      "\n",
      "\n",
      "GradientBoostingClassifier(random_state=0)\n",
      "정확도: 0.6981300089047195\n",
      "f1 score :  0.6906597791851771\n",
      "\n",
      "\n",
      "VotingClassifier(estimators=[('LogisticRegression',\n",
      "                              LogisticRegression(C=10000, max_iter=3000)),\n",
      "                             ('ComplementNB', ComplementNB()),\n",
      "                             ('GradientBoostingClassifier',\n",
      "                              GradientBoostingClassifier(random_state=0))],\n",
      "                 voting='soft')\n",
      "정확도: 0.7355298308103295\n",
      "f1 score :  0.7331294687804717\n",
      "\n",
      "\n",
      "평균 정확도 :  0.6755342831700801\n",
      "평균 f1 score :  0.6483646233014135\n"
     ]
    }
   ],
   "source": [
    "acc_300, f1_300 = compare_model(300)"
   ]
  },
  {
   "cell_type": "markdown",
   "metadata": {},
   "source": [
    "#### 시각화\n",
    "단어사전의 크기에 따른 acc, f1-score를 시각화"
   ]
  },
  {
   "cell_type": "code",
   "execution_count": 21,
   "metadata": {},
   "outputs": [],
   "source": [
    "model_name = [\n",
    "    \"MultinomialNB\",\n",
    "    \"ComplementNB\",\n",
    "    \"LogisticRegression\",\n",
    "    \"LinearSVC\",\n",
    "    \"DecisionTree\",\n",
    "    \"RandomForest\",\n",
    "    \"GradientBoost\",\n",
    "    \"Voting\",\n",
    "]"
   ]
  },
  {
   "cell_type": "code",
   "execution_count": 87,
   "metadata": {},
   "outputs": [],
   "source": [
    "df_acc = pd.DataFrame(\n",
    "    {\n",
    "        \"acc_300\": acc_300,\n",
    "        \"acc_1k\": acc_1k,\n",
    "        \"acc_3k\": acc_3k,\n",
    "        \"acc_5k\": acc_5k,\n",
    "        \"acc_None\": acc_none,\n",
    "    },\n",
    "    index=model_name,\n",
    ")"
   ]
  },
  {
   "cell_type": "code",
   "execution_count": 62,
   "metadata": {},
   "outputs": [],
   "source": [
    "df_f1 = pd.DataFrame(\n",
    "    {\n",
    "        \"f1_300\": f1_300,\n",
    "        \"f1_1k\": f1_1k,\n",
    "        \"f1_3k\": f1_3k,\n",
    "        \"f1_5k\": f1_5k,\n",
    "        \"f1_None\": f1_none,\n",
    "    },\n",
    "    index=model_name,\n",
    ")"
   ]
  },
  {
   "cell_type": "code",
   "execution_count": 63,
   "metadata": {},
   "outputs": [],
   "source": [
    "df_acc_T = df_acc.transpose()\n",
    "df_f1_T = df_f1.transpose()"
   ]
  },
  {
   "cell_type": "code",
   "execution_count": 64,
   "metadata": {},
   "outputs": [
    {
     "data": {
      "image/png": "[encoded data removed]",
      "text/plain": [
       "<Figure size 640x480 with 1 Axes>"
      ]
     },
     "metadata": {},
     "output_type": "display_data"
    }
   ],
   "source": [
    "df_acc_T.plot()\n",
    "plt.title(\"Accuracy\")\n",
    "plt.show()"
   ]
  },
  {
   "cell_type": "code",
   "execution_count": 65,
   "metadata": {},
   "outputs": [
    {
     "data": {
      "image/png": "[encoded data removed]",
      "text/plain": [
       "<Figure size 640x480 with 1 Axes>"
      ]
     },
     "metadata": {},
     "output_type": "display_data"
    }
   ],
   "source": [
    "df_f1_T.plot()\n",
    "plt.title(\"F1 Score\")\n",
    "plt.show()"
   ]
  },
  {
   "cell_type": "markdown",
   "metadata": {},
   "source": [
    "#### 연산 시간 비교"
   ]
  },
  {
   "cell_type": "code",
   "execution_count": 82,
   "metadata": {},
   "outputs": [],
   "source": [
    "# 단어 사전 크기\n",
    "size = [\"300\", \"1000\", \"3000\", \"5000\", \"unlimited\"]\n",
    "\n",
    "# 시간 (초)\n",
    "time = [\n",
    "    1453.4,\n",
    "    1891.1,\n",
    "    2107.8,\n",
    "    2403.7,\n",
    "    2461.3,\n",
    "]"
   ]
  },
  {
   "cell_type": "code",
   "execution_count": 83,
   "metadata": {},
   "outputs": [
    {
     "data": {
      "text/plain": [
       "Text(0.5, 1.0, 'computing time (second)')"
      ]
     },
     "execution_count": 83,
     "metadata": {},
     "output_type": "execute_result"
    },
    {
     "data": {
      "image/png": "[encoded data removed]",
      "text/plain": [
       "<Figure size 640x480 with 1 Axes>"
      ]
     },
     "metadata": {},
     "output_type": "display_data"
    }
   ],
   "source": [
    "plt.plot(size, time, \"-o\")\n",
    "plt.title(\"computing time (second)\")"
   ]
  },
  {
   "cell_type": "markdown",
   "metadata": {},
   "source": [
    "### 딥러닝 모델 성능 확인\n",
    "\n",
    "일반적으로 성능이 제일 좋았던 단어사전 크기 5000개로 테스트  \n",
    "\n",
    "감성분석에서 성능이 좋았던 BiLSTM으로 성능 테스트\n",
    "\n",
    "accuracy: 0.7351  \n",
    "f1 : 0.74      \n",
    "> 하지만 희소 클래스는 예측을 잘 못하여 macro f1 avg는 0.29로 낮다\n"
   ]
  },
  {
   "cell_type": "code",
   "execution_count": 2,
   "metadata": {},
   "outputs": [],
   "source": [
    "import tensorflow as tf"
   ]
  },
  {
   "cell_type": "code",
   "execution_count": 3,
   "metadata": {},
   "outputs": [],
   "source": [
    "# 데이터 로드\n",
    "def create_data(word_vocab_size):\n",
    "    # 인코딩된 데이터를 복원\n",
    "    def decoding(data):\n",
    "        decoded = []\n",
    "        for i in range(len(data)):\n",
    "            t = \" \".join([index_to_word[index] for index in data[i]])\n",
    "            decoded.append(t)\n",
    "        return decoded\n",
    "\n",
    "    # 데이터 로드 및 분리\n",
    "    (x_train, y_train), (x_test, y_test) = reuters.load_data(\n",
    "        num_words=word_vocab_size, test_split=0.2\n",
    "    )\n",
    "\n",
    "    # 단어 -> 수치형 사전\n",
    "    word_index = reuters.get_word_index(path=\"reuters_word_index.json\")\n",
    "    # 수치 -> 단어 사전\n",
    "    index_to_word = {index + 3: word for word, index in word_index.items()}\n",
    "    for index, token in enumerate((\"<pad>\", \"<sos>\", \"<unk>\")):  # 토큰 추가\n",
    "        index_to_word[index] = token\n",
    "\n",
    "    x_train = decoding(x_train)\n",
    "    x_test = decoding(x_test)\n",
    "\n",
    "    # TF-IDF변환을 위한 DTM\n",
    "    dtmvector = CountVectorizer()\n",
    "    x_train_dtm = dtmvector.fit_transform(x_train)\n",
    "\n",
    "    # TF-IDF\n",
    "    tfidf_transformer = TfidfTransformer()\n",
    "    tfidfv = tfidf_transformer.fit_transform(x_train_dtm)\n",
    "\n",
    "    # 테스트 데이터 tfidf 변환\n",
    "    x_test_dtm = dtmvector.transform(x_test)\n",
    "    tfidfv_test = tfidf_transformer.transform(x_test_dtm)\n",
    "\n",
    "    return tfidfv, y_train, tfidfv_test, y_test"
   ]
  },
  {
   "cell_type": "code",
   "execution_count": 6,
   "metadata": {},
   "outputs": [],
   "source": [
    "tfidfv, y_train, tfidfv_test, y_test = create_data(5000)"
   ]
  },
  {
   "cell_type": "code",
   "execution_count": 56,
   "metadata": {},
   "outputs": [],
   "source": [
    "lstm_size = 128\n",
    "model_lstm = tf.keras.Sequential()\n",
    "# 희소행렬을 입력으로 받기위한 레이어\n",
    "model_lstm.add(tf.keras.layers.Dense(units=lstm_size, input_shape=(tfidfv.shape[1],)))\n",
    "model_lstm.add(tf.keras.layers.Reshape((1, lstm_size)))\n",
    "\n",
    "# 양방향 lstm. dropout 0.2도 적용\n",
    "model_lstm.add(\n",
    "    tf.keras.layers.Bidirectional(\n",
    "        tf.keras.layers.LSTM(lstm_size, return_sequences=True, dropout=0.1)\n",
    "    )\n",
    ")\n",
    "model_lstm.add(\n",
    "    tf.keras.layers.Bidirectional(tf.keras.layers.LSTM(lstm_size, dropout=0.1))\n",
    ")\n",
    "\n",
    "# 모델 복잡성을 위해 dense을 2층 쌓음\n",
    "model_lstm.add(tf.keras.layers.Dense(lstm_size, activation=\"relu\"))\n",
    "model_lstm.add(tf.keras.layers.Dense(int(lstm_size / 2), activation=\"relu\"))\n",
    "model_lstm.add(tf.keras.layers.Dense(46, activation=\"softmax\"))\n",
    "\n",
    "model_lstm.compile(\n",
    "    optimizer=\"adam\",\n",
    "    loss=\"sparse_categorical_crossentropy\",\n",
    "    metrics=[\"accuracy\"],\n",
    ")"
   ]
  },
  {
   "cell_type": "code",
   "execution_count": 57,
   "metadata": {},
   "outputs": [
    {
     "name": "stdout",
     "output_type": "stream",
     "text": [
      "Epoch 1/50\n"
     ]
    },
    {
     "name": "stderr",
     "output_type": "stream",
     "text": [
      "c:\\Users\\zzoon\\anaconda3\\envs\\aiffel\\lib\\site-packages\\tensorflow\\python\\framework\\indexed_slices.py:444: UserWarning: Converting sparse IndexedSlices(IndexedSlices(indices=Tensor(\"gradient_tape/sequential_9/dense_63/embedding_lookup_sparse/Reshape_1:0\", shape=(None,), dtype=int32), values=Tensor(\"gradient_tape/sequential_9/dense_63/embedding_lookup_sparse/Reshape:0\", shape=(None, 128), dtype=float32), dense_shape=Tensor(\"gradient_tape/sequential_9/dense_63/embedding_lookup_sparse/Cast:0\", shape=(2,), dtype=int32))) to a dense Tensor of unknown shape. This may consume a large amount of memory.\n",
      "  warnings.warn(\n"
     ]
    },
    {
     "name": "stdout",
     "output_type": "stream",
     "text": [
      "281/281 [==============================] - 10s 17ms/step - loss: 1.8570 - accuracy: 0.5110 - val_loss: 1.4526 - val_accuracy: 0.6140\n",
      "Epoch 2/50\n",
      "281/281 [==============================] - 4s 14ms/step - loss: 1.2701 - accuracy: 0.6454 - val_loss: 1.3633 - val_accuracy: 0.6394\n",
      "Epoch 3/50\n",
      "281/281 [==============================] - 5s 16ms/step - loss: 1.0428 - accuracy: 0.7191 - val_loss: 1.1943 - val_accuracy: 0.7021\n",
      "Epoch 4/50\n",
      "281/281 [==============================] - 4s 14ms/step - loss: 0.8229 - accuracy: 0.7867 - val_loss: 1.1933 - val_accuracy: 0.7008\n",
      "Epoch 5/50\n",
      "281/281 [==============================] - 4s 14ms/step - loss: 0.6779 - accuracy: 0.8193 - val_loss: 1.2024 - val_accuracy: 0.7195\n",
      "Epoch 6/50\n",
      "281/281 [==============================] - 4s 15ms/step - loss: 0.5609 - accuracy: 0.8496 - val_loss: 1.2292 - val_accuracy: 0.7262\n",
      "Epoch 7/50\n",
      "281/281 [==============================] - 4s 15ms/step - loss: 0.4856 - accuracy: 0.8657 - val_loss: 1.2652 - val_accuracy: 0.7351\n"
     ]
    }
   ],
   "source": [
    "EarlyStopping = tf.keras.callbacks.EarlyStopping(\n",
    "    monitor=\"val_loss\", patience=3, min_delta=0.0001\n",
    ")\n",
    "\n",
    "history_lstm = model_lstm.fit(\n",
    "    tfidfv,\n",
    "    y_train,\n",
    "    epochs=50,\n",
    "    batch_size=32,\n",
    "    validation_data=(tfidfv_test, y_test),\n",
    "    callbacks=[EarlyStopping],\n",
    ")"
   ]
  },
  {
   "cell_type": "code",
   "execution_count": 58,
   "metadata": {},
   "outputs": [
    {
     "name": "stdout",
     "output_type": "stream",
     "text": [
      "71/71 [==============================] - 2s 5ms/step\n"
     ]
    }
   ],
   "source": [
    "pred = model_lstm.predict(tfidfv_test)"
   ]
  },
  {
   "cell_type": "code",
   "execution_count": 59,
   "metadata": {},
   "outputs": [],
   "source": [
    "pred_classes = np.argmax(pred, axis=1)"
   ]
  },
  {
   "cell_type": "code",
   "execution_count": 60,
   "metadata": {},
   "outputs": [
    {
     "name": "stdout",
     "output_type": "stream",
     "text": [
      "              precision    recall  f1-score   support\n",
      "\n",
      "           0       0.41      0.58      0.48        12\n",
      "           1       0.66      0.62      0.64       105\n",
      "           2       0.65      0.55      0.59        20\n",
      "           3       0.92      0.93      0.93       813\n",
      "           4       0.83      0.86      0.85       474\n",
      "           5       0.00      0.00      0.00         5\n",
      "           6       0.50      0.57      0.53        14\n",
      "           7       0.00      0.00      0.00         3\n",
      "           8       0.43      0.74      0.54        38\n",
      "           9       0.61      0.80      0.69        25\n",
      "          10       0.63      0.73      0.68        30\n",
      "          11       0.53      0.57      0.55        83\n",
      "          12       0.00      0.00      0.00        13\n",
      "          13       0.33      0.30      0.31        37\n",
      "          14       0.00      0.00      0.00         2\n",
      "          15       0.00      0.00      0.00         9\n",
      "          16       0.62      0.73      0.67        99\n",
      "          17       0.00      0.00      0.00        12\n",
      "          18       0.47      0.35      0.40        20\n",
      "          19       0.67      0.63      0.65       133\n",
      "          20       0.46      0.50      0.48        70\n",
      "          21       0.49      0.67      0.56        27\n",
      "          22       0.00      0.00      0.00         7\n",
      "          23       0.00      0.00      0.00        12\n",
      "          24       0.47      0.37      0.41        19\n",
      "          25       0.53      0.65      0.58        31\n",
      "          26       0.00      0.00      0.00         8\n",
      "          27       0.00      0.00      0.00         4\n",
      "          28       0.18      0.30      0.22        10\n",
      "          29       0.00      0.00      0.00         4\n",
      "          30       0.16      0.25      0.19        12\n",
      "          31       0.00      0.00      0.00        13\n",
      "          32       0.45      0.50      0.48        10\n",
      "          33       0.80      0.80      0.80         5\n",
      "          34       0.23      0.43      0.30         7\n",
      "          35       0.00      0.00      0.00         6\n",
      "          36       0.00      0.00      0.00        11\n",
      "          37       0.00      0.00      0.00         2\n",
      "          38       0.00      0.00      0.00         3\n",
      "          39       0.00      0.00      0.00         5\n",
      "          40       0.00      0.00      0.00        10\n",
      "          41       0.33      0.12      0.18         8\n",
      "          42       0.00      0.00      0.00         3\n",
      "          43       0.00      0.00      0.00         6\n",
      "          44       0.50      0.80      0.62         5\n",
      "          45       0.00      0.00      0.00         1\n",
      "\n",
      "    accuracy                           0.74      2246\n",
      "   macro avg       0.28      0.31      0.29      2246\n",
      "weighted avg       0.71      0.74      0.72      2246\n",
      "\n"
     ]
    }
   ],
   "source": [
    "print(classification_report(y_test, pred_classes, zero_division=0))"
   ]
  },
  {
   "cell_type": "markdown",
   "metadata": {},
   "source": [
    "## 결론 및 회고\n",
    "\n",
    "### 단어사전 크기에 따른 비교\n",
    "단어사전 크기에 따른 성능의 추이를 보면 2가지로 분류할 수 있었다.  \n",
    "1. 단어사전 크기가 클 수록 성능이 증가  \n",
    "> ComplementNB, LogisticRegression, LinearSVC, DecisionTree, GradientBoost, Voting  \n",
    "\n",
    "* 이 부류 역시 단어사전이 5000->무제한으로 바뀔 때 성능향상이 미미하거나 소폭 감소하였다.  \n",
    "\n",
    "\n",
    "2. 단어 사전이 적정한 정도까지 성능이 오르다가 너무 많으면 성능이 떨어짐\n",
    "> MultinomialNB, RandomForest\n",
    "\n",
    "여기서 의외였던 건 RandomForest였는데, 성능자체는 DecisionTree보다 좋았지만, DecisionTree는 단어사전의 크기와 비례하여 성능이 향상되었지만, DecisionTree의 집합인 RandomForest는 다른 추이를 보였기 때문이다. \n",
    "> 영빈 퍼실님께서 우연의 결과일 것이라고 말씀하셨다.\n",
    "\n",
    "한가지 또 눈여겨 봤던 건 연산시간이었는데, 단어사전 5000개와 무제한 즉 3만개일 때의 차이가 적었던 것이었다. \n",
    "> 이에 대해서는 영빈 퍼실님이 무제한의 경우 iteration을 다 돌지 않고 빨리 끝냈을 것이라고 하셨다.   \n",
    "\n",
    "\n",
    "### 딥러닝 모델과의 비교\n",
    "bilstm으로 테스트해봤는데, 성능이 좀 좋게 나왔던 모델들과 그닥 차이가 없었다.  \n",
    "gpu가 되서인지는 모르겠지만, 연산시간도 부스팅이나 보팅보다 훨씬 빨랐다.  \n",
    "\n",
    "\n",
    "### 회고\n",
    "무제한 단어 사전의 경우 iteration이 일찍 종료되었을 것이라고 추정되는데, 일반적으로 단어 사전이 클수록 iteration 종료가 빠른건지 테스트를 해보고 싶었지만, 시간이 없어서 하지 못하였다.  \n",
    "딥러닝 모델은 하나를 그냥 테스트한 것 뿐이지만, 그래도 머신러닝보다 좋을 것이라는 생각이 있었는데, 비슷비슷하여서 좀 충격이었다. 처음에 dlthon에서 사용했던 셀프어텐션 인코더를 사용하려고 하였는데, 생각해보니 이게 nlp라도 입력데이터가 tf-idf화 되어있는 것이어서 적용을 못하였다. 비슷하게 rnn 계열 역시 데이터를 시퀀스적으로 볼텐데 tf-idf 테이블을 학습하고도 이정도 성능이 나온것에 신기해야 할 수도 있다고 생각하였다. "
   ]
  },
  {
   "cell_type": "markdown",
   "metadata": {},
   "source": []
  }
 ],
 "metadata": {
  "kernelspec": {
   "display_name": "aiffel",
   "language": "python",
   "name": "python3"
  },
  "language_info": {
   "codemirror_mode": {
    "name": "ipython",
    "version": 3
   },
   "file_extension": ".py",
   "mimetype": "text/x-python",
   "name": "python",
   "nbconvert_exporter": "python",
   "pygments_lexer": "ipython3",
   "version": "3.9.19"
  }
 },
 "nbformat": 4,
 "nbformat_minor": 2
}
