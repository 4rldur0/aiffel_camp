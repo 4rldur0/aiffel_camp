{
 "cells": [
  {
   "cell_type": "markdown",
   "metadata": {},
   "source": [
    "## klue nsmc 모델\n",
    "klue : 한국어 버전 glue   \n",
    "nsmc : Naver Sentiment Movie Corpus, 네이버 영화리뷰 감정분석\n",
    "\n",
    "#### 루브릭\n",
    "1. 모델과 데이터를 정상적으로 불러오고, 작동하는 것을 확인하였다.\n",
    "2. Preprocessing을 개선하고, fine-tuning을 통해 모델의 성능을 개선시켰다.  \n",
    "    max_padding 512 -> 32\n",
    "3. 모델 학습에 Bucketing을 성공적으로 적용하고, 그 결과를 비교분석하였다."
   ]
  },
  {
   "cell_type": "code",
   "execution_count": 1,
   "metadata": {},
   "outputs": [],
   "source": [
    "import tensorflow as tf\n",
    "import numpy as np\n",
    "import transformers\n",
    "import datasets"
   ]
  },
  {
   "cell_type": "markdown",
   "metadata": {},
   "source": [
    "### 데이터 셋"
   ]
  },
  {
   "cell_type": "code",
   "execution_count": 2,
   "metadata": {},
   "outputs": [],
   "source": [
    "from datasets import load_dataset\n",
    "\n",
    "dataset = load_dataset(\"nsmc\", trust_remote_code=True)"
   ]
  },
  {
   "cell_type": "code",
   "execution_count": 3,
   "metadata": {},
   "outputs": [
    {
     "data": {
      "text/plain": [
       "DatasetDict({\n",
       "    train: Dataset({\n",
       "        features: ['id', 'document', 'label'],\n",
       "        num_rows: 150000\n",
       "    })\n",
       "    test: Dataset({\n",
       "        features: ['id', 'document', 'label'],\n",
       "        num_rows: 50000\n",
       "    })\n",
       "})"
      ]
     },
     "execution_count": 3,
     "metadata": {},
     "output_type": "execute_result"
    }
   ],
   "source": [
    "dataset"
   ]
  },
  {
   "cell_type": "code",
   "execution_count": 4,
   "metadata": {},
   "outputs": [
    {
     "data": {
      "text/plain": [
       "{'id': '9976970', 'document': '아 더빙.. 진짜 짜증나네요 목소리', 'label': 0}"
      ]
     },
     "execution_count": 4,
     "metadata": {},
     "output_type": "execute_result"
    }
   ],
   "source": [
    "dataset[\"train\"][0]"
   ]
  },
  {
   "cell_type": "markdown",
   "metadata": {},
   "source": [
    "### 모델 및 토크나이저"
   ]
  },
  {
   "cell_type": "code",
   "execution_count": 20,
   "metadata": {},
   "outputs": [
    {
     "name": "stderr",
     "output_type": "stream",
     "text": [
      "Some weights of BertForSequenceClassification were not initialized from the model checkpoint at klue/bert-base and are newly initialized: ['classifier.bias', 'classifier.weight']\n",
      "You should probably TRAIN this model on a down-stream task to be able to use it for predictions and inference.\n"
     ]
    }
   ],
   "source": [
    "from transformers import AutoModelForSequenceClassification, AutoTokenizer\n",
    "\n",
    "model = AutoModelForSequenceClassification.from_pretrained(\"klue/bert-base\")\n",
    "tokenizer = AutoTokenizer.from_pretrained(\"klue/bert-base\")"
   ]
  },
  {
   "cell_type": "code",
   "execution_count": 42,
   "metadata": {},
   "outputs": [
    {
     "data": {
      "text/plain": [
       "512"
      ]
     },
     "execution_count": 42,
     "metadata": {},
     "output_type": "execute_result"
    }
   ],
   "source": [
    "# 버트는 기본적으로 패딩이 512개인데 리뷰데이터는 그렇게 길지 않음\n",
    "len(tokenizer(\"sample text\", padding=\"max_length\")[\"input_ids\"])"
   ]
  },
  {
   "cell_type": "code",
   "execution_count": 46,
   "metadata": {},
   "outputs": [],
   "source": [
    "# train 토큰화 길이\n",
    "train_documents = dataset[\"train\"][\"document\"]\n",
    "train_input_lengths = [len(tokenizer(doc)[\"input_ids\"]) for doc in train_documents]\n",
    "\n",
    "# test 토큰화하고 길이\n",
    "test_documents = dataset[\"test\"][\"document\"]\n",
    "test_input_lengths = [len(tokenizer(doc)[\"input_ids\"]) for doc in test_documents]\n",
    "\n",
    "# 평균\n",
    "avg_train_input_length = sum(train_input_lengths) / len(train_input_lengths)\n",
    "avg_test_input_length = sum(test_input_lengths) / len(test_input_lengths)"
   ]
  },
  {
   "cell_type": "code",
   "execution_count": 54,
   "metadata": {},
   "outputs": [
    {
     "name": "stdout",
     "output_type": "stream",
     "text": [
      "Train, Test 최대 길이:  142 122\n",
      "Train 평균 길이: 22.275513333333333\n",
      "Test 평균 길이: 22.35976\n"
     ]
    }
   ],
   "source": [
    "print(\"Train, Test 최대 길이: \", max(train_input_lengths), max(test_input_lengths))\n",
    "print(f\"Train 평균 길이: {avg_train_input_length}\")\n",
    "print(f\"Test 평균 길이: {avg_test_input_length}\")"
   ]
  },
  {
   "cell_type": "code",
   "execution_count": 55,
   "metadata": {},
   "outputs": [
    {
     "data": {
      "text/plain": [
       "32"
      ]
     },
     "execution_count": 55,
     "metadata": {},
     "output_type": "execute_result"
    }
   ],
   "source": [
    "tokenizer.model_max_length = 32\n",
    "len(tokenizer(\"sample text\", padding=\"max_length\")[\"input_ids\"])"
   ]
  },
  {
   "cell_type": "code",
   "execution_count": 56,
   "metadata": {},
   "outputs": [],
   "source": [
    "def transform(data):\n",
    "    return tokenizer(\n",
    "        text=data[\"document\"],\n",
    "        truncation=True,\n",
    "        padding=\"max_length\",\n",
    "        return_token_type_ids=False,\n",
    "    )"
   ]
  },
  {
   "cell_type": "code",
   "execution_count": 57,
   "metadata": {},
   "outputs": [
    {
     "data": {
      "application/vnd.jupyter.widget-view+json": {
       "model_id": "2bb59a85b3c1456ab26e6e3ee1fbf105",
       "version_major": 2,
       "version_minor": 0
      },
      "text/plain": [
       "Map:   0%|          | 0/150000 [00:00<?, ? examples/s]"
      ]
     },
     "metadata": {},
     "output_type": "display_data"
    },
    {
     "data": {
      "application/vnd.jupyter.widget-view+json": {
       "model_id": "027b8eff94d44d5bb1250022c30faf33",
       "version_major": 2,
       "version_minor": 0
      },
      "text/plain": [
       "Map:   0%|          | 0/50000 [00:00<?, ? examples/s]"
      ]
     },
     "metadata": {},
     "output_type": "display_data"
    }
   ],
   "source": [
    "dataset_tokenized = dataset.map(\n",
    "    transform,\n",
    "    batched=True,\n",
    ")"
   ]
  },
  {
   "cell_type": "code",
   "execution_count": 59,
   "metadata": {},
   "outputs": [],
   "source": [
    "train = dataset_tokenized[\"train\"]\n",
    "test = dataset_tokenized[\"test\"]"
   ]
  },
  {
   "cell_type": "code",
   "execution_count": 63,
   "metadata": {},
   "outputs": [],
   "source": [
    "# 학습시간이 길어 데이터 축소\n",
    "import random\n",
    "\n",
    "subset_size = 15000\n",
    "train_subset = train.shuffle(seed=42).select(range(subset_size))\n",
    "test_subset = test.shuffle(seed=42).select(range(int(subset_size / 3)))"
   ]
  },
  {
   "cell_type": "markdown",
   "metadata": {},
   "source": [
    "### 학습"
   ]
  },
  {
   "cell_type": "code",
   "execution_count": 75,
   "metadata": {},
   "outputs": [
    {
     "name": "stderr",
     "output_type": "stream",
     "text": [
      "c:\\Users\\zzoon\\anaconda3\\envs\\aiffel\\lib\\site-packages\\transformers\\training_args.py:1494: FutureWarning: `evaluation_strategy` is deprecated and will be removed in version 4.46 of 🤗 Transformers. Use `eval_strategy` instead\n",
      "  warnings.warn(\n"
     ]
    }
   ],
   "source": [
    "import numpy as np\n",
    "from transformers import Trainer, TrainingArguments\n",
    "\n",
    "output_dir = \"model/nsmc/\"\n",
    "\n",
    "training_arguments = TrainingArguments(\n",
    "    output_dir,  # output이 저장될 경로\n",
    "    evaluation_strategy=\"epoch\",  # evaluation하는 빈도\n",
    "    learning_rate=2e-5,  # learning_rate\n",
    "    warmup_steps=500,\n",
    "    per_device_train_batch_size=8,  # 각 device 당 batch size\n",
    "    per_device_eval_batch_size=8,  # evaluation 시에 batch size\n",
    "    num_train_epochs=3,  # train 시킬 총 epochs\n",
    "    weight_decay=0.01,  # weight decay\n",
    ")"
   ]
  },
  {
   "cell_type": "code",
   "execution_count": 76,
   "metadata": {},
   "outputs": [],
   "source": [
    "# 정확도\n",
    "from datasets import load_metric\n",
    "\n",
    "metric = load_metric(\"glue\", \"mrpc\")  # 바이너리 크로스엔트로피\n",
    "\n",
    "\n",
    "def compute_metrics(eval_pred):\n",
    "    predictions, labels = eval_pred\n",
    "    predictions = np.argmax(predictions, axis=1)\n",
    "    return metric.compute(predictions=predictions, references=labels)"
   ]
  },
  {
   "cell_type": "code",
   "execution_count": 77,
   "metadata": {},
   "outputs": [
    {
     "data": {
      "application/vnd.jupyter.widget-view+json": {
       "model_id": "d43b13bd01b04219a69ae782359e60f6",
       "version_major": 2,
       "version_minor": 0
      },
      "text/plain": [
       "  0%|          | 0/5625 [00:00<?, ?it/s]"
      ]
     },
     "metadata": {},
     "output_type": "display_data"
    },
    {
     "name": "stdout",
     "output_type": "stream",
     "text": [
      "{'loss': 0.6993, 'grad_norm': 10.24004077911377, 'learning_rate': 2e-05, 'epoch': 0.27}\n",
      "{'loss': 0.7021, 'grad_norm': 2.190335273742676, 'learning_rate': 1.804878048780488e-05, 'epoch': 0.53}\n",
      "{'loss': 0.6414, 'grad_norm': 11.948502540588379, 'learning_rate': 1.6097560975609757e-05, 'epoch': 0.8}\n"
     ]
    },
    {
     "data": {
      "application/vnd.jupyter.widget-view+json": {
       "model_id": "e118d2c2fe0c45bcacb3f025514a5bc2",
       "version_major": 2,
       "version_minor": 0
      },
      "text/plain": [
       "  0%|          | 0/625 [00:00<?, ?it/s]"
      ]
     },
     "metadata": {},
     "output_type": "display_data"
    },
    {
     "name": "stdout",
     "output_type": "stream",
     "text": [
      "{'eval_loss': 0.5070755481719971, 'eval_accuracy': 0.8162, 'eval_f1': 0.8149788604791625, 'eval_runtime': 9.1766, 'eval_samples_per_second': 544.863, 'eval_steps_per_second': 68.108, 'epoch': 1.0}\n",
      "{'loss': 0.4501, 'grad_norm': 56.362056732177734, 'learning_rate': 1.4146341463414635e-05, 'epoch': 1.07}\n",
      "{'loss': 0.3579, 'grad_norm': 1.8230552673339844, 'learning_rate': 1.2195121951219513e-05, 'epoch': 1.33}\n",
      "{'loss': 0.3311, 'grad_norm': 6.776037693023682, 'learning_rate': 1.024390243902439e-05, 'epoch': 1.6}\n",
      "{'loss': 0.3221, 'grad_norm': 15.574055671691895, 'learning_rate': 8.292682926829268e-06, 'epoch': 1.87}\n"
     ]
    },
    {
     "data": {
      "application/vnd.jupyter.widget-view+json": {
       "model_id": "ca9d8b4a53df4c29b246e0aa64fdaa0e",
       "version_major": 2,
       "version_minor": 0
      },
      "text/plain": [
       "  0%|          | 0/625 [00:00<?, ?it/s]"
      ]
     },
     "metadata": {},
     "output_type": "display_data"
    },
    {
     "name": "stdout",
     "output_type": "stream",
     "text": [
      "{'eval_loss': 0.5396305918693542, 'eval_accuracy': 0.8552, 'eval_f1': 0.8491666666666666, 'eval_runtime': 9.3938, 'eval_samples_per_second': 532.264, 'eval_steps_per_second': 66.533, 'epoch': 2.0}\n",
      "{'loss': 0.2461, 'grad_norm': 6.702902317047119, 'learning_rate': 6.341463414634147e-06, 'epoch': 2.13}\n",
      "{'loss': 0.1976, 'grad_norm': 0.9099440574645996, 'learning_rate': 4.390243902439025e-06, 'epoch': 2.4}\n",
      "{'loss': 0.1879, 'grad_norm': 0.10862462222576141, 'learning_rate': 2.4390243902439027e-06, 'epoch': 2.67}\n",
      "{'loss': 0.2052, 'grad_norm': 0.23882833123207092, 'learning_rate': 4.878048780487805e-07, 'epoch': 2.93}\n"
     ]
    },
    {
     "data": {
      "application/vnd.jupyter.widget-view+json": {
       "model_id": "6647299e64724850b78df9581549a44b",
       "version_major": 2,
       "version_minor": 0
      },
      "text/plain": [
       "  0%|          | 0/625 [00:00<?, ?it/s]"
      ]
     },
     "metadata": {},
     "output_type": "display_data"
    },
    {
     "name": "stdout",
     "output_type": "stream",
     "text": [
      "{'eval_loss': 0.6092442870140076, 'eval_accuracy': 0.8574, 'eval_f1': 0.8559304910082846, 'eval_runtime': 8.6386, 'eval_samples_per_second': 578.796, 'eval_steps_per_second': 72.349, 'epoch': 3.0}\n",
      "{'train_runtime': 427.4598, 'train_samples_per_second': 105.273, 'train_steps_per_second': 13.159, 'train_loss': 0.39198618842230903, 'epoch': 3.0}\n"
     ]
    },
    {
     "data": {
      "text/plain": [
       "TrainOutput(global_step=5625, training_loss=0.39198618842230903, metrics={'train_runtime': 427.4598, 'train_samples_per_second': 105.273, 'train_steps_per_second': 13.159, 'total_flos': 739999843200000.0, 'train_loss': 0.39198618842230903, 'epoch': 3.0})"
      ]
     },
     "execution_count": 77,
     "metadata": {},
     "output_type": "execute_result"
    }
   ],
   "source": [
    "trainer = Trainer(\n",
    "    model=model,  # 학습시킬 model\n",
    "    args=training_arguments,  # TrainingArguments을 통해 설정한 arguments\n",
    "    train_dataset=train_subset,  # training dataset\n",
    "    eval_dataset=test_subset,\n",
    "    compute_metrics=compute_metrics,\n",
    ")\n",
    "trainer.train()"
   ]
  },
  {
   "cell_type": "markdown",
   "metadata": {},
   "source": [
    "### Bucketing\n",
    "\n",
    "Data Collator를 사용해서 Bucketing과  dynamic padding 구현 후 비교"
   ]
  },
  {
   "cell_type": "code",
   "execution_count": 67,
   "metadata": {},
   "outputs": [],
   "source": [
    "from transformers import DataCollatorWithPadding"
   ]
  },
  {
   "cell_type": "code",
   "execution_count": 68,
   "metadata": {},
   "outputs": [],
   "source": [
    "datacollator = DataCollatorWithPadding(tokenizer, padding=True)"
   ]
  },
  {
   "cell_type": "code",
   "execution_count": 73,
   "metadata": {},
   "outputs": [
    {
     "name": "stderr",
     "output_type": "stream",
     "text": [
      "c:\\Users\\zzoon\\anaconda3\\envs\\aiffel\\lib\\site-packages\\transformers\\training_args.py:1494: FutureWarning: `evaluation_strategy` is deprecated and will be removed in version 4.46 of 🤗 Transformers. Use `eval_strategy` instead\n",
      "  warnings.warn(\n"
     ]
    }
   ],
   "source": [
    "training_arguments_bucket = TrainingArguments(\n",
    "    output_dir,  # output이 저장될 경로\n",
    "    evaluation_strategy=\"epoch\",  # evaluation하는 빈도\n",
    "    learning_rate=2e-5,  # learning_rate\n",
    "    per_device_train_batch_size=8,  # 각 device 당 batch size\n",
    "    per_device_eval_batch_size=8,  # evaluation 시에 batch size\n",
    "    num_train_epochs=3,  # train 시킬 총 epochs\n",
    "    weight_decay=0.01,  # weight decay\n",
    "    group_by_length=True,\n",
    ")"
   ]
  },
  {
   "cell_type": "code",
   "execution_count": 72,
   "metadata": {},
   "outputs": [
    {
     "data": {
      "application/vnd.jupyter.widget-view+json": {
       "model_id": "ffc55376a7b34ae4902c206c23f632af",
       "version_major": 2,
       "version_minor": 0
      },
      "text/plain": [
       "  0%|          | 0/5625 [00:00<?, ?it/s]"
      ]
     },
     "metadata": {},
     "output_type": "display_data"
    },
    {
     "name": "stdout",
     "output_type": "stream",
     "text": [
      "{'loss': 0.6792, 'grad_norm': 4.326119899749756, 'learning_rate': 0.00018222222222222224, 'epoch': 0.27}\n",
      "{'loss': 0.7079, 'grad_norm': 6.315160751342773, 'learning_rate': 0.00016444444444444444, 'epoch': 0.53}\n",
      "{'loss': 0.7083, 'grad_norm': 12.499991416931152, 'learning_rate': 0.00014666666666666666, 'epoch': 0.8}\n",
      "{'loss': 0.7036, 'grad_norm': 13.895317077636719, 'learning_rate': 0.00012888888888888892, 'epoch': 1.07}\n",
      "{'loss': 0.709, 'grad_norm': 2.4762637615203857, 'learning_rate': 0.00011111111111111112, 'epoch': 1.33}\n",
      "{'loss': 0.7023, 'grad_norm': 2.2617084980010986, 'learning_rate': 9.333333333333334e-05, 'epoch': 1.6}\n",
      "{'loss': 0.7048, 'grad_norm': 11.508976936340332, 'learning_rate': 7.555555555555556e-05, 'epoch': 1.87}\n",
      "{'loss': 0.6998, 'grad_norm': 3.150838613510132, 'learning_rate': 5.7777777777777776e-05, 'epoch': 2.13}\n",
      "{'loss': 0.7006, 'grad_norm': 8.67473030090332, 'learning_rate': 4e-05, 'epoch': 2.4}\n",
      "{'loss': 0.699, 'grad_norm': 2.4435043334960938, 'learning_rate': 2.2222222222222223e-05, 'epoch': 2.67}\n",
      "{'loss': 0.6958, 'grad_norm': 2.90433669090271, 'learning_rate': 4.444444444444445e-06, 'epoch': 2.93}\n",
      "{'train_runtime': 394.6325, 'train_samples_per_second': 114.03, 'train_steps_per_second': 14.254, 'train_loss': 0.7008982788085938, 'epoch': 3.0}\n"
     ]
    },
    {
     "data": {
      "text/plain": [
       "TrainOutput(global_step=5625, training_loss=0.7008982788085938, metrics={'train_runtime': 394.6325, 'train_samples_per_second': 114.03, 'train_steps_per_second': 14.254, 'total_flos': 739999843200000.0, 'train_loss': 0.7008982788085938, 'epoch': 3.0})"
      ]
     },
     "execution_count": 72,
     "metadata": {},
     "output_type": "execute_result"
    }
   ],
   "source": [
    "trainer_bucket = Trainer(\n",
    "    model=model,  # 학습시킬 model\n",
    "    args=training_arguments_bucket,  # TrainingArguments을 통해 설정한 arguments\n",
    "    train_dataset=train_subset,  # training dataset\n",
    "    eval_dataset=test_subset,\n",
    "    compute_metrics=compute_metrics,\n",
    "    data_collator=datacollator,\n",
    ")\n",
    "trainer_bucket.train()"
   ]
  },
  {
   "cell_type": "code",
   "execution_count": null,
   "metadata": {},
   "outputs": [],
   "source": []
  }
 ],
 "metadata": {
  "kernelspec": {
   "display_name": "aiffel",
   "language": "python",
   "name": "python3"
  },
  "language_info": {
   "codemirror_mode": {
    "name": "ipython",
    "version": 3
   },
   "file_extension": ".py",
   "mimetype": "text/x-python",
   "name": "python",
   "nbconvert_exporter": "python",
   "pygments_lexer": "ipython3",
   "version": "3.9.19"
  }
 },
 "nbformat": 4,
 "nbformat_minor": 2
}
