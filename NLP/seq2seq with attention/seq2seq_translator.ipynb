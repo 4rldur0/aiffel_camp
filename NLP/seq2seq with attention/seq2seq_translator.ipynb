{
 "cells": [
  {
   "cell_type": "markdown",
   "metadata": {},
   "source": [
    "# seq2seq 번역기\n",
    "\n",
    "## 루브릭 \n",
    "1. 번역기 모델 학습에 필요한 텍스트 데이터 전처리가 한국어 포함하여 잘 이루어졌다.  \n",
    "구두점, 대소문자, 띄어쓰기, 한글 형태소분석 등 번역기 모델에 요구되는 전처리가 정상적으로 진행되었다."
   ]
  },
  {
   "cell_type": "code",
   "execution_count": 113,
   "metadata": {},
   "outputs": [
    {
     "data": {
      "text/plain": [
       "\"['개인', '용', '컴퓨터', '사용', '의', '상당', '부분', '은', '이것', '보다', '뛰어날', '수', '있', '느냐', '?']\""
      ]
     },
     "execution_count": 113,
     "metadata": {},
     "output_type": "execute_result"
    }
   ],
   "source": [
    "str(df_rm_dup['ko'][0])"
   ]
  },
  {
   "cell_type": "markdown",
   "metadata": {},
   "source": [
    "2. Attentional Seq2seq 모델이 정상적으로 구동된다.\t     \n",
    "seq2seq 모델 훈련 과정에서 training loss가 안정적으로 떨어지면서 학습이 진행됨이 확인되었다.  \n",
    "\n",
    "학습 진행도\n",
    "```text\n",
    "Epoch  1: 100%|██████████| 1019/1019 [18:59<00:00,  1.12s/it, Loss 1.7195]\n",
    "Epoch  2: 100%|██████████| 1019/1019 [16:36<00:00,  1.02it/s, Loss 1.4677]\n",
    "... 중략 ...\n",
    "Epoch  9: 100%|██████████| 1019/1019 [16:39<00:00,  1.02it/s, Loss 0.7694]\n",
    "Epoch 10: 100%|██████████| 1019/1019 [16:39<00:00,  1.02it/s, Loss 0.7026]\n",
    "```"
   ]
  },
  {
   "cell_type": "markdown",
   "metadata": {},
   "source": [
    "3. 테스트 결과 의미가 통하는 수준의 번역문이 생성되었다.\t    \n",
    "테스트용 디코더 모델이 정상적으로 만들어져서, 정답과 어느 정도 유사한 영어 번역이 진행됨을 확인하였다.  \n",
    "\n",
    "예문 번역\n",
    "```text\n",
    "Input: 오바마는 대통령이다.\n",
    "Predicted translation: obama is the president . <end> \n",
    "Input: 시민들은 도시 속에 산다.\n",
    "Predicted translation: people in the city . <end> \n",
    "Input: 커피는 필요 없다.\n",
    "Predicted translation: it s not a caffeine <end> \n",
    "Input: 일곱 명의 사망자가 발생했다.\n",
    "Predicted translation: seven people were killed . <end> \n",
    "```\n"
   ]
  },
  {
   "cell_type": "code",
   "execution_count": 4,
   "metadata": {},
   "outputs": [],
   "source": [
    "import pandas as pd\n",
    "import tensorflow as tf\n",
    "import numpy as np\n",
    "\n",
    "import matplotlib.ticker as ticker\n",
    "import matplotlib.pyplot as plt"
   ]
  },
  {
   "cell_type": "markdown",
   "metadata": {},
   "source": [
    "## 데이터\n",
    "\n",
    "* 데이터 : https://github.com/jungyeul/korean-parallel-corpora/tree/master/korean-english-news-v1"
   ]
  },
  {
   "cell_type": "code",
   "execution_count": 2,
   "metadata": {},
   "outputs": [],
   "source": [
    "with open(\"data/korean-english-park.train.ko\", \"r\") as f:\n",
    "    ko = f.read().splitlines()"
   ]
  },
  {
   "cell_type": "code",
   "execution_count": 3,
   "metadata": {},
   "outputs": [],
   "source": [
    "with open(\"data/korean-english-park.train.en\", \"r\") as f:\n",
    "    en = f.read().splitlines()"
   ]
  },
  {
   "cell_type": "markdown",
   "metadata": {},
   "source": [
    "### 중복 처리\n",
    "한글 영문 데이터를 쌍으로 봐야하기 때문에 데이터프레임으로 만들어서 처리"
   ]
  },
  {
   "cell_type": "code",
   "execution_count": 4,
   "metadata": {},
   "outputs": [
    {
     "data": {
      "text/plain": [
       "(94123, 2)"
      ]
     },
     "execution_count": 4,
     "metadata": {},
     "output_type": "execute_result"
    }
   ],
   "source": [
    "df = pd.DataFrame({\"ko\": ko, \"en\": en})\n",
    "df.shape"
   ]
  },
  {
   "cell_type": "code",
   "execution_count": 5,
   "metadata": {},
   "outputs": [
    {
     "data": {
      "text/html": [
       "<div>\n",
       "<style scoped>\n",
       "    .dataframe tbody tr th:only-of-type {\n",
       "        vertical-align: middle;\n",
       "    }\n",
       "\n",
       "    .dataframe tbody tr th {\n",
       "        vertical-align: top;\n",
       "    }\n",
       "\n",
       "    .dataframe thead th {\n",
       "        text-align: right;\n",
       "    }\n",
       "</style>\n",
       "<table border=\"1\" class=\"dataframe\">\n",
       "  <thead>\n",
       "    <tr style=\"text-align: right;\">\n",
       "      <th></th>\n",
       "      <th>ko</th>\n",
       "      <th>en</th>\n",
       "    </tr>\n",
       "  </thead>\n",
       "  <tbody>\n",
       "    <tr>\n",
       "      <th>30</th>\n",
       "      <td>어휘 :</td>\n",
       "      <td>Postal Service - whose postmaster told a Senat...</td>\n",
       "    </tr>\n",
       "    <tr>\n",
       "      <th>282</th>\n",
       "      <td>어휘 :</td>\n",
       "      <td>the United States will take every measure agai...</td>\n",
       "    </tr>\n",
       "    <tr>\n",
       "      <th>1456</th>\n",
       "      <td>어휘 :</td>\n",
       "      <td>aid groups set up freshwater tanks to provide ...</td>\n",
       "    </tr>\n",
       "    <tr>\n",
       "      <th>2226</th>\n",
       "      <td>어휘 :</td>\n",
       "      <td>communications with the tiny $4.5 million DASH...</td>\n",
       "    </tr>\n",
       "    <tr>\n",
       "      <th>3003</th>\n",
       "      <td>어휘 :</td>\n",
       "      <td>The upper end of that range would put SG344 on...</td>\n",
       "    </tr>\n",
       "    <tr>\n",
       "      <th>...</th>\n",
       "      <td>...</td>\n",
       "      <td>...</td>\n",
       "    </tr>\n",
       "    <tr>\n",
       "      <th>94016</th>\n",
       "      <td>국회의사당에서 제리 보드랜더였습니다.”</td>\n",
       "      <td>Jerry Bodlander, Capitol Hill.”</td>\n",
       "    </tr>\n",
       "    <tr>\n",
       "      <th>94024</th>\n",
       "      <td>TOEIC 독해</td>\n",
       "      <td>The vote is expected late today.</td>\n",
       "    </tr>\n",
       "    <tr>\n",
       "      <th>94050</th>\n",
       "      <td>Bush hails ´major shift´ in Iraq 부시, 이라크에 ‘중대한...</td>\n",
       "      <td>Thousands of Burmese risk the trip to Thailand...</td>\n",
       "    </tr>\n",
       "    <tr>\n",
       "      <th>94093</th>\n",
       "      <td>AP 라디오 뉴스입니다.</td>\n",
       "      <td>a national average $2.42 a gallon.</td>\n",
       "    </tr>\n",
       "    <tr>\n",
       "      <th>94098</th>\n",
       "      <td>저장된 검색어가 없습니다.</td>\n",
       "      <td>a national average $2.42 a gallon.</td>\n",
       "    </tr>\n",
       "  </tbody>\n",
       "</table>\n",
       "<p>16532 rows × 2 columns</p>\n",
       "</div>"
      ],
      "text/plain": [
       "                                                      ko  \\\n",
       "30                                                  어휘 :   \n",
       "282                                                 어휘 :   \n",
       "1456                                                어휘 :   \n",
       "2226                                                어휘 :   \n",
       "3003                                                어휘 :   \n",
       "...                                                  ...   \n",
       "94016                              국회의사당에서 제리 보드랜더였습니다.”   \n",
       "94024                                           TOEIC 독해   \n",
       "94050  Bush hails ´major shift´ in Iraq 부시, 이라크에 ‘중대한...   \n",
       "94093                                      AP 라디오 뉴스입니다.   \n",
       "94098                                     저장된 검색어가 없습니다.   \n",
       "\n",
       "                                                      en  \n",
       "30     Postal Service - whose postmaster told a Senat...  \n",
       "282    the United States will take every measure agai...  \n",
       "1456   aid groups set up freshwater tanks to provide ...  \n",
       "2226   communications with the tiny $4.5 million DASH...  \n",
       "3003   The upper end of that range would put SG344 on...  \n",
       "...                                                  ...  \n",
       "94016                    Jerry Bodlander, Capitol Hill.”  \n",
       "94024                   The vote is expected late today.  \n",
       "94050  Thousands of Burmese risk the trip to Thailand...  \n",
       "94093                 a national average $2.42 a gallon.  \n",
       "94098                 a national average $2.42 a gallon.  \n",
       "\n",
       "[16532 rows x 2 columns]"
      ]
     },
     "execution_count": 5,
     "metadata": {},
     "output_type": "execute_result"
    }
   ],
   "source": [
    "# # 한국어 기준으로 중복 확인\n",
    "df[df[\"ko\"].duplicated() == True]"
   ]
  },
  {
   "cell_type": "code",
   "execution_count": 6,
   "metadata": {},
   "outputs": [],
   "source": [
    "# 한국어 기준으로 중복 제거\n",
    "df_rm_dup = df.drop_duplicates([\"ko\"])"
   ]
  },
  {
   "cell_type": "code",
   "execution_count": 7,
   "metadata": {},
   "outputs": [
    {
     "data": {
      "text/html": [
       "<div>\n",
       "<style scoped>\n",
       "    .dataframe tbody tr th:only-of-type {\n",
       "        vertical-align: middle;\n",
       "    }\n",
       "\n",
       "    .dataframe tbody tr th {\n",
       "        vertical-align: top;\n",
       "    }\n",
       "\n",
       "    .dataframe thead th {\n",
       "        text-align: right;\n",
       "    }\n",
       "</style>\n",
       "<table border=\"1\" class=\"dataframe\">\n",
       "  <thead>\n",
       "    <tr style=\"text-align: right;\">\n",
       "      <th></th>\n",
       "      <th>ko</th>\n",
       "      <th>en</th>\n",
       "    </tr>\n",
       "  </thead>\n",
       "  <tbody>\n",
       "  </tbody>\n",
       "</table>\n",
       "</div>"
      ],
      "text/plain": [
       "Empty DataFrame\n",
       "Columns: [ko, en]\n",
       "Index: []"
      ]
     },
     "execution_count": 7,
     "metadata": {},
     "output_type": "execute_result"
    }
   ],
   "source": [
    "# 제거되었는지 확인\n",
    "df_rm_dup[df_rm_dup[\"ko\"].duplicated() == True]"
   ]
  },
  {
   "cell_type": "code",
   "execution_count": 8,
   "metadata": {},
   "outputs": [
    {
     "data": {
      "text/plain": [
       "(77591, 2)"
      ]
     },
     "execution_count": 8,
     "metadata": {},
     "output_type": "execute_result"
    }
   ],
   "source": [
    "df_rm_dup.shape"
   ]
  },
  {
   "cell_type": "markdown",
   "metadata": {},
   "source": [
    "### 전처리"
   ]
  },
  {
   "cell_type": "code",
   "execution_count": 1,
   "metadata": {},
   "outputs": [],
   "source": [
    "import re\n",
    "\n",
    "\n",
    "def preprocess_sentence(sentence, s_token=False, e_token=False):\n",
    "    sentence = sentence.lower().strip()  # 소문자화\n",
    "\n",
    "    sentence = re.sub(r\"([?.!,])\", r\" \\1 \", sentence)  # 기호처리\n",
    "    sentence = re.sub(r'[\" \"]+', \" \", sentence)  # 연속 공백 처리\n",
    "    sentence = re.sub(r\"[^가-힣a-zA-Z?.!,]+\", \" \", sentence)  # 기타 문자 제거\n",
    "\n",
    "    sentence = sentence.strip()  # 양쪽 공백 제거\n",
    "\n",
    "    # 토큰추가\n",
    "    if s_token:\n",
    "        sentence = \"<start> \" + sentence\n",
    "\n",
    "    if e_token:\n",
    "        sentence += \" <end>\"\n",
    "\n",
    "    return sentence"
   ]
  },
  {
   "cell_type": "code",
   "execution_count": 10,
   "metadata": {},
   "outputs": [
    {
     "name": "stderr",
     "output_type": "stream",
     "text": [
      "/opt/conda/lib/python3.9/site-packages/pandas/core/indexing.py:1951: SettingWithCopyWarning: \n",
      "A value is trying to be set on a copy of a slice from a DataFrame.\n",
      "Try using .loc[row_indexer,col_indexer] = value instead\n",
      "\n",
      "See the caveats in the documentation: https://pandas.pydata.org/pandas-docs/stable/user_guide/indexing.html#returning-a-view-versus-a-copy\n",
      "  self.obj[selected_item_labels] = value\n"
     ]
    }
   ],
   "source": [
    "df_rm_dup.loc[:, \"ko\"] = df_rm_dup[\"ko\"].apply(lambda x: preprocess_sentence(x))\n",
    "df_rm_dup.loc[:, \"en\"] = df_rm_dup[\"en\"].apply(\n",
    "    lambda x: preprocess_sentence(x, s_token=True, e_token=True)\n",
    ")"
   ]
  },
  {
   "cell_type": "markdown",
   "metadata": {},
   "source": [
    "### 토큰화"
   ]
  },
  {
   "cell_type": "code",
   "execution_count": 11,
   "metadata": {},
   "outputs": [],
   "source": [
    "from konlpy.tag import Mecab\n",
    "\n",
    "mecab = Mecab()\n",
    "\n",
    "# 윈도우의 경우\n",
    "# mecab = Mecab(dicpath=r\"C:\\mecab\\share\\mecab-ko-dic\")"
   ]
  },
  {
   "cell_type": "code",
   "execution_count": 12,
   "metadata": {},
   "outputs": [
    {
     "data": {
      "text/plain": [
       "['무궁화', '꽃', '이', '피', '었', '습니다']"
      ]
     },
     "execution_count": 12,
     "metadata": {},
     "output_type": "execute_result"
    }
   ],
   "source": [
    "mecab.morphs(\"무궁화꽃이피었습니다\")"
   ]
  },
  {
   "cell_type": "code",
   "execution_count": 13,
   "metadata": {},
   "outputs": [],
   "source": [
    "# 한글은 mecab 사용\n",
    "df_rm_dup.loc[:, \"ko\"] = df_rm_dup[\"ko\"].apply(lambda x: mecab.morphs(x))"
   ]
  },
  {
   "cell_type": "code",
   "execution_count": 14,
   "metadata": {},
   "outputs": [],
   "source": [
    "# 영어는 공백기준 토큰화\n",
    "df_rm_dup.loc[:, \"en\"] = df_rm_dup[\"en\"].apply(lambda x: x.split())"
   ]
  },
  {
   "cell_type": "code",
   "execution_count": 15,
   "metadata": {},
   "outputs": [
    {
     "data": {
      "text/html": [
       "<div>\n",
       "<style scoped>\n",
       "    .dataframe tbody tr th:only-of-type {\n",
       "        vertical-align: middle;\n",
       "    }\n",
       "\n",
       "    .dataframe tbody tr th {\n",
       "        vertical-align: top;\n",
       "    }\n",
       "\n",
       "    .dataframe thead th {\n",
       "        text-align: right;\n",
       "    }\n",
       "</style>\n",
       "<table border=\"1\" class=\"dataframe\">\n",
       "  <thead>\n",
       "    <tr style=\"text-align: right;\">\n",
       "      <th></th>\n",
       "      <th>ko</th>\n",
       "      <th>en</th>\n",
       "    </tr>\n",
       "  </thead>\n",
       "  <tbody>\n",
       "    <tr>\n",
       "      <th>0</th>\n",
       "      <td>[개인, 용, 컴퓨터, 사용, 의, 상당, 부분, 은, 이것, 보다, 뛰어날, 수,...</td>\n",
       "      <td>[&lt;start&gt;, much, of, personal, computing, is, a...</td>\n",
       "    </tr>\n",
       "    <tr>\n",
       "      <th>1</th>\n",
       "      <td>[모든, 광, 마우스, 와, 마찬가지, 로, 이, 광, 마우스, 도, 책상, 위, ...</td>\n",
       "      <td>[&lt;start&gt;, so, a, mention, a, few, weeks, ago, ...</td>\n",
       "    </tr>\n",
       "    <tr>\n",
       "      <th>2</th>\n",
       "      <td>[그러나, 이것, 은, 또한, 책상, 도, 필요, 로, 하, 지, 않, 는다, .]</td>\n",
       "      <td>[&lt;start&gt;, like, all, optical, mice, ,, but, it...</td>\n",
       "    </tr>\n",
       "    <tr>\n",
       "      <th>3</th>\n",
       "      <td>[., 달러, 하, 는, 이, 최첨단, 무선, 광, 마우스, 는, 허공, 에서, 팔...</td>\n",
       "      <td>[&lt;start&gt;, uses, gyroscopic, sensors, to, contr...</td>\n",
       "    </tr>\n",
       "    <tr>\n",
       "      <th>4</th>\n",
       "      <td>[정보, 관리, 들, 은, 동남, 아시아, 에서, 의, 선박, 들, 에, 대한, 많...</td>\n",
       "      <td>[&lt;start&gt;, intelligence, officials, have, revea...</td>\n",
       "    </tr>\n",
       "  </tbody>\n",
       "</table>\n",
       "</div>"
      ],
      "text/plain": [
       "                                                  ko  \\\n",
       "0  [개인, 용, 컴퓨터, 사용, 의, 상당, 부분, 은, 이것, 보다, 뛰어날, 수,...   \n",
       "1  [모든, 광, 마우스, 와, 마찬가지, 로, 이, 광, 마우스, 도, 책상, 위, ...   \n",
       "2     [그러나, 이것, 은, 또한, 책상, 도, 필요, 로, 하, 지, 않, 는다, .]   \n",
       "3  [., 달러, 하, 는, 이, 최첨단, 무선, 광, 마우스, 는, 허공, 에서, 팔...   \n",
       "4  [정보, 관리, 들, 은, 동남, 아시아, 에서, 의, 선박, 들, 에, 대한, 많...   \n",
       "\n",
       "                                                  en  \n",
       "0  [<start>, much, of, personal, computing, is, a...  \n",
       "1  [<start>, so, a, mention, a, few, weeks, ago, ...  \n",
       "2  [<start>, like, all, optical, mice, ,, but, it...  \n",
       "3  [<start>, uses, gyroscopic, sensors, to, contr...  \n",
       "4  [<start>, intelligence, officials, have, revea...  "
      ]
     },
     "execution_count": 15,
     "metadata": {},
     "output_type": "execute_result"
    }
   ],
   "source": [
    "# 토큰화 결과 확인\n",
    "df_rm_dup.head()"
   ]
  },
  {
   "cell_type": "markdown",
   "metadata": {},
   "source": [
    "### 짧은 문장만 사용\n",
    "\n",
    "1만개 정도 줄어듦"
   ]
  },
  {
   "cell_type": "code",
   "execution_count": 16,
   "metadata": {},
   "outputs": [],
   "source": [
    "# 연산시간 낭비 줄이기\n",
    "df_short = df_rm_dup[df_rm_dup[\"ko\"].apply(len) <= 40]"
   ]
  },
  {
   "cell_type": "code",
   "execution_count": 17,
   "metadata": {},
   "outputs": [
    {
     "data": {
      "text/plain": [
       "(65162, 2)"
      ]
     },
     "execution_count": 17,
     "metadata": {},
     "output_type": "execute_result"
    }
   ],
   "source": [
    "df_short.shape"
   ]
  },
  {
   "cell_type": "markdown",
   "metadata": {},
   "source": [
    "### 텐서화"
   ]
  },
  {
   "cell_type": "code",
   "execution_count": 18,
   "metadata": {},
   "outputs": [],
   "source": [
    "NUM_WORDS = 20000"
   ]
  },
  {
   "cell_type": "code",
   "execution_count": 19,
   "metadata": {},
   "outputs": [],
   "source": [
    "# 패딩 및 텐서로 변환\n",
    "def tokenize(corpus):\n",
    "    tokenizer = tf.keras.preprocessing.text.Tokenizer(num_words=NUM_WORDS, filters=\"\")\n",
    "    tokenizer.fit_on_texts(corpus)\n",
    "\n",
    "    tensor = tokenizer.texts_to_sequences(corpus)\n",
    "\n",
    "    tensor = tf.keras.preprocessing.sequence.pad_sequences(tensor, padding=\"post\")\n",
    "\n",
    "    return tensor, tokenizer"
   ]
  },
  {
   "cell_type": "code",
   "execution_count": 20,
   "metadata": {},
   "outputs": [],
   "source": [
    "ko_tensor, ko_tokenizer = tokenize(df_short[\"ko\"])\n",
    "en_tensor, en_tokenizer = tokenize(df_short[\"en\"])"
   ]
  },
  {
   "cell_type": "markdown",
   "metadata": {},
   "source": [
    "## 모델"
   ]
  },
  {
   "cell_type": "code",
   "execution_count": 5,
   "metadata": {},
   "outputs": [],
   "source": [
    "class BahdanauAttention(tf.keras.layers.Layer):\n",
    "    def __init__(self, units):\n",
    "        super(BahdanauAttention, self).__init__()\n",
    "        self.w_dec = tf.keras.layers.Dense(units)\n",
    "        self.w_enc = tf.keras.layers.Dense(units)\n",
    "        self.w_com = tf.keras.layers.Dense(1)\n",
    "\n",
    "    def call(self, h_enc, h_dec):\n",
    "        # h_enc shape: [batch x length x units]\n",
    "        # h_dec shape: [batch x units]\n",
    "\n",
    "        # 인코더 출력을 Dense 레이어를 통해 변환\n",
    "        h_enc = self.w_enc(h_enc)\n",
    "        # 디코더 상태의 차원을 맞추기 위해 차원을 확장, [batch x units] -> [batch x 1 x units]\n",
    "        h_dec = tf.expand_dims(h_dec, 1)\n",
    "        h_dec = self.w_dec(h_dec)  # 디코더 상태를 Dense 레이어를 통해 변환\n",
    "\n",
    "        # 어텐션 스코어 계산, [batch x length x 1]. w_com의 크기가 1이기 때문\n",
    "        score = self.w_com(tf.nn.tanh(h_dec + h_enc))\n",
    "\n",
    "        # 스코어를 가중치로 변환, [batch x length x 1]\n",
    "        attn = tf.nn.softmax(score, axis=1)\n",
    "\n",
    "        # 인코더 각 단어에 가중치 적용하여 맥락벡터 생성\n",
    "        context_vec = attn * h_enc\n",
    "        # [batch x length x units] -> [batch x units]\n",
    "        context_vec = tf.reduce_sum(context_vec, axis=1)\n",
    "\n",
    "        return context_vec, attn"
   ]
  },
  {
   "cell_type": "code",
   "execution_count": 6,
   "metadata": {},
   "outputs": [],
   "source": [
    "class Encoder(tf.keras.Model):\n",
    "    def __init__(self, vocab_size, embedding_dim, enc_units):\n",
    "        super(Encoder, self).__init__()\n",
    "        self.embedding = tf.keras.layers.Embedding(vocab_size, embedding_dim)\n",
    "        self.gru = tf.keras.layers.GRU(enc_units, return_sequences=True, dropout=0.1)\n",
    "\n",
    "    def call(self, x):\n",
    "        result = self.embedding(x)\n",
    "        result = self.gru(result)\n",
    "\n",
    "        return result"
   ]
  },
  {
   "cell_type": "code",
   "execution_count": 7,
   "metadata": {},
   "outputs": [],
   "source": [
    "class Decoder(tf.keras.Model):\n",
    "    def __init__(self, vocab_size, embedding_dim, dec_units):\n",
    "        super(Decoder, self).__init__()\n",
    "        self.embedding = tf.keras.layers.Embedding(vocab_size, embedding_dim)\n",
    "        self.gru = tf.keras.layers.GRU(\n",
    "            dec_units, return_sequences=True, return_state=True, dropout=0.1\n",
    "        )\n",
    "        self.attention = BahdanauAttention(dec_units)\n",
    "        self.dense = tf.keras.layers.Dense(vocab_size)\n",
    "\n",
    "        # 한번에 한 단어씩 처리하기 때문에 sequence_length = 1\n",
    "    def call(self, x, h_dec, enc_out):\n",
    "        result = self.embedding(x)  # [batch, sequence_length, embedding_dim]\n",
    "        context_vec, attn = self.attention(enc_out, h_dec)\n",
    "\n",
    "        # [batch x units] -> [batch x 1 x units] + [batch, sequence_length, embedding_dim]\n",
    "        # = > [batch, sequence_length, embedding_dim + units]\n",
    "        result = tf.concat([tf.expand_dims(context_vec, 1), result], axis=-1)\n",
    "\n",
    "        # result : [batch_size, sequence_length, dec_units]\n",
    "        # h : [batch_size, dec_units]\n",
    "        result, h = self.gru(result)\n",
    "\n",
    "        # result : [batch_size * sequence_length, dec_units]\n",
    "        result = tf.reshape(result, (-1, result.shape[2]))\n",
    "\n",
    "        result = self.dense(result)  # [batch_size * sequence_length, vocab_size]\n",
    "\n",
    "        return result, h, attn"
   ]
  },
  {
   "cell_type": "code",
   "execution_count": 10,
   "metadata": {},
   "outputs": [
    {
     "name": "stdout",
     "output_type": "stream",
     "text": [
      "Encoder Output: (64, 30, 1024)\n",
      "Decoder Output: (64, 20001)\n",
      "Decoder Hidden State: (64, 1024)\n",
      "Attention: (64, 30, 1)\n"
     ]
    }
   ],
   "source": [
    "BATCH_SIZE = 64\n",
    "SRC_VOCAB_SIZE = NUM_WORDS + 1  # 단어사전 + 1이기 때문에 이게 적합하다고 판단\n",
    "TGT_VOCAB_SIZE = NUM_WORDS + 1\n",
    "\n",
    "# oom 때문에 축소\n",
    "units = 1024\n",
    "embedding_dim = 512\n",
    "\n",
    "encoder = Encoder(SRC_VOCAB_SIZE, embedding_dim, units)\n",
    "decoder = Decoder(TGT_VOCAB_SIZE, embedding_dim, units)\n",
    "\n",
    "# sample input\n",
    "sequence_len = 30\n",
    "\n",
    "sample_enc = tf.random.uniform((BATCH_SIZE, sequence_len))\n",
    "sample_output = encoder(sample_enc)\n",
    "\n",
    "print(\"Encoder Output:\", sample_output.shape)\n",
    "\n",
    "sample_state = tf.random.uniform((BATCH_SIZE, units))\n",
    "\n",
    "sample_logits, h_dec, attn = decoder(\n",
    "    tf.random.uniform((BATCH_SIZE, 1)), sample_state, sample_output\n",
    ")\n",
    "\n",
    "print(\"Decoder Output:\", sample_logits.shape)\n",
    "print(\"Decoder Hidden State:\", h_dec.shape)\n",
    "print(\"Attention:\", attn.shape)"
   ]
  },
  {
   "cell_type": "markdown",
   "metadata": {},
   "source": [
    "### 훈련"
   ]
  },
  {
   "cell_type": "code",
   "execution_count": 25,
   "metadata": {},
   "outputs": [],
   "source": [
    "optimizer = tf.keras.optimizers.Adam()\n",
    "loss_object = tf.keras.losses.SparseCategoricalCrossentropy(\n",
    "    from_logits=True, reduction=\"none\"\n",
    ")\n",
    "\n",
    "\n",
    "def loss_function(real, pred):\n",
    "    # 마스킹 처리 : 숫자가 아닌 패딩 등의 토큰의 경우 마스킹하여 스킵\n",
    "    mask = tf.math.logical_not(tf.math.equal(real, 0))\n",
    "    loss = loss_object(real, pred)\n",
    "\n",
    "    mask = tf.cast(mask, dtype=loss.dtype)\n",
    "    loss *= mask\n",
    "\n",
    "    return tf.reduce_mean(loss)"
   ]
  },
  {
   "cell_type": "code",
   "execution_count": 26,
   "metadata": {},
   "outputs": [],
   "source": [
    "@tf.function  # gpu연산\n",
    "def train_step(src, tgt, encoder, decoder, optimizer, dec_tok):\n",
    "    bsz = src.shape[0]  # 배치사이즈\n",
    "    loss = 0\n",
    "\n",
    "    with tf.GradientTape() as tape:\n",
    "        enc_out = encoder(src)\n",
    "\n",
    "        # 처음에 디코더의 초기 상태는 인코더의 최종 상태로 설정\n",
    "        h_dec = enc_out[:, -1]\n",
    "\n",
    "        # 디코더 입력토큰\n",
    "        dec_src = tf.expand_dims([dec_tok.word_index[\"<start>\"]] * bsz, 1)\n",
    "\n",
    "        for t in range(1, tgt.shape[1]):\n",
    "            pred, h_dec, _ = decoder(dec_src, h_dec, enc_out)\n",
    "\n",
    "            loss += loss_function(tgt[:, t], pred)\n",
    "            dec_src = tf.expand_dims(tgt[:, t], 1)\n",
    "\n",
    "    batch_loss = loss / int(tgt.shape[1])\n",
    "\n",
    "    variables = encoder.trainable_variables + decoder.trainable_variables\n",
    "    gradients = tape.gradient(loss, variables)\n",
    "    optimizer.apply_gradients(zip(gradients, variables))\n",
    "\n",
    "    return batch_loss"
   ]
  },
  {
   "cell_type": "code",
   "execution_count": 27,
   "metadata": {},
   "outputs": [
    {
     "name": "stderr",
     "output_type": "stream",
     "text": [
      "Epoch  1: 100%|██████████| 1019/1019 [18:59<00:00,  1.12s/it, Loss 1.7195]\n",
      "Epoch  2: 100%|██████████| 1019/1019 [16:36<00:00,  1.02it/s, Loss 1.4677]\n",
      "Epoch  3: 100%|██████████| 1019/1019 [16:38<00:00,  1.02it/s, Loss 1.3244]\n",
      "Epoch  4: 100%|██████████| 1019/1019 [16:38<00:00,  1.02it/s, Loss 1.2038]\n",
      "Epoch  5: 100%|██████████| 1019/1019 [16:38<00:00,  1.02it/s, Loss 1.1028]\n",
      "Epoch  6: 100%|██████████| 1019/1019 [16:38<00:00,  1.02it/s, Loss 1.0084]\n",
      "Epoch  7: 100%|██████████| 1019/1019 [16:39<00:00,  1.02it/s, Loss 0.9194]\n",
      "Epoch  8: 100%|██████████| 1019/1019 [16:39<00:00,  1.02it/s, Loss 0.8412]\n",
      "Epoch  9: 100%|██████████| 1019/1019 [16:39<00:00,  1.02it/s, Loss 0.7694]\n",
      "Epoch 10: 100%|██████████| 1019/1019 [16:39<00:00,  1.02it/s, Loss 0.7026]\n"
     ]
    }
   ],
   "source": [
    "from tqdm import tqdm  # tqdm\n",
    "import random\n",
    "\n",
    "EPOCHS = 10\n",
    "\n",
    "for epoch in range(EPOCHS):\n",
    "    total_loss = 0\n",
    "\n",
    "    idx_list = list(range(0, ko_tensor.shape[0], BATCH_SIZE))\n",
    "    random.shuffle(idx_list)\n",
    "    t = tqdm(idx_list)  # tqdm\n",
    "\n",
    "    for batch, idx in enumerate(t):\n",
    "        batch_loss = train_step(\n",
    "            ko_tensor[idx : idx + BATCH_SIZE],\n",
    "            en_tensor[idx : idx + BATCH_SIZE],\n",
    "            encoder,\n",
    "            decoder,\n",
    "            optimizer,\n",
    "            en_tokenizer,\n",
    "        )\n",
    "\n",
    "        total_loss += batch_loss\n",
    "\n",
    "        t.set_description_str(\"Epoch %2d\" % (epoch + 1))  # tqdm\n",
    "        t.set_postfix_str(\"Loss %.4f\" % (total_loss.numpy() / (batch + 1)))  # tqdm"
   ]
  },
  {
   "cell_type": "markdown",
   "metadata": {},
   "source": [
    "### 모델 평가 "
   ]
  },
  {
   "cell_type": "code",
   "execution_count": 103,
   "metadata": {},
   "outputs": [],
   "source": [
    "def evaluate(sentence, encoder, decoder):\n",
    "    attention = np.zeros((en_tensor.shape[-1], ko_tensor.shape[-1]))\n",
    "\n",
    "    sentence = preprocess_sentence(sentence)\n",
    "    sentence = mecab.morphs(sentence)\n",
    "\n",
    "    inputs = ko_tokenizer.texts_to_sequences([sentence])\n",
    "    inputs = tf.keras.preprocessing.sequence.pad_sequences(\n",
    "        inputs, maxlen=ko_tensor.shape[-1], padding=\"post\"\n",
    "    )\n",
    "\n",
    "    result = \"\"\n",
    "\n",
    "    enc_out = encoder(inputs)\n",
    "\n",
    "    dec_hidden = enc_out[:, -1]\n",
    "    dec_input = tf.expand_dims([en_tokenizer.word_index[\"<start>\"]], 0)\n",
    "\n",
    "    for t in range(en_tensor.shape[-1]):\n",
    "        predictions, dec_hidden, attention_weights = decoder(\n",
    "            dec_input, dec_hidden, enc_out\n",
    "        )\n",
    "\n",
    "        attention_weights = tf.reshape(attention_weights, (-1,))\n",
    "        attention[t] = attention_weights.numpy()\n",
    "\n",
    "        predicted_id = tf.argmax(tf.math.softmax(predictions, axis=-1)[0]).numpy()\n",
    "\n",
    "        result += en_tokenizer.index_word[predicted_id] + \" \"\n",
    "\n",
    "        if en_tokenizer.index_word[predicted_id] == \"<end>\":\n",
    "            return result, sentence, attention\n",
    "\n",
    "        dec_input = tf.expand_dims([predicted_id], 0)\n",
    "\n",
    "    return result, sentence, attention\n",
    "\n",
    "\n",
    "def plot_attention(attention, sentence, predicted_sentence):\n",
    "    fig = plt.figure(figsize=(10, 10))\n",
    "    ax = fig.add_subplot(1, 1, 1)\n",
    "    ax.matshow(attention, cmap=\"viridis\")\n",
    "\n",
    "    fontdict = {\"fontsize\": 14}\n",
    "\n",
    "    ax.set_xticklabels([\"\"] + sentence, fontdict=fontdict, rotation=90)\n",
    "    ax.set_yticklabels([\"\"] + predicted_sentence, fontdict=fontdict)\n",
    "\n",
    "    ax.xaxis.set_major_locator(ticker.MultipleLocator(1))\n",
    "    ax.yaxis.set_major_locator(ticker.MultipleLocator(1))\n",
    "\n",
    "    plt.show()\n",
    "\n",
    "\n",
    "def translate(sentence, encoder, decoder,show_plot=False):\n",
    "    original_sentence = sentence\n",
    "    result, sentence, attention = evaluate(sentence, encoder, decoder)\n",
    "\n",
    "    print(\"Input: %s\" % (original_sentence))\n",
    "    print(\"Predicted translation: {}\".format(result))\n",
    "    if show_plot:\n",
    "        attention = attention[: len(result.split()), : len(sentence)]\n",
    "        plot_attention(attention, sentence, result.split(\" \"))"
   ]
  },
  {
   "cell_type": "markdown",
   "metadata": {},
   "source": [
    "#### 예문 번역"
   ]
  },
  {
   "cell_type": "code",
   "execution_count": 83,
   "metadata": {},
   "outputs": [],
   "source": [
    "plt.rc('font', family='NanumBarunGothic') "
   ]
  },
  {
   "cell_type": "code",
   "execution_count": 84,
   "metadata": {
    "scrolled": false
   },
   "outputs": [
    {
     "name": "stdout",
     "output_type": "stream",
     "text": [
      "Input: 오바마는 대통령이다.\n",
      "Predicted translation: obama is the president . <end> \n"
     ]
    },
    {
     "name": "stderr",
     "output_type": "stream",
     "text": [
      "/tmp/ipykernel_47/1451168171.py:46: UserWarning: FixedFormatter should only be used together with FixedLocator\n",
      "  ax.set_xticklabels([\"\"] + sentence, fontdict=fontdict, rotation=90)\n",
      "/tmp/ipykernel_47/1451168171.py:47: UserWarning: FixedFormatter should only be used together with FixedLocator\n",
      "  ax.set_yticklabels([\"\"] + predicted_sentence, fontdict=fontdict)\n"
     ]
    },
    {
     "data": {
      "image/png": "[encoded data removed]",
      "text/plain": [
       "<Figure size 720x720 with 1 Axes>"
      ]
     },
     "metadata": {
      "needs_background": "light"
     },
     "output_type": "display_data"
    },
    {
     "name": "stdout",
     "output_type": "stream",
     "text": [
      "Input: 시민들은 도시 속에 산다.\n",
      "Predicted translation: people in the city . <end> \n"
     ]
    },
    {
     "data": {
      "image/png": "[encoded data removed]",
      "text/plain": [
       "<Figure size 720x720 with 1 Axes>"
      ]
     },
     "metadata": {
      "needs_background": "light"
     },
     "output_type": "display_data"
    },
    {
     "name": "stdout",
     "output_type": "stream",
     "text": [
      "Input: 커피는 필요 없다.\n",
      "Predicted translation: it s not a caffeine <end> \n"
     ]
    },
    {
     "data": {
      "image/png": "[encoded data removed]",
      "text/plain": [
       "<Figure size 720x720 with 1 Axes>"
      ]
     },
     "metadata": {
      "needs_background": "light"
     },
     "output_type": "display_data"
    },
    {
     "name": "stdout",
     "output_type": "stream",
     "text": [
      "Input: 일곱 명의 사망자가 발생했다.\n",
      "Predicted translation: seven people were killed . <end> \n"
     ]
    },
    {
     "data": {
      "image/png": "[encoded data removed]",
      "text/plain": [
       "<Figure size 720x720 with 1 Axes>"
      ]
     },
     "metadata": {
      "needs_background": "light"
     },
     "output_type": "display_data"
    }
   ],
   "source": [
    "sentences = ['오바마는 대통령이다.', '시민들은 도시 속에 산다.'\n",
    "             ,'커피는 필요 없다.', '일곱 명의 사망자가 발생했다.']\n",
    "for s in sentences:\n",
    "    translate(s, encoder, decoder, show_plot=True)"
   ]
  },
  {
   "cell_type": "markdown",
   "metadata": {},
   "source": [
    "여러 문장 번역해보기"
   ]
  },
  {
   "cell_type": "code",
   "execution_count": 104,
   "metadata": {},
   "outputs": [
    {
     "name": "stdout",
     "output_type": "stream",
     "text": [
      "Input: 좋은 아침입니다.\n",
      "Predicted translation: good time good for good . <end> \n"
     ]
    }
   ],
   "source": [
    "# 일상대화\n",
    "translate('좋은 아침입니다.', encoder, decoder)"
   ]
  },
  {
   "cell_type": "code",
   "execution_count": 117,
   "metadata": {},
   "outputs": [
    {
     "name": "stdout",
     "output_type": "stream",
     "text": [
      "Input: 파리에 갈 예정입니다.\n",
      "Predicted translation: the hollywood will be the third of paris . <end> \n"
     ]
    }
   ],
   "source": [
    "translate('파리에 갈 예정입니다.', encoder, decoder)"
   ]
  },
  {
   "cell_type": "code",
   "execution_count": 119,
   "metadata": {},
   "outputs": [
    {
     "name": "stdout",
     "output_type": "stream",
     "text": [
      "Input: 여행을 가고 싶어요.\n",
      "Predicted translation: i want to wait . <end> \n"
     ]
    }
   ],
   "source": [
    "translate('여행을 가고 싶어요.', encoder, decoder)"
   ]
  },
  {
   "cell_type": "code",
   "execution_count": 115,
   "metadata": {},
   "outputs": [
    {
     "name": "stdout",
     "output_type": "stream",
     "text": [
      "Input: 번역기 만들기\n",
      "Predicted translation: the industry is to your buck . <end> \n"
     ]
    }
   ],
   "source": [
    "# lms 지침 \n",
    "translate('번역기 만들기', encoder, decoder)"
   ]
  },
  {
   "cell_type": "code",
   "execution_count": 109,
   "metadata": {},
   "outputs": [
    {
     "name": "stdout",
     "output_type": "stream",
     "text": [
      "Input: 밤부터 집중 호우가 내릴 것으로 예보됐습니다.\n",
      "Predicted translation: the remnants are expected to arrive in the night <end> \n"
     ]
    }
   ],
   "source": [
    "# 뉴스\n",
    "translate('밤부터 집중 호우가 내릴 것으로 예보됐습니다.', encoder, decoder)"
   ]
  },
  {
   "cell_type": "code",
   "execution_count": 122,
   "metadata": {},
   "outputs": [
    {
     "name": "stdout",
     "output_type": "stream",
     "text": [
      "Input: 지구에서 약 63광년 떨어진 우주에 있는 한 행성\n",
      "Predicted translation: the sun is being released years . <end> \n"
     ]
    }
   ],
   "source": [
    "translate('지구에서 약 63광년 떨어진 우주에 있는 한 행성', encoder, decoder)"
   ]
  },
  {
   "cell_type": "code",
   "execution_count": 123,
   "metadata": {},
   "outputs": [
    {
     "name": "stdout",
     "output_type": "stream",
     "text": [
      "Input: 2월에 실시된 신체검사를 포함해 세 번의 연례 신체검사에서 바이든의 신경학적 검사를 수행했다고 서한에 썼다. \n",
      "Predicted translation: the panel has been suspended , the associated press reported . <end> \n"
     ]
    }
   ],
   "source": [
    "translate('2월에 실시된 신체검사를 포함해 세 번의 연례 신체검사에서 바이든의 신경학적 검사를 수행했다고 서한에 썼다. ', encoder, decoder)"
   ]
  },
  {
   "cell_type": "code",
   "execution_count": 144,
   "metadata": {},
   "outputs": [
    {
     "name": "stdout",
     "output_type": "stream",
     "text": [
      "\n",
      "1번째 번역\n",
      "Input: 개인용 컴퓨터 사용의 상당 부분은 \"이것보다 뛰어날 수 있느냐?\"\n",
      "Predicted translation: the user s a brighter computer <end> \n",
      "\n",
      "2번째 번역\n",
      "Input: 모든 광마우스와 마찬가지 로 이 광마우스도 책상 위에 놓는 마우스 패드를 필요로 하지 않는다.\n",
      "Predicted translation: all the offending laptops are in a rechargeable wireless optical mouse . <end> \n",
      "\n",
      "3번째 번역\n",
      "Input: 그러나 이것은 또한 책상도 필요로 하지 않는다.\n",
      "Predicted translation: but it also do not do . <end> \n",
      "\n",
      "4번째 번역\n",
      "Input: 79.95달러하는 이 최첨단 무선 광마우스는 허공에서 팔목, 팔, 그외에 어떤 부분이든 그 움직임에따라 커서의 움직임을 조절하는 회전 운동 센서를 사용하고 있다.\n",
      "Predicted translation: the user is a sensor for the sensor that touches the sensor for the sensor that touches the sensor for the sensor that touches the sensor for the sensor that touches the sensor for the sensor that touches the sensor for the sensor that touches the sensor for the sensor that touches the sensor for the sensor that touches the sensor for the sensor that touches the sensor for the sensor that touches the sensor for the sensor that touches the sensor for the \n",
      "\n",
      "5번째 번역\n",
      "Input: 정보 관리들은 동남 아시아에서의 선박들에 대한 많은 (테러) 계획들이 실패로 돌아갔음을 밝혔으며, 세계 해상 교역량의 거의 3분의 1을 운송하는 좁은 해로인 말라카 해협이 테러 공격을 당하기 쉽다고 경고하고 있다.\n",
      "Predicted translation: the strikes are being used to withstand a stretch of the world s largest oil spill , the government has been hit by the scale of the world s largest oil spill , the government has been hit by the scale of the world s largest oil spill , the government has been hit by the scale of the world s largest oil spill , the government has been hit by the scale of the world s largest oil spill , the government has \n",
      "\n",
      "6번째 번역\n",
      "Input: 이 지역에 있는 미국 선박과 상업용 선박들에 대한 알카에다의 (테러) 시도 중 여러 건이 실패했다는 것을 알게 된 후에, 전문가들은 테러 조직이 여전히 세계 경제에 타격을 입히려 한다고 경고하고 있으며, 동남 아시아에 있는 세계 경제의 주요 통로가 위험에 처해 있다고 그들은 생각하고 있다.\n",
      "Predicted translation: still , the world economic crisis is being used in the world s economy . <end> \n",
      "\n",
      "7번째 번역\n",
      "Input: 국립 과학 학회가 발표한 새 보고서에따르면, 복잡한 임무를 수행해야 하는 군인들이나 보다 오랜 시간 동안 경계를 늦추지 않고 있기 위해 도움이 필요한 군인들에게 카페인이 반응 시간을 증가시키고 임무 수행 능력을 향상시키는데 도움이 된다고 한다.\n",
      "Predicted translation: a new reductions in the doorstep of the power of the goal of the goal of the goal of the goal of the goal of the goal of the goal of the goal of the goal of the goal of the goal of the goal of the goal of the goal of the goal of the goal of the goal of the goal of the goal of the goal of the goal of the goal of the goal of the goal of the goal \n",
      "\n",
      "8번째 번역\n",
      "Input: 이 보고서에따르면, \"특히, 군사 작전에서 생사가 걸린 상황이 될 수도 있는 반응 속도와 시각 및 청각의 경계 상태를 유지시키기 위해 카페인이 사용될 수도 있다.\" 고 한다.\n",
      "Predicted translation: the requirement that the risk of the situation , the requirement that the risk of the situation , the requirement that the risk of the situation , the requirement that the risk of the situation , the requirement that the risk of the situation , the requirement that the risk of the situation , the requirement that the risk of the situation , the requirement that the risk of the situation , the requirement that the risk of the situation , the requirement that \n",
      "\n",
      "9번째 번역\n",
      "Input: \"결정적인 순간에 그들의 능력을 증가시켜 줄 그 무엇이 매우 중요합니다.\"\n",
      "Predicted translation: the only the best impact on the highlights of their capabilities . <end> \n",
      "\n",
      "10번째 번역\n",
      "Input: 연구가들이 이미 커피 대체품으로서 음식 대용 과자나 껌에 카페인을 첨가하는 방법을 연구하고 있다고 Archibald는 말했다.\n",
      "Predicted translation: researchers are barred from chewing gum . <end> \n"
     ]
    }
   ],
   "source": [
    "# 학습데이터 번역해보기\n",
    "for i in range(10):\n",
    "    print(f\"\\n{i+1}번째 번역\")\n",
    "    translate(df['ko'][i], encoder, decoder)"
   ]
  },
  {
   "cell_type": "markdown",
   "metadata": {},
   "source": [
    "#### 학습 실패 사례\n",
    "\n",
    "```text\n",
    "num words 10000, units = 1024, embedding_dim = 512  : 학습이 진행이 안됨\n",
    "\n",
    "Epoch  1: 100%|██████████| 1019/1019 [07:35<00:00,  2.24it/s, Loss 1.8804] \n",
    "Epoch  2: 100%|██████████| 1019/1019 [05:01<00:00,  3.39it/s, Loss 1.8669]\n",
    "Epoch  3: 100%|██████████| 1019/1019 [05:00<00:00,  3.39it/s, Loss 1.8670]\n",
    "Epoch  4: 100%|██████████| 1019/1019 [05:04<00:00,  3.34it/s, Loss 1.8668]\n",
    "Epoch  5: 100%|██████████| 1019/1019 [05:11<00:00,  3.27it/s, Loss 1.8663]\n",
    "\n",
    "\n",
    "```\n"
   ]
  },
  {
   "cell_type": "markdown",
   "metadata": {},
   "source": [
    "### 결론 및 회고\n",
    "\n",
    "처음에는 일단 학습을 하고 하이퍼 파라미터를 변경하면서 epoch마다 번역 상태를 보려고 했는데, 처음 시도가 학습이 아예 안되었고, 2 번째 시도 학습이 생각보다 오래걸려서 결국 학습 경과에 따른 번역 상태를 확인해보지 못해서 아쉬웠다.  \n",
    "그래도 학습이 완료되고 예문을 번역하였을 때 성능이 생각보다 좋아서 깜짝 놀랐다. 그래서 이게 말이 안된다고 생각을 하고 다른 문장을 번역해보니 역시나 별로인 성능을 볼 수 있었다. 어떤 기준으로 예문을 준 건지는 몰라도 어느정도 학습이 되는 문장을 준 것 같았다.\n",
    "> 퍼실님께서 선별된 문장은 아니고 임의의 문장이라고 하셨다.   \n",
    "결과를 보시고 운이 좋은 경우일 거라고 하셔서 당황스럽다. \n",
    "\n",
    "그래도 번역이 이상한 문장 중에 일부분만 잘 된 케이스도 있고, 문법적으로 완전히 이상한 경우는 적어서 어느정도 모델의 성능은 잘 나온 것 같았다. 다만 학습 데이터를 그대로 모델에 돌려서 결과를 보면 같은 단어가 연속적으로 나오는 케이스도 많이 있는거 같았다. 원문 문장이 좀 복잡하면 그런 현상이 심했는데, 6번째 번역을 보면 꼭 그렇지만도 않았다. \n",
    "\n",
    "지금까지 연산 속도 자체는 lms보다 로컬이 빠른 경향이 있어서 로컬로 돌리다가 vram이 12기가 밖에 안되어서 결국 로컬에서 돌리는 것을 포기하고 lms에서 돌리게 되었다. 왜 그렇게 인공지능에서 vram을 중요시 하는 지 체감할 수 있는 경험이 되었다.   \n"
   ]
  },
  {
   "cell_type": "code",
   "execution_count": null,
   "metadata": {},
   "outputs": [],
   "source": []
  }
 ],
 "metadata": {
  "kernelspec": {
   "display_name": "Python 3 (ipykernel)",
   "language": "python",
   "name": "python3"
  },
  "language_info": {
   "codemirror_mode": {
    "name": "ipython",
    "version": 3
   },
   "file_extension": ".py",
   "mimetype": "text/x-python",
   "name": "python",
   "nbconvert_exporter": "python",
   "pygments_lexer": "ipython3",
   "version": "3.9.19"
  }
 },
 "nbformat": 4,
 "nbformat_minor": 2
}
