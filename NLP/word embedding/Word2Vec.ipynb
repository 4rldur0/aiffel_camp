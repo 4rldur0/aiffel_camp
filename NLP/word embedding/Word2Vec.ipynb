{
 "cells": [
  {
   "cell_type": "markdown",
   "metadata": {},
   "source": [
    "## 영어 Word2Vec 실습\n"
   ]
  },
  {
   "cell_type": "markdown",
   "metadata": {},
   "source": [
    "### word2vec 학습시키기"
   ]
  },
  {
   "cell_type": "code",
   "execution_count": 1,
   "metadata": {},
   "outputs": [
    {
     "name": "stderr",
     "output_type": "stream",
     "text": [
      "[nltk_data] Downloading package abc to\n",
      "[nltk_data]     C:\\Users\\zzoon\\AppData\\Roaming\\nltk_data...\n",
      "[nltk_data]   Unzipping corpora\\abc.zip.\n",
      "[nltk_data] Downloading package punkt to\n",
      "[nltk_data]     C:\\Users\\zzoon\\AppData\\Roaming\\nltk_data...\n",
      "[nltk_data]   Unzipping tokenizers\\punkt.zip.\n"
     ]
    },
    {
     "data": {
      "text/plain": [
       "True"
      ]
     },
     "execution_count": 1,
     "metadata": {},
     "output_type": "execute_result"
    }
   ],
   "source": [
    "# 내장 코퍼스 다운 \n",
    "import nltk\n",
    "\n",
    "nltk.download(\"abc\")\n",
    "nltk.download(\"punkt\")"
   ]
  },
  {
   "cell_type": "code",
   "execution_count": 1,
   "metadata": {},
   "outputs": [
    {
     "name": "stdout",
     "output_type": "stream",
     "text": [
      "코퍼스의 크기 : 29059\n"
     ]
    }
   ],
   "source": [
    "# 다운받은 코퍼스 불러오기\n",
    "from nltk.corpus import abc\n",
    "\n",
    "corpus = abc.sents()\n",
    "print(\"코퍼스의 크기 :\", len(corpus))"
   ]
  },
  {
   "cell_type": "code",
   "execution_count": 2,
   "metadata": {},
   "outputs": [],
   "source": [
    "from gensim.models import Word2Vec\n",
    "\n",
    "model = Word2Vec(\n",
    "    sentences=corpus, vector_size=100, window=5, min_count=5, workers=4, sg=0\n",
    ")"
   ]
  },
  {
   "cell_type": "code",
   "execution_count": 7,
   "metadata": {},
   "outputs": [
    {
     "name": "stdout",
     "output_type": "stream",
     "text": [
      "[('woman', 0.9233290553092957), ('skull', 0.9110273122787476), ('Bang', 0.9056601524353027), ('asteroid', 0.905209481716156), ('third', 0.9020007848739624), ('baby', 0.8994045853614807), ('dog', 0.8985887765884399), ('bought', 0.8975103497505188), ('rally', 0.8912405967712402), ('disc', 0.8889071345329285)]\n"
     ]
    }
   ],
   "source": [
    "model_result = model.wv.most_similar(\"man\")\n",
    "print(model_result)"
   ]
  },
  {
   "cell_type": "markdown",
   "metadata": {},
   "source": [
    "### save model"
   ]
  },
  {
   "cell_type": "code",
   "execution_count": 4,
   "metadata": {},
   "outputs": [],
   "source": [
    "from gensim.models import KeyedVectors\n",
    "\n",
    "model.wv.save_word2vec_format(\"model/w2v\")\n",
    "loaded_model = KeyedVectors.load_word2vec_format(\"model/w2v\")"
   ]
  },
  {
   "cell_type": "code",
   "execution_count": 5,
   "metadata": {},
   "outputs": [
    {
     "name": "stdout",
     "output_type": "stream",
     "text": [
      "[('woman', 0.9233290553092957), ('skull', 0.9110273122787476), ('Bang', 0.9056601524353027), ('asteroid', 0.905209481716156), ('third', 0.9020007848739624), ('baby', 0.8994045853614807), ('dog', 0.8985887765884399), ('bought', 0.8975103497505188), ('rally', 0.8912405967712402), ('disc', 0.8889071345329285)]\n"
     ]
    }
   ],
   "source": [
    "model_result = loaded_model.most_similar(\"man\")\n",
    "print(model_result)"
   ]
  },
  {
   "cell_type": "markdown",
   "metadata": {},
   "source": [
    "### 사전 임베딩 활용"
   ]
  },
  {
   "cell_type": "code",
   "execution_count": null,
   "metadata": {},
   "outputs": [],
   "source": [
    "w2v = KeyedVectors.load_word2vec_format(\n",
    "    \"model/GoogleNews-vectors-negative300.bin/GoogleNews-vectors-negative300.bin\",\n",
    "    binary=True,\n",
    "    limit=500000,\n",
    ")"
   ]
  },
  {
   "cell_type": "code",
   "execution_count": null,
   "metadata": {},
   "outputs": [],
   "source": [
    "# 임베딩 확인\n",
    "print(\n",
    "    len(w2v.index_to_key)\n",
    ")  # Gensim 4.0부터는 index_to_key를 활용해 vocab size를 알 수 있습니다.\n",
    "print(len(w2v[\"I\"]))  # 혹은 단어를 key로 직접 vector를 얻을 수 있습니다.\n",
    "print(w2v.vectors.shape)"
   ]
  },
  {
   "cell_type": "markdown",
   "metadata": {},
   "source": [
    "### 임베딩 시각화\n",
    "\n",
    "https://projector.tensorflow.org/ 에 업로드"
   ]
  },
  {
   "cell_type": "code",
   "execution_count": 8,
   "metadata": {},
   "outputs": [
    {
     "name": "stderr",
     "output_type": "stream",
     "text": [
      "2024-07-04 11:09:00,872 - word2vec2tensor - INFO - running c:\\Users\\zzoon\\anaconda3\\envs\\aiffel\\lib\\site-packages\\gensim\\scripts\\word2vec2tensor.py --input model/w2v --output model/w2v\n",
      "2024-07-04 11:09:00,872 - keyedvectors - INFO - loading projection weights from model/w2v\n",
      "2024-07-04 11:09:01,851 - utils - INFO - KeyedVectors lifecycle event {'msg': 'loaded (10363, 100) matrix of type float32 from model/w2v', 'binary': False, 'encoding': 'utf8', 'datetime': '2024-07-04T11:09:01.840316', 'gensim': '4.3.2', 'python': '3.9.19 | packaged by conda-forge | (main, Mar 20 2024, 12:38:46) [MSC v.1929 64 bit (AMD64)]', 'platform': 'Windows-10-10.0.22631-SP0', 'event': 'load_word2vec_format'}\n",
      "2024-07-04 11:09:02,623 - word2vec2tensor - INFO - 2D tensor file saved to model/w2v_tensor.tsv\n",
      "2024-07-04 11:09:02,624 - word2vec2tensor - INFO - Tensor metadata file saved to model/w2v_metadata.tsv\n",
      "2024-07-04 11:09:02,624 - word2vec2tensor - INFO - finished running word2vec2tensor.py\n"
     ]
    }
   ],
   "source": [
    "# w2v_metadata.tsv, w2v_tensor.tsv 생성\n",
    "! python -m gensim.scripts.word2vec2tensor --input model/w2v --output model/w2v\n"
   ]
  },
  {
   "cell_type": "markdown",
   "metadata": {},
   "source": [
    "## FastText"
   ]
  },
  {
   "cell_type": "code",
   "execution_count": 10,
   "metadata": {},
   "outputs": [],
   "source": [
    "# 학습\n",
    "from gensim.models import FastText\n",
    "\n",
    "fasttext_model = FastText(corpus, window=5, min_count=5, workers=4, sg=1)"
   ]
  },
  {
   "cell_type": "code",
   "execution_count": 11,
   "metadata": {},
   "outputs": [
    {
     "data": {
      "text/plain": [
       "[('memory', 0.9474899768829346),\n",
       " ('mechanisms', 0.8646126985549927),\n",
       " ('mechanism', 0.8622226715087891),\n",
       " ('musical', 0.8615105748176575),\n",
       " ('basic', 0.8544692397117615),\n",
       " ('imagine', 0.853622317314148),\n",
       " ('mechanical', 0.8525650501251221),\n",
       " ('technical', 0.842690646648407),\n",
       " ('visual', 0.8370323181152344),\n",
       " ('intelligence', 0.8364635705947876)]"
      ]
     },
     "execution_count": 11,
     "metadata": {},
     "output_type": "execute_result"
    }
   ],
   "source": [
    "# 오타에 강건 \n",
    "fasttext_model.wv.most_similar(\"memoryy\")"
   ]
  },
  {
   "cell_type": "markdown",
   "metadata": {},
   "source": [
    "## Glove"
   ]
  },
  {
   "cell_type": "code",
   "execution_count": 13,
   "metadata": {},
   "outputs": [
    {
     "name": "stdout",
     "output_type": "stream",
     "text": [
      "[==================================================] 100.0% 66.0/66.0MB downloaded\n"
     ]
    }
   ],
   "source": [
    "# pretrained model\n",
    "import gensim.downloader as api\n",
    "\n",
    "glove_model = api.load(\"glove-wiki-gigaword-50\")  # glove vectors 다운로드"
   ]
  },
  {
   "cell_type": "code",
   "execution_count": 14,
   "metadata": {},
   "outputs": [
    {
     "data": {
      "text/plain": [
       "[('cat', 0.9218004941940308),\n",
       " ('dogs', 0.8513158559799194),\n",
       " ('horse', 0.7907583713531494),\n",
       " ('puppy', 0.7754920721054077),\n",
       " ('pet', 0.7724708318710327),\n",
       " ('rabbit', 0.7720814347267151),\n",
       " ('pig', 0.7490062117576599),\n",
       " ('snake', 0.7399188876152039),\n",
       " ('baby', 0.7395570278167725),\n",
       " ('bite', 0.7387937307357788)]"
      ]
     },
     "execution_count": 14,
     "metadata": {},
     "output_type": "execute_result"
    }
   ],
   "source": [
    "glove_model.most_similar(\"dog\")  # 'dog'과 비슷한 단어 찾기"
   ]
  },
  {
   "cell_type": "code",
   "execution_count": null,
   "metadata": {},
   "outputs": [],
   "source": []
  }
 ],
 "metadata": {
  "kernelspec": {
   "display_name": "aiffel",
   "language": "python",
   "name": "python3"
  },
  "language_info": {
   "codemirror_mode": {
    "name": "ipython",
    "version": 3
   },
   "file_extension": ".py",
   "mimetype": "text/x-python",
   "name": "python",
   "nbconvert_exporter": "python",
   "pygments_lexer": "ipython3",
   "version": "3.9.19"
  }
 },
 "nbformat": 4,
 "nbformat_minor": 2
}
