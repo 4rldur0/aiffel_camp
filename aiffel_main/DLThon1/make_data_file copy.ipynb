{
 "cells": [
  {
   "cell_type": "markdown",
   "id": "e15bff19",
   "metadata": {},
   "source": [
    "# train data에 '일반 대화' 추가\n",
    "- 결과파일명: custom_train.csv"
   ]
  },
  {
   "cell_type": "code",
   "execution_count": 2,
   "id": "790233b2",
   "metadata": {},
   "outputs": [
    {
     "data": {
      "text/html": [
       "<div>\n",
       "<style scoped>\n",
       "    .dataframe tbody tr th:only-of-type {\n",
       "        vertical-align: middle;\n",
       "    }\n",
       "\n",
       "    .dataframe tbody tr th {\n",
       "        vertical-align: top;\n",
       "    }\n",
       "\n",
       "    .dataframe thead th {\n",
       "        text-align: right;\n",
       "    }\n",
       "</style>\n",
       "<table border=\"1\" class=\"dataframe\">\n",
       "  <thead>\n",
       "    <tr style=\"text-align: right;\">\n",
       "      <th></th>\n",
       "      <th>idx</th>\n",
       "      <th>class</th>\n",
       "      <th>conversation</th>\n",
       "    </tr>\n",
       "  </thead>\n",
       "  <tbody>\n",
       "    <tr>\n",
       "      <th>0</th>\n",
       "      <td>0</td>\n",
       "      <td>협박 대화</td>\n",
       "      <td>지금 너 스스로를 죽여달라고 애원하는 것인가?\\n 아닙니다. 죄송합니다.\\n 죽을 ...</td>\n",
       "    </tr>\n",
       "    <tr>\n",
       "      <th>1</th>\n",
       "      <td>1</td>\n",
       "      <td>협박 대화</td>\n",
       "      <td>길동경찰서입니다.\\n9시 40분 마트에 폭발물을 설치할거다.\\n네?\\n똑바로 들어 ...</td>\n",
       "    </tr>\n",
       "    <tr>\n",
       "      <th>2</th>\n",
       "      <td>2</td>\n",
       "      <td>기타 괴롭힘 대화</td>\n",
       "      <td>너 되게 귀여운거 알지? 나보다 작은 남자는 첨봤어.\\n그만해. 니들 놀리는거 재미...</td>\n",
       "    </tr>\n",
       "    <tr>\n",
       "      <th>3</th>\n",
       "      <td>3</td>\n",
       "      <td>갈취 대화</td>\n",
       "      <td>어이 거기\\n예??\\n너 말이야 너. 이리 오라고\\n무슨 일.\\n너 옷 좋아보인다?...</td>\n",
       "    </tr>\n",
       "    <tr>\n",
       "      <th>4</th>\n",
       "      <td>4</td>\n",
       "      <td>갈취 대화</td>\n",
       "      <td>저기요 혹시 날이 너무 뜨겁잖아요? 저희 회사에서 이 선크림 파는데 한 번 손등에 ...</td>\n",
       "    </tr>\n",
       "  </tbody>\n",
       "</table>\n",
       "</div>"
      ],
      "text/plain": [
       "   idx      class                                       conversation\n",
       "0    0      협박 대화  지금 너 스스로를 죽여달라고 애원하는 것인가?\\n 아닙니다. 죄송합니다.\\n 죽을 ...\n",
       "1    1      협박 대화  길동경찰서입니다.\\n9시 40분 마트에 폭발물을 설치할거다.\\n네?\\n똑바로 들어 ...\n",
       "2    2  기타 괴롭힘 대화  너 되게 귀여운거 알지? 나보다 작은 남자는 첨봤어.\\n그만해. 니들 놀리는거 재미...\n",
       "3    3      갈취 대화  어이 거기\\n예??\\n너 말이야 너. 이리 오라고\\n무슨 일.\\n너 옷 좋아보인다?...\n",
       "4    4      갈취 대화  저기요 혹시 날이 너무 뜨겁잖아요? 저희 회사에서 이 선크림 파는데 한 번 손등에 ..."
      ]
     },
     "execution_count": 2,
     "metadata": {},
     "output_type": "execute_result"
    }
   ],
   "source": [
    "import pandas as pd\n",
    "\n",
    "base_data_path = '/aiffel/aiffel/workspace/16_dlthon_1/data/'\n",
    "\n",
    "train = pd.read_csv(base_data_path + 'train.csv')\n",
    "train.head()"
   ]
  },
  {
   "cell_type": "code",
   "execution_count": 2,
   "id": "b8e5a327",
   "metadata": {},
   "outputs": [
    {
     "name": "stdout",
     "output_type": "stream",
     "text": [
      "전체 갯수 3950\n",
      "class 종류: 직장 내 괴롭힘 대화 협박 대화 갈취 대화 기타 괴롭힘 대화\n",
      "class 협박 대화 896\n",
      "class 갈취 대화 981\n",
      "class 직장 내 괴롭힘 대화 979\n",
      "class 기타 괴롭힘 대화 1094\n"
     ]
    },
    {
     "data": {
      "text/plain": [
       "count    3950.000000\n",
       "mean      226.570886\n",
       "std       104.560310\n",
       "min        41.000000\n",
       "25%       156.000000\n",
       "50%       203.000000\n",
       "75%       270.000000\n",
       "max       874.000000\n",
       "Name: conversation, dtype: float64"
      ]
     },
     "execution_count": 2,
     "metadata": {},
     "output_type": "execute_result"
    }
   ],
   "source": [
    "print('전체 갯수',len(train))\n",
    "print('class 종류:', *set(train['class']))\n",
    "print('class 협박 대화', len(train[train['class'] == '협박 대화']))\n",
    "print('class 갈취 대화', len(train[train['class'] == '갈취 대화']))\n",
    "print('class 직장 내 괴롭힘 대화', len(train[train['class'] == '직장 내 괴롭힘 대화']))\n",
    "print('class 기타 괴롭힘 대화', len(train[train['class'] == '기타 괴롭힘 대화']))\n",
    "len(train['conversation'][0])\n",
    "train['conversation'].apply(len).describe()"
   ]
  },
  {
   "cell_type": "code",
   "execution_count": 3,
   "id": "b3158553",
   "metadata": {},
   "outputs": [],
   "source": [
    "import os\n",
    "\n",
    "# /aiffel/aiffel/workspace/16_dlthon_1/data/normal_conversation\n",
    "\n",
    "dirs_normal_text = ['./data/normal_conversation/02_label_data/session2/',\n",
    "                    './data/normal_conversation/02_label_data/session3/',\n",
    "                     './data/normal_conversation/02_label_data/session4/']\n",
    "\n",
    "total_path = []\n",
    "for dirs in dirs_normal_text:\n",
    "    for file_path in os.listdir(dirs):\n",
    "        total_path.append(dirs+file_path)\n",
    "        \n",
    "# total path 확인용\n",
    "# for path in total_path:\n",
    "#     print(path)"
   ]
  },
  {
   "cell_type": "code",
   "execution_count": 4,
   "id": "6963f44a",
   "metadata": {},
   "outputs": [
    {
     "name": "stdout",
     "output_type": "stream",
     "text": [
      "1100\n",
      "안녕하세요 5주만에 만나서 반가워요네 반가워요. 요즘 영월에서 전통 민속놀이를 하고 있는데, 보신적 있나요?무슨민속놀이 하는데요 궁금해요단종의 죽음을 기리는 민속놀이라고 합니다.아 슬픈거내요 전 생소해서 그런건슬프긴 하지만 한 번쯤 가서 볼만 합니다. 보러 가세요.민속놀이는 투구던지기 알아요?투구던지기 알죠. 잘 던지시나요?잘던져요 저는 소질이 있나봐요최고 잘 던진 기록은 얼마인가요?백미터정도요 ㅋㅋ 농담이고요 \n"
     ]
    }
   ],
   "source": [
    "import json\n",
    "\n",
    "results = []\n",
    "\n",
    "for path in total_path:\n",
    "    \n",
    "    with open(path, 'r') as f:\n",
    "        json_data = json.load(f)\n",
    "\n",
    "        for session in json_data['sessionInfo']:\n",
    "\n",
    "            tmp_text = ''\n",
    "            for log in session['dialog']:\n",
    "                tmp_text += log['utterance']\n",
    "\n",
    "                # 평균 길이보다 크면 break\n",
    "                if len(tmp_text) >= 226:\n",
    "                    results.append(tmp_text)\n",
    "                    tmp_text = ''\n",
    "                    break\n",
    " \n",
    "print(len(results))\n",
    "print(results[3])\n"
   ]
  },
  {
   "cell_type": "code",
   "execution_count": 5,
   "id": "59125357",
   "metadata": {},
   "outputs": [],
   "source": [
    "results_df = pd.DataFrame(\n",
    "    {\n",
    "        'idx': range(3950, 3950+len(results)),\n",
    "        'class': ['일반 대화']*len(results),\n",
    "        'conversation':results\n",
    "    }\n",
    ")\n",
    "\n",
    "train = pd.concat([train, results_df], ignore_index=True)"
   ]
  },
  {
   "cell_type": "code",
   "execution_count": 6,
   "id": "4cbd2777",
   "metadata": {},
   "outputs": [
    {
     "name": "stdout",
     "output_type": "stream",
     "text": [
      "전체 갯수 5050\n",
      "class 종류: 기타 괴롭힘 대화 직장 내 괴롭힘 대화 일반 대화 협박 대화 갈취 대화\n",
      "class 협박 대화 896\n",
      "class 갈취 대화 981\n",
      "class 직장 내 괴롭힘 대화 979\n",
      "class 기타 괴롭힘 대화 1094\n"
     ]
    },
    {
     "data": {
      "text/plain": [
       "count    5050.000000\n",
       "mean      230.886535\n",
       "std        93.135962\n",
       "min        41.000000\n",
       "25%       169.250000\n",
       "50%       229.000000\n",
       "75%       261.000000\n",
       "max       874.000000\n",
       "Name: conversation, dtype: float64"
      ]
     },
     "execution_count": 6,
     "metadata": {},
     "output_type": "execute_result"
    }
   ],
   "source": [
    "# 확인용\n",
    "print('전체 갯수',len(train))\n",
    "print('class 종류:', *set(train['class']))\n",
    "print('class 협박 대화', len(train[train['class'] == '협박 대화']))\n",
    "print('class 갈취 대화', len(train[train['class'] == '갈취 대화']))\n",
    "print('class 직장 내 괴롭힘 대화', len(train[train['class'] == '직장 내 괴롭힘 대화']))\n",
    "print('class 기타 괴롭힘 대화', len(train[train['class'] == '기타 괴롭힘 대화']))\n",
    "len(train['conversation'][0])\n",
    "train['conversation'].apply(len).describe()"
   ]
  },
  {
   "cell_type": "code",
   "execution_count": 7,
   "id": "17750fd7",
   "metadata": {},
   "outputs": [],
   "source": [
    "train.to_csv('./data/custom_train.csv', index=False)"
   ]
  },
  {
   "cell_type": "markdown",
   "id": "1479be6a",
   "metadata": {},
   "source": [
    "# test 데이터 csv로\n",
    "- 결과파일명 : custom_test.csv"
   ]
  },
  {
   "cell_type": "code",
   "execution_count": 21,
   "id": "3bd10b6b",
   "metadata": {},
   "outputs": [],
   "source": [
    "import json\n",
    "\n",
    "with open(base_data_path+'test.json', 'r') as read_file:\n",
    "    org_datas = json.load(read_file)\n",
    "\n",
    "test_datas = []\n",
    "\n",
    "for key in org_datas:\n",
    "    test_datas.append(org_datas[key]['text'])\n",
    "\n",
    "test = pd.DataFrame(test_datas,columns=['conversation'])\n",
    "\n",
    "test.to_csv('./data/custom_test.csv', index=False)"
   ]
  }
 ],
 "metadata": {
  "kernelspec": {
   "display_name": "Python 3 (ipykernel)",
   "language": "python",
   "name": "python3"
  },
  "language_info": {
   "codemirror_mode": {
    "name": "ipython",
    "version": 3
   },
   "file_extension": ".py",
   "mimetype": "text/x-python",
   "name": "python",
   "nbconvert_exporter": "python",
   "pygments_lexer": "ipython3",
   "version": "3.9.7"
  }
 },
 "nbformat": 4,
 "nbformat_minor": 5
}
