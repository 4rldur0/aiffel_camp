{
 "cells": [
  {
   "cell_type": "code",
   "execution_count": 2,
   "id": "576dc28c",
   "metadata": {},
   "outputs": [
    {
     "name": "stderr",
     "output_type": "stream",
     "text": [
      "c:\\Users\\zzoon\\anaconda3\\envs\\tf\\lib\\site-packages\\tqdm\\auto.py:21: TqdmWarning: IProgress not found. Please update jupyter and ipywidgets. See https://ipywidgets.readthedocs.io/en/stable/user_install.html\n",
      "  from .autonotebook import tqdm as notebook_tqdm\n"
     ]
    }
   ],
   "source": [
    "import tensorflow as tf\n",
    "import tensorflow_datasets as tfds\n",
    "import os\n",
    "import re\n",
    "import numpy as np\n",
    "import matplotlib.pyplot as plt"
   ]
  },
  {
   "cell_type": "markdown",
   "id": "4f664398",
   "metadata": {},
   "source": [
    "# 퀘스트\n",
    "\n",
    "1. transformer에서 변경이 필요한 부분  \n",
    " i. 인코더 부분 제거  \n",
    " ii. 포지셔녈 임베딩을 학습가능한 벡터로 구성   \n",
    " iii. 손실함수가 변경  \n",
    " iv. 디코더에서 인코더-디코더 부분 제거  \n",
    " v. 디코더 블록이 끝난 후 embedding_matrix와 곱하고 softmax를 거쳐 출력  \n",
    "2. 모델에 맞게 전처리  \n",
    " i. 레이블이 필요 없기 때문에 a,q를 합쳐서 사용  \n",
    " ii. dataset을 만들 때 encoder_input이 불필요  \n",
    "3. 모델의 입력 블록을 GPT논문에 기반하여 수정  \n",
    " 나름 바꿨다고 생각했는데 자신은 없습니다.  \n",
    "4. GPT모델이 정상적으로 구성  \n",
    " 나름 바꿨다고 생각했는데 자신은 없습니다 2.  \n",
    "5. 정상적 출력   \n",
    " 반복적인 단어의 뭉치로 나왔음"
   ]
  },
  {
   "cell_type": "markdown",
   "id": "82e09eab",
   "metadata": {},
   "source": [
    "## 0. gpt 모듈"
   ]
  },
  {
   "cell_type": "markdown",
   "id": "83c0bf13",
   "metadata": {},
   "source": [
    "포지셔널 인코딩"
   ]
  },
  {
   "cell_type": "code",
   "execution_count": 3,
   "id": "3e370859",
   "metadata": {},
   "outputs": [],
   "source": [
    "# 포지셔널 인코딩 레이어\n",
    "class PositionalEncoding(tf.keras.layers.Layer):\n",
    "\n",
    "    def __init__(self, max_position, d_model):\n",
    "        super(PositionalEncoding, self).__init__()   # 부모 클래스 상속 초기화, 필수는 아님 \n",
    "        self.pos_encoding = self.add_weight(\n",
    "            \"pos_encoding\",\n",
    "            shape=[1, max_position, d_model],\n",
    "            initializer=tf.keras.initializers.RandomNormal(),\n",
    "            trainable=True)\n",
    "\n",
    "    def call(self, inputs):\n",
    "        return inputs + self.pos_encoding[:, :tf.shape(inputs)[1], :]"
   ]
  },
  {
   "cell_type": "markdown",
   "id": "f48d8555",
   "metadata": {},
   "source": [
    "스케일드 닷 프로덕트"
   ]
  },
  {
   "cell_type": "code",
   "execution_count": 4,
   "id": "facabb32",
   "metadata": {},
   "outputs": [],
   "source": [
    "def scaled_dot_product_attention(query, key, value, mask):\n",
    "    # 어텐션 가중치는 Q와 K의 닷 프로덕트\n",
    "    matmul_qk = tf.matmul(query, key, transpose_b=True)\n",
    "\n",
    "    # 가중치를 정규화\n",
    "    # tf.shape(key)[-1] = 워드벡터의 크기 \n",
    "    depth = tf.cast(tf.shape(key)[-1], tf.float32)\n",
    "    logits = matmul_qk / tf.math.sqrt(depth)\n",
    "\n",
    "    # 패딩에 마스크 추가\n",
    "    # 마스크의 1이면 큰값을 빼는 거니까 softmax를 지나면 0에 수렴  \n",
    "    if mask is not None:\n",
    "        logits += (mask * -1e9)\n",
    "\n",
    "    # softmax적용\n",
    "    attention_weights = tf.nn.softmax(logits, axis=-1)\n",
    "\n",
    "    # 최종 어텐션은 가중치와 V의 닷 프로덕트\n",
    "    output = tf.matmul(attention_weights, value)\n",
    "    return output\n"
   ]
  },
  {
   "cell_type": "markdown",
   "id": "9092b24c",
   "metadata": {},
   "source": [
    "멀티헤드 어텐션"
   ]
  },
  {
   "cell_type": "code",
   "execution_count": 5,
   "id": "cbdcb6de",
   "metadata": {},
   "outputs": [],
   "source": [
    "class MultiHeadAttention(tf.keras.layers.Layer):\n",
    "\n",
    "    def __init__(self, d_model, num_heads, name=\"multi_head_attention\"):\n",
    "        super(MultiHeadAttention, self).__init__(name=name)\n",
    "        self.num_heads = num_heads\n",
    "        self.d_model = d_model\n",
    "        \n",
    "        # 워드벡터가 헤드수로 나머지 없이 나누어 져야함\n",
    "        assert d_model % self.num_heads == 0\n",
    "\n",
    "        self.depth = d_model // self.num_heads\n",
    "\n",
    "        self.query_dense = tf.keras.layers.Dense(units=d_model)\n",
    "        self.key_dense = tf.keras.layers.Dense(units=d_model)\n",
    "        self.value_dense = tf.keras.layers.Dense(units=d_model)\n",
    "\n",
    "        self.dense = tf.keras.layers.Dense(units=d_model)\n",
    "\n",
    "    def split_heads(self, inputs, batch_size):\n",
    "        # input.shape : [batch_size, seq_len, d_model(self.num_head*self.depth)]\n",
    "            # seq_len : 문장길이\n",
    "            # d_model : 임베딩 차원 \n",
    "        inputs = tf.reshape(\n",
    "            inputs, shape=(batch_size, -1, self.num_heads, self.depth))\n",
    "        # [batch_size, self.num_head, seq_len, self.depth)]\n",
    "        # transpose를 통해 num_heads를 앞으로 불러와 병렬연산 효율성(gpu활용성)을 높임 \n",
    "            # 일반적으로 뒷 차원의 크기가 클 수록 효율적\n",
    "        return tf.transpose(inputs, perm=[0, 2, 1, 3])\n",
    "\n",
    "    def call(self, inputs):\n",
    "        query, key, value, mask = inputs['query'], inputs['key'], inputs[\n",
    "            'value'], inputs['mask']\n",
    "        batch_size = tf.shape(query)[0]\n",
    "\n",
    "        # Q, K, V에 각각 Dense를 적용합니다\n",
    "        query = self.query_dense(query)\n",
    "        key = self.key_dense(key)\n",
    "        value = self.value_dense(value)\n",
    "\n",
    "        # 병렬 연산을 위한 머리를 여러 개 만듭니다\n",
    "        query = self.split_heads(query,batch_size)\n",
    "        key = self.split_heads(key,batch_size)\n",
    "        value = self.split_heads(value,batch_size)\n",
    "\n",
    "        # 스케일드 닷 프로덕트 어텐션 함수\n",
    "        scaled_attention = scaled_dot_product_attention(query, key, value, mask)\n",
    "\n",
    "        scaled_attention = tf.transpose(scaled_attention, perm=[0, 2, 1, 3])\n",
    "\n",
    "        # 어텐션 연산 후에 각 결과를 다시 연결(concatenate)합니다\n",
    "        concat_attention = tf.reshape(scaled_attention,\n",
    "                                      (batch_size, -1, self.d_model))\n",
    "\n",
    "        # 최종 결과에도 Dense를 한 번 더 적용합니다\n",
    "        outputs = self.dense(concat_attention)\n",
    "\n",
    "        return outputs\n",
    "\n",
    "    def get_config(self):\n",
    "        return {\n",
    "            'num_heads': self.num_heads,\n",
    "            'd_model': self.d_model,\n",
    "            'depth': self.depth,\n",
    "            'query_dense': self.query_dense,\n",
    "            'key_dense': self.key_dense,\n",
    "            'value_dense': self.value_dense,\n",
    "            'dense': self.dense,\n",
    "        }"
   ]
  },
  {
   "cell_type": "markdown",
   "id": "9a4a8402",
   "metadata": {},
   "source": [
    "코잘 마스킹(패딩)"
   ]
  },
  {
   "cell_type": "code",
   "execution_count": 6,
   "id": "30d71d4e",
   "metadata": {},
   "outputs": [],
   "source": [
    "# 숫자가 0인 부분을 체크한 벡터를 리턴\n",
    "def create_padding_mask(x):\n",
    "    mask = tf.cast(tf.math.equal(x, 0), tf.float32)\n",
    "    # (batch_size, 1, 1, sequence length)\n",
    "    return mask[:, tf.newaxis, tf.newaxis, :]"
   ]
  },
  {
   "cell_type": "code",
   "execution_count": 7,
   "id": "8664cbc3",
   "metadata": {},
   "outputs": [],
   "source": [
    "# 숫자가 0인 부분도 마스킹\n",
    "def create_look_ahead_mask(x):\n",
    "    seq_len = tf.shape(x)[1]\n",
    "    # tf.linalg.band_part: 대각요소를 가져오거나 이를 기준을 다른 것을 제거 \n",
    "        # (텐서, 유지할 아래 대각요소, 유지할 위 대각요소) -1이면 전부 \n",
    "        # 대각요소는 항상 유지 \n",
    "    look_ahead_mask = 1 - tf.linalg.band_part(tf.ones((seq_len, seq_len)), -1, 0)\n",
    "    padding_mask = create_padding_mask(x)\n",
    "    return tf.maximum(look_ahead_mask, padding_mask)"
   ]
  },
  {
   "cell_type": "markdown",
   "id": "aa302eb2",
   "metadata": {},
   "source": [
    "### 디코더"
   ]
  },
  {
   "cell_type": "code",
   "execution_count": 8,
   "id": "6d941cad",
   "metadata": {},
   "outputs": [],
   "source": [
    "# 디코더 하나의 레이어를 함수로 구현.\n",
    "# 이 하나의 레이어 안에는 세 개의 서브 레이어가 존재합니다.\n",
    "def decoder_layer(units, d_model, num_heads, dropout, name=\"decoder_layer\"):\n",
    "    inputs = tf.keras.Input(shape=(None, d_model), name=\"inputs\")\n",
    "    look_ahead_mask = tf.keras.Input(\n",
    "    shape=(1, None, None), name=\"look_ahead_mask\")\n",
    "\n",
    "    # 첫 번째 서브 레이어 : 마스크트 멀티 헤드 어텐션 수행 (셀프 어텐션)\n",
    "    attention1 = MultiHeadAttention(\n",
    "    d_model, num_heads, name=\"attention_1\")(inputs={\n",
    "          'query': inputs,\n",
    "          'key': inputs,\n",
    "          'value': inputs,\n",
    "          'mask': look_ahead_mask\n",
    "        })\n",
    "\n",
    "    # 마스크드 멀티 헤드 어텐션의 결과는\n",
    "    # Dropout과 LayerNormalization이라는 훈련을 돕는 테크닉을 수행\n",
    "    attention1 = tf.keras.layers.Dropout(rate=dropout)(attention1)\n",
    "    attention1 = tf.keras.layers.LayerNormalization(\n",
    "    epsilon=1e-6)(attention1 + inputs)\n",
    "\n",
    "    # 세 번째 서브 레이어 : 2개의 완전연결층\n",
    "    outputs = tf.keras.layers.Dense(units=units, activation='relu')(attention1)\n",
    "    outputs = tf.keras.layers.Dense(units=d_model)(outputs)\n",
    "\n",
    "    # 완전연결층의 결과는 Dropout과 LayerNormalization 수행\n",
    "    outputs = tf.keras.layers.Dropout(rate=dropout)(outputs)\n",
    "    outputs = tf.keras.layers.LayerNormalization(\n",
    "    epsilon=1e-6)(outputs + attention1)\n",
    "\n",
    "    return tf.keras.Model(\n",
    "        inputs=[inputs, look_ahead_mask],\n",
    "        outputs=outputs,\n",
    "        name=name)"
   ]
  },
  {
   "cell_type": "code",
   "execution_count": 61,
   "id": "77fbe0d9",
   "metadata": {},
   "outputs": [],
   "source": [
    "# 전체 디코더, 디코더 층 여러개\n",
    "def decoder(vocab_size,\n",
    "            num_layers,\n",
    "            units,\n",
    "            d_model,\n",
    "            num_heads,\n",
    "            dropout,\n",
    "            max_len,\n",
    "            name='decoder'):\n",
    "    inputs = tf.keras.Input(shape=(None,), name='inputs')\n",
    "    # 마스크\n",
    "    look_ahead_mask = tf.keras.Input(\n",
    "        shape=(1, None, None), name='look_ahead_mask')\n",
    "\n",
    "\n",
    "    # 임베딩 레이어\n",
    "    embedding_layer = tf.keras.layers.Embedding(vocab_size, d_model)\n",
    "    embeddings = embedding_layer(inputs)\n",
    "    embeddings *= tf.math.sqrt(tf.cast(d_model, tf.float32))\n",
    "\n",
    "    # 포지셔널 인코딩\n",
    "    embeddings_pos = PositionalEncoding(max_len, d_model)(embeddings)\n",
    "\n",
    "    # Dropout이라는 훈련을 돕는 테크닉을 수행\n",
    "    outputs = tf.keras.layers.Dropout(rate=dropout)(embeddings_pos)\n",
    "\n",
    "    for i in range(num_layers):\n",
    "        outputs = decoder_layer(\n",
    "            units=units,\n",
    "            d_model=d_model,\n",
    "            num_heads=num_heads,\n",
    "            dropout=dropout,\n",
    "            name='decoder_layer_{}'.format(i),\n",
    "        )(inputs=[outputs, look_ahead_mask])\n",
    "        \n",
    "    @tf.function\n",
    "    def get_embedding_matrix():\n",
    "        return embedding_layer.weights[0] * tf.math.sqrt(tf.cast(d_model, tf.float32))\n",
    "    embedding_matrix = get_embedding_matrix()\n",
    "\n",
    "    outputs = tf.matmul(outputs, embedding_matrix, transpose_b=True)\n",
    "    outputs = tf.keras.layers.Activation('softmax')(outputs)\n",
    "\n",
    "\n",
    "    return tf.keras.Model(\n",
    "        inputs=[inputs, look_ahead_mask],\n",
    "        outputs=outputs,\n",
    "        name=name)\n"
   ]
  },
  {
   "cell_type": "markdown",
   "id": "199f7f93",
   "metadata": {},
   "source": [
    "## 1. 데이터 불러오기\n",
    "\n",
    "**[송영숙님이 공개한 챗봇 데이터를 사용](https://github.com/songys/Chatbot_data/blob/master/ChatbotData.csv)**  \n",
    "\n",
    "1. 문장에서 단어와 구두점 사이에 공백을 추가한다.\n",
    "2. ! ? , . 이 4개의 구두점을 제외하고 다른 특수문자는 모두 제거한다.\n",
    "3. 노드와는 다르게 숫자를 지우지 않고 가-힣를 사용해서 한글을 유지한다.\n",
    "\n",
    "* 레이블이 필요없이 비지도학습이니까 q,a구분없이 합쳐서 사용, 다만 a에 중복이 있어서 제거하고 사용"
   ]
  },
  {
   "cell_type": "code",
   "execution_count": 10,
   "id": "df53b629",
   "metadata": {},
   "outputs": [],
   "source": [
    "import pandas as pd\n",
    "data = pd.read_csv('data/ChatbotData.csv')"
   ]
  },
  {
   "cell_type": "code",
   "execution_count": 11,
   "id": "59c8390a",
   "metadata": {},
   "outputs": [
    {
     "data": {
      "text/html": [
       "<div>\n",
       "<style scoped>\n",
       "    .dataframe tbody tr th:only-of-type {\n",
       "        vertical-align: middle;\n",
       "    }\n",
       "\n",
       "    .dataframe tbody tr th {\n",
       "        vertical-align: top;\n",
       "    }\n",
       "\n",
       "    .dataframe thead th {\n",
       "        text-align: right;\n",
       "    }\n",
       "</style>\n",
       "<table border=\"1\" class=\"dataframe\">\n",
       "  <thead>\n",
       "    <tr style=\"text-align: right;\">\n",
       "      <th></th>\n",
       "      <th>Q</th>\n",
       "      <th>A</th>\n",
       "      <th>label</th>\n",
       "    </tr>\n",
       "  </thead>\n",
       "  <tbody>\n",
       "    <tr>\n",
       "      <th>0</th>\n",
       "      <td>12시 땡!</td>\n",
       "      <td>하루가 또 가네요.</td>\n",
       "      <td>0</td>\n",
       "    </tr>\n",
       "    <tr>\n",
       "      <th>1</th>\n",
       "      <td>1지망 학교 떨어졌어</td>\n",
       "      <td>위로해 드립니다.</td>\n",
       "      <td>0</td>\n",
       "    </tr>\n",
       "    <tr>\n",
       "      <th>2</th>\n",
       "      <td>3박4일 놀러가고 싶다</td>\n",
       "      <td>여행은 언제나 좋죠.</td>\n",
       "      <td>0</td>\n",
       "    </tr>\n",
       "    <tr>\n",
       "      <th>3</th>\n",
       "      <td>3박4일 정도 놀러가고 싶다</td>\n",
       "      <td>여행은 언제나 좋죠.</td>\n",
       "      <td>0</td>\n",
       "    </tr>\n",
       "    <tr>\n",
       "      <th>4</th>\n",
       "      <td>PPL 심하네</td>\n",
       "      <td>눈살이 찌푸려지죠.</td>\n",
       "      <td>0</td>\n",
       "    </tr>\n",
       "  </tbody>\n",
       "</table>\n",
       "</div>"
      ],
      "text/plain": [
       "                 Q            A  label\n",
       "0           12시 땡!   하루가 또 가네요.      0\n",
       "1      1지망 학교 떨어졌어    위로해 드립니다.      0\n",
       "2     3박4일 놀러가고 싶다  여행은 언제나 좋죠.      0\n",
       "3  3박4일 정도 놀러가고 싶다  여행은 언제나 좋죠.      0\n",
       "4          PPL 심하네   눈살이 찌푸려지죠.      0"
      ]
     },
     "execution_count": 11,
     "metadata": {},
     "output_type": "execute_result"
    }
   ],
   "source": [
    "data.head()"
   ]
  },
  {
   "cell_type": "code",
   "execution_count": 12,
   "id": "41af0d92",
   "metadata": {},
   "outputs": [],
   "source": [
    "# 입출력을 합친 모든 문장을 가진 리스트를 만듦\n",
    "dataset = data[\"A\"].to_list()\n",
    "dataset.extend(data[\"Q\"].to_list()) "
   ]
  },
  {
   "cell_type": "code",
   "execution_count": 13,
   "id": "cfe30cd8",
   "metadata": {},
   "outputs": [
    {
     "data": {
      "text/plain": [
       "23646"
      ]
     },
     "execution_count": 13,
     "metadata": {},
     "output_type": "execute_result"
    }
   ],
   "source": [
    "len(dataset)"
   ]
  },
  {
   "cell_type": "code",
   "execution_count": 14,
   "id": "2f8d8df1",
   "metadata": {},
   "outputs": [
    {
     "data": {
      "text/plain": [
       "19436"
      ]
     },
     "execution_count": 14,
     "metadata": {},
     "output_type": "execute_result"
    }
   ],
   "source": [
    "# 중복값 확인\n",
    "len(set(dataset))"
   ]
  },
  {
   "cell_type": "code",
   "execution_count": 15,
   "id": "56d07d65",
   "metadata": {},
   "outputs": [
    {
     "data": {
      "text/plain": [
       "19436"
      ]
     },
     "execution_count": 15,
     "metadata": {},
     "output_type": "execute_result"
    }
   ],
   "source": [
    "dataset = list(set(dataset))\n",
    "len(dataset)"
   ]
  },
  {
   "cell_type": "code",
   "execution_count": 16,
   "id": "ac90bc53",
   "metadata": {},
   "outputs": [
    {
     "data": {
      "text/plain": [
       "['그동안 사랑했던 사람이니까요.',\n",
       " '기분이 묘한 하루네',\n",
       " '사람은 사람으로 잊는 거예요.',\n",
       " '아무렇지 않아 보여도 많이 힘들거예요.',\n",
       " '우정이 뭘까']"
      ]
     },
     "execution_count": 16,
     "metadata": {},
     "output_type": "execute_result"
    }
   ],
   "source": [
    "dataset[:5]"
   ]
  },
  {
   "cell_type": "markdown",
   "id": "fe583262",
   "metadata": {},
   "source": [
    "## 2. 전처리"
   ]
  },
  {
   "cell_type": "code",
   "execution_count": 17,
   "id": "a364d36c",
   "metadata": {},
   "outputs": [],
   "source": [
    "# 전처리 함수\n",
    "def preprocess_sentence(sentence):\n",
    "    # 입력받은 sentence를 소문자로 변경하고 양쪽 공백을 제거\n",
    "    sentence = sentence.lower().strip()\n",
    "\n",
    "    # 단어와 구두점(punctuation) 사이의 거리를 만듭니다.\n",
    "    # 예를 들어서 \"I am a student.\" => \"I am a student .\"와 같이\n",
    "    # student와 온점 사이에 거리를 만듭니다.\n",
    "    sentence = re.sub(r\"([?.!,])\", r\" \\1 \", sentence)\n",
    "    sentence = re.sub(r'[\" \"]+', \" \", sentence)\n",
    "\n",
    "    # (a-z, A-Z,가-힣,0-9, \".\", \"?\", \"!\", \",\")를 제외한 모든 문자를 공백인 ' '로 대체합니다.\n",
    "    sentence = re.sub(r\"[^a-zA-Z가-힣0-9\\.\\?\\!,]\",\" \",sentence)\n",
    "    sentence = sentence.strip()\n",
    "    return sentence\n"
   ]
  },
  {
   "cell_type": "code",
   "execution_count": 18,
   "id": "17328711",
   "metadata": {},
   "outputs": [],
   "source": [
    "def preprocess_sentences(sentences):\n",
    "    return [preprocess_sentence(sentence) for sentence in sentences]"
   ]
  },
  {
   "cell_type": "code",
   "execution_count": 19,
   "id": "226c23b5",
   "metadata": {},
   "outputs": [],
   "source": [
    "dataset = preprocess_sentences(dataset)"
   ]
  },
  {
   "cell_type": "code",
   "execution_count": 20,
   "id": "e277fb55",
   "metadata": {},
   "outputs": [
    {
     "name": "stdout",
     "output_type": "stream",
     "text": [
      "전처리 후의 22번째 질문 샘플: 마음 단단히 잡으세요 .\n"
     ]
    }
   ],
   "source": [
    "n = 21\n",
    "print('전처리 후의 22번째 질문 샘플: {}'.format(dataset[n]))\n"
   ]
  },
  {
   "cell_type": "markdown",
   "id": "2da216dd",
   "metadata": {},
   "source": [
    "## 3. Subword 인코딩"
   ]
  },
  {
   "cell_type": "code",
   "execution_count": 21,
   "id": "17fcaa60",
   "metadata": {},
   "outputs": [],
   "source": [
    "import tensorflow_datasets as tfds\n",
    "\n",
    "# 질문과 답변 데이터셋에 대해서 Vocabulary 생성\n",
    "tokenizer = tfds.deprecated.text.SubwordTextEncoder.build_from_corpus(dataset, target_vocab_size=2**13)"
   ]
  },
  {
   "cell_type": "code",
   "execution_count": 22,
   "id": "270dd52f",
   "metadata": {},
   "outputs": [],
   "source": [
    "START_TOKEN, END_TOKEN = [tokenizer.vocab_size], [tokenizer.vocab_size + 1]\n",
    "VOCAB_SIZE = tokenizer.vocab_size + 2"
   ]
  },
  {
   "cell_type": "code",
   "execution_count": 23,
   "id": "f441c7a3",
   "metadata": {},
   "outputs": [
    {
     "name": "stdout",
     "output_type": "stream",
     "text": [
      "정수 인코딩 후의 21번째 질문 샘플: [136, 3373, 4797, 1]\n"
     ]
    }
   ],
   "source": [
    "print('정수 인코딩 후의 21번째 질문 샘플: {}'.format(tokenizer.encode(dataset[21])))"
   ]
  },
  {
   "cell_type": "code",
   "execution_count": 25,
   "id": "58281ad6",
   "metadata": {},
   "outputs": [
    {
     "name": "stdout",
     "output_type": "stream",
     "text": [
      "문장길이 평균 :  14.60336488989504\n",
      "문장길이 최대 :  78\n",
      "문장길이 표준편차 :  6.774608097618809\n",
      "pad_sequences maxlen :  28\n",
      "전체 문장의 0.962646635110105%가 maxlen 설정값 이내에 포함됩니다. \n"
     ]
    }
   ],
   "source": [
    "# max len길이를 보기위해\n",
    "total_data_text = list(dataset)\n",
    "# 텍스트데이터 문장길이의 리스트를 생성한 후\n",
    "num_tokens = [len(tokens) for tokens in total_data_text]\n",
    "num_tokens = np.array(num_tokens)\n",
    "# 문장길이의 평균값, 최대값, 표준편차를 계산해 본다. \n",
    "print('문장길이 평균 : ', np.mean(num_tokens))\n",
    "print('문장길이 최대 : ', np.max(num_tokens))\n",
    "print('문장길이 표준편차 : ', np.std(num_tokens))\n",
    "\n",
    "# 예를들어, 최대 길이를 (평균 + 2*표준편차)로 한다면,  \n",
    "max_tokens = np.mean(num_tokens) + 2 * np.std(num_tokens)\n",
    "maxlen = int(max_tokens)\n",
    "print('pad_sequences maxlen : ', maxlen)\n",
    "print(f'전체 문장의 {np.sum(num_tokens < max_tokens) / len(num_tokens)}%가 maxlen 설정값 이내에 포함됩니다. ')"
   ]
  },
  {
   "cell_type": "code",
   "execution_count": 26,
   "id": "45212cc5",
   "metadata": {},
   "outputs": [],
   "source": [
    "MAX_LENGTH = 28"
   ]
  },
  {
   "cell_type": "code",
   "execution_count": 27,
   "id": "36bcb368",
   "metadata": {},
   "outputs": [],
   "source": [
    "# 정수 인코딩, 최대 길이를 초과하는 샘플 제거, 패딩\n",
    "def tokenize_and_filter(inputs):\n",
    "    outputs = []\n",
    "  \n",
    "    for sentence in inputs:\n",
    "        # 정수 인코딩 과정에서 시작 토큰과 종료 토큰을 추가\n",
    "        sentence = START_TOKEN + tokenizer.encode(sentence) + END_TOKEN\n",
    "\n",
    "        # 최대 길이 28 이하인 경우에만 데이터셋으로 허용\n",
    "        if len(sentence) <= MAX_LENGTH :\n",
    "            outputs.append(sentence)    \n",
    "        \n",
    "    # 최대 길이 28으로 모든 데이터셋을 패딩\n",
    "    outputs = tf.keras.preprocessing.sequence.pad_sequences(\n",
    "        outputs, maxlen=MAX_LENGTH, padding='post')\n",
    "\n",
    "  \n",
    "    return outputs"
   ]
  },
  {
   "cell_type": "code",
   "execution_count": 28,
   "id": "a05512e4",
   "metadata": {},
   "outputs": [
    {
     "name": "stdout",
     "output_type": "stream",
     "text": [
      "단어장의 크기 : 9051\n",
      "필터링 후의 질문 샘플 개수: 19434\n"
     ]
    }
   ],
   "source": [
    "dataset = tokenize_and_filter(dataset)\n",
    "print('단어장의 크기 :',(VOCAB_SIZE))\n",
    "print('필터링 후의 질문 샘플 개수: {}'.format(len(dataset)))"
   ]
  },
  {
   "cell_type": "code",
   "execution_count": 29,
   "id": "c3cbbde3",
   "metadata": {},
   "outputs": [],
   "source": [
    "data = dataset"
   ]
  },
  {
   "cell_type": "code",
   "execution_count": 30,
   "id": "5b16c7fe",
   "metadata": {},
   "outputs": [],
   "source": [
    "BATCH_SIZE = 64\n",
    "BUFFER_SIZE = 5000\n",
    "\n",
    "# 디코더는 이전의 target을 다음의 input으로 사용합니다.\n",
    "# 이에 따라 outputs에서는 START_TOKEN을 제거하겠습니다.\n",
    "# dec_inputs[0]=answers[0], outputs[0]=answers[1]이되고 둘을 매칭 \n",
    "dataset = tf.data.Dataset.from_tensor_slices((\n",
    "    {\n",
    "        'dec_inputs': data[:, :-1]\n",
    "    },\n",
    "    {\n",
    "        'outputs': data[:, 1:]\n",
    "    },\n",
    "))\n",
    "\n",
    "dataset = dataset.cache()\n",
    "dataset = dataset.shuffle(BUFFER_SIZE)\n",
    "dataset = dataset.batch(BATCH_SIZE)\n",
    "dataset = dataset.prefetch(tf.data.experimental.AUTOTUNE)\n"
   ]
  },
  {
   "cell_type": "markdown",
   "id": "45918fd7",
   "metadata": {},
   "source": [
    "## 4. 모델 구성"
   ]
  },
  {
   "cell_type": "code",
   "execution_count": 31,
   "id": "29bc7d73",
   "metadata": {},
   "outputs": [],
   "source": [
    "def gpt(vocab_size,\n",
    "                num_layers,\n",
    "                units,\n",
    "                d_model,\n",
    "                num_heads,\n",
    "                dropout,\n",
    "                max_len,\n",
    "                name=\"gpt\"):\n",
    "  dec_inputs = tf.keras.Input(shape=(None,), name=\"dec_inputs\")\n",
    "\n",
    "\n",
    "  # 디코더에서 미래의 토큰을 마스크 하기 위해서 사용합니다.\n",
    "  # 내부적으로 패딩 마스크도 포함되어져 있습니다.\n",
    "  look_ahead_mask = tf.keras.layers.Lambda(\n",
    "      create_look_ahead_mask,\n",
    "      output_shape=(1, None, None),\n",
    "      name='look_ahead_mask')(dec_inputs)\n",
    "\n",
    "\n",
    "  # 디코더\n",
    "  dec_outputs = decoder(\n",
    "      vocab_size=vocab_size,\n",
    "      num_layers=num_layers,\n",
    "      units=units,\n",
    "      d_model=d_model,\n",
    "      num_heads=num_heads,\n",
    "      dropout=dropout,\n",
    "      max_len=max_len\n",
    "  )(inputs=[dec_inputs, look_ahead_mask])\n",
    "\n",
    "  # 완전연결층\n",
    "  outputs = tf.keras.layers.Dense(units=vocab_size, name=\"outputs\")(dec_outputs)\n",
    "\n",
    "  return tf.keras.Model(inputs=[dec_inputs], outputs=outputs, name=name)\n"
   ]
  },
  {
   "cell_type": "code",
   "execution_count": 62,
   "id": "0219b336",
   "metadata": {},
   "outputs": [
    {
     "name": "stdout",
     "output_type": "stream",
     "text": [
      "Model: \"gpt\"\n",
      "__________________________________________________________________________________________________\n",
      "Layer (type)                    Output Shape         Param #     Connected to                     \n",
      "==================================================================================================\n",
      "dec_inputs (InputLayer)         [(None, None)]       0                                            \n",
      "__________________________________________________________________________________________________\n",
      "look_ahead_mask (Lambda)        (None, 1, None, None 0           dec_inputs[0][0]                 \n",
      "__________________________________________________________________________________________________\n",
      "decoder (Functional)            (None, None, 9051)   631488      dec_inputs[0][0]                 \n",
      "                                                                 look_ahead_mask[0][0]            \n",
      "__________________________________________________________________________________________________\n",
      "outputs (Dense)                 (None, None, 9051)   81929652    decoder[0][0]                    \n",
      "==================================================================================================\n",
      "Total params: 82,561,140\n",
      "Trainable params: 82,561,140\n",
      "Non-trainable params: 0\n",
      "__________________________________________________________________________________________________\n"
     ]
    }
   ],
   "source": [
    "tf.keras.backend.clear_session()\n",
    "\n",
    "# 하이퍼파라미터\n",
    "NUM_LAYERS = 2 # 인코더와 디코더의 층의 개수 2\n",
    "D_MODEL = 64 # 인코더와 디코더 내부의 입, 출력의 고정 차원\n",
    "NUM_HEADS = 2 # 멀티 헤드 어텐션에서의 헤드 수 \n",
    "UNITS = 64 # 피드 포워드 신경망의 은닉층의 크기\n",
    "DROPOUT = 0.1 # 드롭아웃의 비율\n",
    "\n",
    "model = gpt(\n",
    "    vocab_size=VOCAB_SIZE,\n",
    "    num_layers=NUM_LAYERS,\n",
    "    units=UNITS,\n",
    "    d_model=D_MODEL,\n",
    "    num_heads=NUM_HEADS,\n",
    "    dropout=DROPOUT,\n",
    "    max_len = MAX_LENGTH)\n",
    "\n",
    "model.summary()"
   ]
  },
  {
   "cell_type": "code",
   "execution_count": 63,
   "id": "683c23a8",
   "metadata": {},
   "outputs": [
    {
     "data": {
      "image/png": "[encoded data removed]",
      "text/plain": [
       "<IPython.core.display.Image object>"
      ]
     },
     "execution_count": 63,
     "metadata": {},
     "output_type": "execute_result"
    }
   ],
   "source": [
    "tf.keras.utils.plot_model(model.layers[2], show_shapes=True)"
   ]
  },
  {
   "cell_type": "code",
   "execution_count": 64,
   "id": "4554a15e",
   "metadata": {},
   "outputs": [
    {
     "data": {
      "image/png": "[encoded data removed]",
      "text/plain": [
       "<IPython.core.display.Image object>"
      ]
     },
     "execution_count": 64,
     "metadata": {},
     "output_type": "execute_result"
    }
   ],
   "source": [
    "tf.keras.utils.plot_model(model.layers[2].layers[6], show_shapes=True)"
   ]
  },
  {
   "cell_type": "markdown",
   "id": "092926ec",
   "metadata": {},
   "source": [
    "L1 목적함수  \n",
    "\n"
   ]
  },
  {
   "cell_type": "code",
   "execution_count": 65,
   "id": "7247dc72",
   "metadata": {},
   "outputs": [],
   "source": [
    "def L1_loss(y_true, y_pred):    \n",
    "    # 확률 P 계산\n",
    "    logits = tf.math.log(tf.clip_by_value(y_pred, 1e-10, 1.0)) \n",
    "    \n",
    "    # 각 시퀀스의 손실 계산\n",
    "    batch_loss = -tf.reduce_sum(logits, axis=-1)\n",
    "    \n",
    "    # 배치의 평균 손실 반환\n",
    "    return tf.reduce_mean(batch_loss)"
   ]
  },
  {
   "cell_type": "markdown",
   "id": "733d8ba4",
   "metadata": {},
   "source": [
    "커스텀 학습률 스케줄링으로 동적 조정"
   ]
  },
  {
   "cell_type": "code",
   "execution_count": 66,
   "id": "83c64f38",
   "metadata": {},
   "outputs": [],
   "source": [
    "class CustomSchedule(tf.keras.optimizers.schedules.LearningRateSchedule):\n",
    "\n",
    "    def __init__(self, d_model, warmup_steps=4000):\n",
    "        super(CustomSchedule, self).__init__()\n",
    "\n",
    "        self.d_model = d_model\n",
    "        self.d_model = tf.cast(self.d_model, tf.float32)\n",
    "\n",
    "        self.warmup_steps = warmup_steps\n",
    "\n",
    "    def __call__(self, step):\n",
    "        arg1 = tf.math.rsqrt(step)\n",
    "        arg2 = step * (self.warmup_steps**-1.5)\n",
    "\n",
    "        # d_model이 클 수록 더 큰 학습률로 시작 \n",
    "        return tf.math.rsqrt(self.d_model) * tf.math.minimum(arg1, arg2)\n",
    "\n",
    "    def get_config(self):\n",
    "            return {\n",
    "                'd_model': float(self.d_model),\n",
    "                'warmup_steps': self.warmup_steps\n",
    "            }"
   ]
  },
  {
   "cell_type": "code",
   "execution_count": 67,
   "id": "50aac596",
   "metadata": {},
   "outputs": [
    {
     "data": {
      "text/plain": [
       "Text(0.5, 0, 'Train Step')"
      ]
     },
     "execution_count": 67,
     "metadata": {},
     "output_type": "execute_result"
    },
    {
     "data": {
      "image/png": "[encoded data removed]",
      "text/plain": [
       "<Figure size 640x480 with 1 Axes>"
      ]
     },
     "metadata": {},
     "output_type": "display_data"
    }
   ],
   "source": [
    "sample_learning_rate = CustomSchedule(d_model=128)\n",
    "\n",
    "plt.plot(sample_learning_rate(tf.range(200000, dtype=tf.float32)))\n",
    "plt.ylabel(\"Learning Rate\")\n",
    "plt.xlabel(\"Train Step\")"
   ]
  },
  {
   "cell_type": "code",
   "execution_count": 68,
   "id": "928c9a11",
   "metadata": {},
   "outputs": [],
   "source": [
    "from tensorflow.keras.losses import SparseCategoricalCrossentropy\n",
    "\n",
    "learning_rate = CustomSchedule(D_MODEL)\n",
    "\n",
    "optimizer = tf.keras.optimizers.Adam(\n",
    "    learning_rate, beta_1=0.9, beta_2=0.98, epsilon=1e-9)\n",
    "\n",
    "model.compile(optimizer=optimizer, loss=L1_loss, metrics=['accuracy'])"
   ]
  },
  {
   "cell_type": "markdown",
   "id": "fa5a8ecc",
   "metadata": {},
   "source": [
    "### 훈련"
   ]
  },
  {
   "cell_type": "code",
   "execution_count": 69,
   "id": "d000bc5a",
   "metadata": {
    "scrolled": false
   },
   "outputs": [
    {
     "name": "stdout",
     "output_type": "stream",
     "text": [
      "304/304 [==============================] - 607s 2s/step - loss: 63274.0859 - accuracy: 3.6210e-05\n"
     ]
    },
    {
     "data": {
      "text/plain": [
       "<keras.callbacks.History at 0x2c1989b4c88>"
      ]
     },
     "execution_count": 69,
     "metadata": {},
     "output_type": "execute_result"
    }
   ],
   "source": [
    "EPOCHS = 1\n",
    "\n",
    "model.fit(dataset, epochs=EPOCHS, verbose=1)"
   ]
  },
  {
   "cell_type": "code",
   "execution_count": 97,
   "id": "997f51ac",
   "metadata": {},
   "outputs": [
    {
     "name": "stdout",
     "output_type": "stream",
     "text": [
      "Epoch 1/10\n",
      "304/304 [==============================] - 553s 2s/step - loss: 23943.1738 - accuracy: 9.5289e-06\n",
      "Epoch 2/10\n",
      "304/304 [==============================] - 579s 2s/step - loss: 13403.6797 - accuracy: 5.7174e-06\n",
      "Epoch 3/10\n",
      "304/304 [==============================] - 633s 2s/step - loss: 6062.2280 - accuracy: 5.7174e-06\n",
      "Epoch 4/10\n",
      "304/304 [==============================] - 651s 2s/step - loss: 1034.0082 - accuracy: 1.1435e-05\n",
      "Epoch 5/10\n",
      "304/304 [==============================] - 630s 2s/step - loss: 47.2062 - accuracy: 2.0964e-05\n",
      "Epoch 6/10\n",
      "304/304 [==============================] - 621s 2s/step - loss: 46.0518 - accuracy: 1.7152e-05\n",
      "Epoch 7/10\n",
      "  5/304 [..............................] - ETA: 10:37 - loss: 46.0518 - accuracy: 0.0000e+00"
     ]
    }
   ],
   "source": [
    "EPOCHS = 10\n",
    "\n",
    "model.fit(dataset, epochs=EPOCHS, verbose=1)"
   ]
  },
  {
   "cell_type": "markdown",
   "id": "5bf7926a",
   "metadata": {},
   "source": [
    "## GPT 테스트\n"
   ]
  },
  {
   "cell_type": "code",
   "execution_count": 76,
   "id": "e75b4e16",
   "metadata": {},
   "outputs": [],
   "source": [
    "def decoder_inference(sentence):\n",
    "    sentence = preprocess_sentence(sentence)\n",
    "\n",
    "    # 입력된 문장을 정수 인코딩 후, 시작 토큰과 종료 토큰을 앞뒤로 추가.\n",
    "    sentence = tf.expand_dims(\n",
    "        START_TOKEN + tokenizer.encode(sentence) + END_TOKEN, axis=0)\n",
    "\n",
    "    # 디코더의 현재까지의 예측한 출력 시퀀스가 지속적으로 저장되는 변수.\n",
    "    # 처음에는 예측한 내용이 없음으로 시작 토큰만 별도 저장. ex) 8331\n",
    "    output_sequence = tf.expand_dims(START_TOKEN, 0)\n",
    "\n",
    "    # 디코더의 인퍼런스 단계\n",
    "    for i in range(MAX_LENGTH):\n",
    "        # 디코더는 최대 MAX_LENGTH의 길이만큼 다음 단어 예측을 반복합니다.\n",
    "        predictions = model(inputs=[sentence], training=False)\n",
    "        predictions = predictions[:, -1:, :]\n",
    "\n",
    "        # 현재 예측한 단어의 정수\n",
    "        predicted_id = tf.cast(tf.argmax(predictions, axis=-1), tf.int32)\n",
    "\n",
    "        # 만약 현재 예측한 단어가 종료 토큰이라면 for문을 종료\n",
    "        if tf.equal(predicted_id, END_TOKEN[0]):\n",
    "            break\n",
    "\n",
    "        # 예측한 단어들은 지속적으로 output_sequence에 추가됩니다.\n",
    "        # 이 output_sequence는 다시 디코더의 입력이 됩니다.\n",
    "        output_sequence = tf.concat([output_sequence, predicted_id], axis=-1)\n",
    "\n",
    "    return tf.squeeze(output_sequence, axis=0)"
   ]
  },
  {
   "cell_type": "code",
   "execution_count": 77,
   "id": "360cf087",
   "metadata": {},
   "outputs": [],
   "source": [
    "def sentence_generation(sentence):\n",
    "    # 입력 문장에 대해서 디코더를 동작 시켜 예측된 정수 시퀀스를 리턴받습니다.\n",
    "    prediction = decoder_inference(sentence)\n",
    "\n",
    "    # 정수 시퀀스를 다시 텍스트 시퀀스로 변환합니다.\n",
    "    predicted_sentence = tokenizer.decode(\n",
    "        [i for i in prediction if i < tokenizer.vocab_size])\n",
    "\n",
    "    print('입력 : {}'.format(sentence))\n",
    "    print('출력 : {}'.format(predicted_sentence))\n",
    "  \n",
    "    return predicted_sentence\n"
   ]
  },
  {
   "cell_type": "code",
   "execution_count": 86,
   "id": "d92257d5",
   "metadata": {},
   "outputs": [
    {
     "name": "stdout",
     "output_type": "stream",
     "text": [
      "입력 : 안녕하세요\n",
      "출력 : 변하는 변하는 변하는 변하는 변하는 변하는 변하는 변하는 변하는 변하는 변하는 변하는 변하는 변하는 변하는 변하는 변하는 변하는 변하는 변하는 변하는 변하는 변하는 변하는 변하는 변하는 변하는 변하는 \n"
     ]
    },
    {
     "data": {
      "text/plain": [
       "'변하는 변하는 변하는 변하는 변하는 변하는 변하는 변하는 변하는 변하는 변하는 변하는 변하는 변하는 변하는 변하는 변하는 변하는 변하는 변하는 변하는 변하는 변하는 변하는 변하는 변하는 변하는 변하는 '"
      ]
     },
     "execution_count": 86,
     "metadata": {},
     "output_type": "execute_result"
    }
   ],
   "source": [
    "# epoch 1에서 테스트\n",
    "sentence_generation('안녕하세요')"
   ]
  },
  {
   "cell_type": "markdown",
   "id": "79e43c56",
   "metadata": {},
   "source": [
    "#### L1로스를 찾아보다가 일반적으로 crossentropy를 사용한다길래 사용해봄\n",
    "\n",
    "뭔가 loss랑 acc는 좋은데 결과 자체는 나오지 않았음"
   ]
  },
  {
   "cell_type": "code",
   "execution_count": 87,
   "id": "c299b37e",
   "metadata": {},
   "outputs": [
    {
     "name": "stdout",
     "output_type": "stream",
     "text": [
      "Model: \"gpt\"\n",
      "__________________________________________________________________________________________________\n",
      "Layer (type)                    Output Shape         Param #     Connected to                     \n",
      "==================================================================================================\n",
      "dec_inputs (InputLayer)         [(None, None)]       0                                            \n",
      "__________________________________________________________________________________________________\n",
      "look_ahead_mask (Lambda)        (None, 1, None, None 0           dec_inputs[0][0]                 \n",
      "__________________________________________________________________________________________________\n",
      "decoder (Functional)            (None, None, 9051)   631488      dec_inputs[0][0]                 \n",
      "                                                                 look_ahead_mask[0][0]            \n",
      "__________________________________________________________________________________________________\n",
      "outputs (Dense)                 (None, None, 9051)   81929652    decoder[0][0]                    \n",
      "==================================================================================================\n",
      "Total params: 82,561,140\n",
      "Trainable params: 82,561,140\n",
      "Non-trainable params: 0\n",
      "__________________________________________________________________________________________________\n"
     ]
    }
   ],
   "source": [
    "model2 = gpt(\n",
    "    vocab_size=VOCAB_SIZE,\n",
    "    num_layers=NUM_LAYERS,\n",
    "    units=UNITS,\n",
    "    d_model=D_MODEL,\n",
    "    num_heads=NUM_HEADS,\n",
    "    dropout=DROPOUT,\n",
    "    max_len = MAX_LENGTH)\n",
    "\n",
    "model2.summary()"
   ]
  },
  {
   "cell_type": "code",
   "execution_count": 88,
   "id": "c1fa7833",
   "metadata": {},
   "outputs": [],
   "source": [
    "from tensorflow.keras.losses import SparseCategoricalCrossentropy\n",
    "\n",
    "\n",
    "model2.compile(optimizer=optimizer, loss=SparseCategoricalCrossentropy(from_logits=True), metrics=['accuracy'])"
   ]
  },
  {
   "cell_type": "code",
   "execution_count": 89,
   "id": "1b791945",
   "metadata": {},
   "outputs": [
    {
     "name": "stdout",
     "output_type": "stream",
     "text": [
      "304/304 [==============================] - 543s 2s/step - loss: 8.9876 - accuracy: 0.7711\n"
     ]
    },
    {
     "data": {
      "text/plain": [
       "<keras.callbacks.History at 0x2c18989d808>"
      ]
     },
     "execution_count": 89,
     "metadata": {},
     "output_type": "execute_result"
    }
   ],
   "source": [
    "EPOCHS = 1\n",
    "\n",
    "model2.fit(dataset, epochs=EPOCHS, verbose=1)"
   ]
  },
  {
   "cell_type": "code",
   "execution_count": 90,
   "id": "11427331",
   "metadata": {},
   "outputs": [],
   "source": [
    "def decoder_inference2(sentence):\n",
    "    sentence = preprocess_sentence(sentence)\n",
    "\n",
    "    # 입력된 문장을 정수 인코딩 후, 시작 토큰과 종료 토큰을 앞뒤로 추가.\n",
    "    sentence = tf.expand_dims(\n",
    "        START_TOKEN + tokenizer.encode(sentence) + END_TOKEN, axis=0)\n",
    "\n",
    "    # 디코더의 현재까지의 예측한 출력 시퀀스가 지속적으로 저장되는 변수.\n",
    "    # 처음에는 예측한 내용이 없음으로 시작 토큰만 별도 저장. ex) 8331\n",
    "    output_sequence = tf.expand_dims(START_TOKEN, 0)\n",
    "\n",
    "    # 디코더의 인퍼런스 단계\n",
    "    for i in range(MAX_LENGTH):\n",
    "        # 디코더는 최대 MAX_LENGTH의 길이만큼 다음 단어 예측을 반복합니다.\n",
    "        predictions = model2(inputs=[sentence], training=False)\n",
    "        predictions = predictions[:, -1:, :]\n",
    "\n",
    "        # 현재 예측한 단어의 정수\n",
    "        predicted_id = tf.cast(tf.argmax(predictions, axis=-1), tf.int32)\n",
    "\n",
    "        # 만약 현재 예측한 단어가 종료 토큰이라면 for문을 종료\n",
    "        if tf.equal(predicted_id, END_TOKEN[0]):\n",
    "            break\n",
    "\n",
    "        # 예측한 단어들은 지속적으로 output_sequence에 추가됩니다.\n",
    "        # 이 output_sequence는 다시 디코더의 입력이 됩니다.\n",
    "        output_sequence = tf.concat([output_sequence, predicted_id], axis=-1)\n",
    "\n",
    "    return tf.squeeze(output_sequence, axis=0)"
   ]
  },
  {
   "cell_type": "code",
   "execution_count": 93,
   "id": "eed82aef",
   "metadata": {},
   "outputs": [],
   "source": [
    "def sentence_generation2(sentence):\n",
    "    # 입력 문장에 대해서 디코더를 동작 시켜 예측된 정수 시퀀스를 리턴받습니다.\n",
    "    prediction = decoder_inference2(sentence)\n",
    "\n",
    "    # 정수 시퀀스를 다시 텍스트 시퀀스로 변환합니다.\n",
    "    predicted_sentence = tokenizer.decode(\n",
    "        [i for i in prediction if i < tokenizer.vocab_size])\n",
    "\n",
    "    print('입력 : {}'.format(sentence))\n",
    "    print('출력 : {}'.format(predicted_sentence))\n",
    "  \n",
    "    return predicted_sentence\n"
   ]
  },
  {
   "cell_type": "code",
   "execution_count": 96,
   "id": "15e02dcd",
   "metadata": {},
   "outputs": [
    {
     "name": "stdout",
     "output_type": "stream",
     "text": [
      "입력 : 안녕하세요\n",
      "출력 : \n"
     ]
    },
    {
     "data": {
      "text/plain": [
       "''"
      ]
     },
     "execution_count": 96,
     "metadata": {},
     "output_type": "execute_result"
    }
   ],
   "source": [
    "sentence_generation2('안녕하세요')"
   ]
  },
  {
   "cell_type": "markdown",
   "id": "6c9c2fa3",
   "metadata": {},
   "source": [
    "## 결론 및 회고\n",
    "\n"
   ]
  },
  {
   "cell_type": "markdown",
   "id": "8e07680d",
   "metadata": {},
   "source": [
    "논문을 보고 불필요 한것을 제거하는 것은 쉬웠는데, 새로운 것의 차원 수 맞추는 것이 매우 힘들었다. \n",
    "그리고 $softmax(hW^T_e)$에서 임베딩 벡터를 불러오는 것도 처음에 레이어를 그냥 곱하려고 해서 어려움이 있었다. \n",
    "\n",
    "이게 지금 제대로 만든 건지 모르겠는데, 파라미터 수가 너무나도 많아서 당황스러웠다. \n",
    "아직 파라미터 갯수에 대한 직관이 없어서 이게 맞는지 틀린지 조차 모르는 것이 당황스러웠다.  \n",
    "\n",
    "헷갈리는 첫번째는 L1이다.\n",
    "$P(u_i|u_{i−k}, . . . , u_{i−1}; Θ) $ 자체가 y_pred라는 것을 이해를 못해서 해메다가 \n",
    "gpt가 모델을 통해 나온 값이니 그냥 y_pred라고 해서 도움을 좀 받았다. \n",
    "정말 오래 고민을 했었는데, 결국 gpt의 도움을 받다니 아직 모델과 친숙하지 않은 것 같다. \n",
    "\n",
    "\n",
    "두번째는 입력 데이터에 관한 부분이었다. \n",
    "이게 비지도 학습이라 `y`가 없어야 하는것 같다가도 $P(u_i|u_{i−k}, . . . , u_{i−1}; Θ) $를 \n",
    "보면 이전 토큰에 대해 현재의 확률을 하니까 `x`를 $u_{i−k}, . . . , u_{i−1}$로, `y`를 $u_i$로 주어야 할거 같아서 \n",
    "```python\n",
    "dataset = tf.data.Dataset.from_tensor_slices((\n",
    "    {\n",
    "        'dec_inputs': data[:, :-1]\n",
    "    },\n",
    "    {\n",
    "        'outputs': data[:, 1:]\n",
    "    },\n",
    "))\n",
    "```\n",
    "이렇게 구현했고 결국 지도학습처럼 된거 같았다. \n",
    "\n",
    "마지막으로는 분명 디코더를 `tf.keras.utils.plot_model(model.layers[2].layers[6], show_shapes=True)` 통해 시각화했을 때, \n",
    "잔차연결 부분이 화살표가 없어서 당황스러웠다. 모델을 보면 입력을 2개로 잘 한거 같은데, 시각화가 안되니 진짜 잘한게 맞는지 의심스러웠다.  \n",
    "\n",
    "마지막으로 이번 클라우드 환경이 이상했는지, 동일한 코드가 epoch 1회당 1시간 반이나 걸린다고 나오길래 급하게 로컬환경을 만드느라 시간이 부족해서 아쉬웠다. \n",
    "그렇게 로컬 환경을 구성하다가 알게되었는데, 데스크탑에 gpu가 있음에도 tensorflow가 인식을 못해서 이것도 나중에 해결해 보아야겠다고 생각했다. 결국 epoch 1회의 결과는 보았는데 epoch를 느려 학습하는 건 시간 내에 성공하지 못하였다. "
   ]
  },
  {
   "cell_type": "markdown",
   "id": "a615f547",
   "metadata": {},
   "source": []
  }
 ],
 "metadata": {
  "kernelspec": {
   "display_name": "Python 3 (ipykernel)",
   "language": "python",
   "name": "python3"
  },
  "language_info": {
   "codemirror_mode": {
    "name": "ipython",
    "version": 3
   },
   "file_extension": ".py",
   "mimetype": "text/x-python",
   "name": "python",
   "nbconvert_exporter": "python",
   "pygments_lexer": "ipython3",
   "version": "3.7.12"
  }
 },
 "nbformat": 4,
 "nbformat_minor": 5
}
