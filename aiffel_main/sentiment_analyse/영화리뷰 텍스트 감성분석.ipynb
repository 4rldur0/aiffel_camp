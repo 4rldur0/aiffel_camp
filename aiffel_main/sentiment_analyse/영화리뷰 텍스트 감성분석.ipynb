{
 "cells": [
  {
   "cell_type": "code",
   "execution_count": 115,
   "id": "3e8fd675",
   "metadata": {},
   "outputs": [],
   "source": [
    "import pandas as pd\n",
    "import numpy as np\n",
    "from collections import Counter\n",
    "import tensorflow as tf"
   ]
  },
  {
   "cell_type": "markdown",
   "id": "823d6f96",
   "metadata": {},
   "source": [
    "## 데이터 불러오기"
   ]
  },
  {
   "cell_type": "code",
   "execution_count": 116,
   "id": "406c07e9",
   "metadata": {},
   "outputs": [
    {
     "data": {
      "text/html": [
       "<div>\n",
       "<style scoped>\n",
       "    .dataframe tbody tr th:only-of-type {\n",
       "        vertical-align: middle;\n",
       "    }\n",
       "\n",
       "    .dataframe tbody tr th {\n",
       "        vertical-align: top;\n",
       "    }\n",
       "\n",
       "    .dataframe thead th {\n",
       "        text-align: right;\n",
       "    }\n",
       "</style>\n",
       "<table border=\"1\" class=\"dataframe\">\n",
       "  <thead>\n",
       "    <tr style=\"text-align: right;\">\n",
       "      <th></th>\n",
       "      <th>id</th>\n",
       "      <th>document</th>\n",
       "      <th>label</th>\n",
       "    </tr>\n",
       "  </thead>\n",
       "  <tbody>\n",
       "    <tr>\n",
       "      <th>0</th>\n",
       "      <td>9976970</td>\n",
       "      <td>아 더빙.. 진짜 짜증나네요 목소리</td>\n",
       "      <td>0</td>\n",
       "    </tr>\n",
       "    <tr>\n",
       "      <th>1</th>\n",
       "      <td>3819312</td>\n",
       "      <td>흠...포스터보고 초딩영화줄....오버연기조차 가볍지 않구나</td>\n",
       "      <td>1</td>\n",
       "    </tr>\n",
       "    <tr>\n",
       "      <th>2</th>\n",
       "      <td>10265843</td>\n",
       "      <td>너무재밓었다그래서보는것을추천한다</td>\n",
       "      <td>0</td>\n",
       "    </tr>\n",
       "    <tr>\n",
       "      <th>3</th>\n",
       "      <td>9045019</td>\n",
       "      <td>교도소 이야기구먼 ..솔직히 재미는 없다..평점 조정</td>\n",
       "      <td>0</td>\n",
       "    </tr>\n",
       "    <tr>\n",
       "      <th>4</th>\n",
       "      <td>6483659</td>\n",
       "      <td>사이몬페그의 익살스런 연기가 돋보였던 영화!스파이더맨에서 늙어보이기만 했던 커스틴 ...</td>\n",
       "      <td>1</td>\n",
       "    </tr>\n",
       "  </tbody>\n",
       "</table>\n",
       "</div>"
      ],
      "text/plain": [
       "         id                                           document  label\n",
       "0   9976970                                아 더빙.. 진짜 짜증나네요 목소리      0\n",
       "1   3819312                  흠...포스터보고 초딩영화줄....오버연기조차 가볍지 않구나      1\n",
       "2  10265843                                  너무재밓었다그래서보는것을추천한다      0\n",
       "3   9045019                      교도소 이야기구먼 ..솔직히 재미는 없다..평점 조정      0\n",
       "4   6483659  사이몬페그의 익살스런 연기가 돋보였던 영화!스파이더맨에서 늙어보이기만 했던 커스틴 ...      1"
      ]
     },
     "execution_count": 116,
     "metadata": {},
     "output_type": "execute_result"
    }
   ],
   "source": [
    "train_data = pd.read_table('~/aiffel/sentiment_classification/data/ratings_train.txt')\n",
    "test_data = pd.read_table('~/aiffel/sentiment_classification/data/ratings_test.txt')\n",
    "\n",
    "train_data.head()"
   ]
  },
  {
   "cell_type": "markdown",
   "id": "83dcb015",
   "metadata": {},
   "source": [
    "### 단어사전 구축\n",
    "\n",
    "전처리 포함"
   ]
  },
  {
   "cell_type": "code",
   "execution_count": 212,
   "id": "4e11930a",
   "metadata": {},
   "outputs": [],
   "source": [
    "from konlpy.tag import Mecab\n",
    "\n",
    "tokenizer = Mecab()\n",
    "stopwords = ['의','가','이','은','들','는','좀','잘','걍','과','도','를','으로','자','에','와','한','하다']\n",
    "\n",
    "def load_data(train_data, test_data, num_words=10000):\n",
    "    # 중복, 결측치 제거\n",
    "    train_data.drop_duplicates(subset=['document'], inplace=True)\n",
    "    train_data = train_data.dropna(how = 'any') \n",
    "    test_data.drop_duplicates(subset=['document'], inplace=True)\n",
    "    test_data = test_data.dropna(how = 'any') \n",
    "    \n",
    "    # 단어 토큰화\n",
    "    X_train = []\n",
    "    for review in train_data['document']:\n",
    "        tokens = tokenizer.morphs(review)\n",
    "        X_train.append([token for token in tokens if not token in stopwords])\n",
    "    X_test = []\n",
    "    for review in test_data['document']:\n",
    "        tokens = tokenizer.morphs(review)\n",
    "        X_test.append([token for token in tokens if not token in stopwords])\n",
    "    \n",
    "    # train 문장의 단어를 빈도순으로 정렬하여 사전화 \n",
    "    words = np.concatenate(X_train).tolist()\n",
    "    counter = Counter(words)\n",
    "    counter = counter.most_common(10000-4)\n",
    "    vocab = [''] + [key for key, _ in counter]\n",
    "    word_to_index = {word:index for index, word in enumerate(vocab)}\n",
    "    \n",
    "    # 단어사전에 있는 단어로 변환 및 없는 단어는 비움 \n",
    "    def wordlist_to_indexlist(wordlist):\n",
    "        return [word_to_index[word] if word in word_to_index else word_to_index[''] for word in wordlist]\n",
    "    X_train = list(map(wordlist_to_indexlist, X_train))\n",
    "    X_test = list(map(wordlist_to_indexlist, X_test))\n",
    "        \n",
    "    return X_train, np.array(list(train_data['label'])), X_test, np.array(list(test_data['label'])), word_to_index\n",
    "\n",
    "X_train, y_train, X_test, y_test, word_to_index = load_data(train_data, test_data)"
   ]
  },
  {
   "cell_type": "code",
   "execution_count": 122,
   "id": "00737c56",
   "metadata": {},
   "outputs": [],
   "source": [
    "index_to_word = {index:word for word, index in word_to_index.items()}"
   ]
  },
  {
   "cell_type": "code",
   "execution_count": 123,
   "id": "838fc590",
   "metadata": {},
   "outputs": [],
   "source": [
    "# 문장 1개를 활용할 딕셔너리와 함께 주면, 단어 인덱스 리스트 벡터로 변환해 주는 함수입니다. \n",
    "# 단, 모든 문장은 <BOS>로 시작하는 것으로 합니다. \n",
    "def get_encoded_sentence(sentence, word_to_index):\n",
    "    return [word_to_index['<BOS>']]+[word_to_index[word] if word in word_to_index else word_to_index['<UNK>'] for word in sentence.split()]\n",
    "\n",
    "# 여러 개의 문장 리스트를 한꺼번에 단어 인덱스 리스트 벡터로 encode해 주는 함수입니다. \n",
    "def get_encoded_sentences(sentences, word_to_index):\n",
    "    return [get_encoded_sentence(sentence, word_to_index) for sentence in sentences]\n",
    "\n",
    "# 숫자 벡터로 encode된 문장을 원래대로 decode하는 함수입니다. \n",
    "def get_decoded_sentence(encoded_sentence, index_to_word):\n",
    "    return ' '.join(index_to_word[index] if index in index_to_word else '<UNK>' for index in encoded_sentence[1:])  #[1:]를 통해 <BOS>를 제외\n",
    "\n",
    "# 여러 개의 숫자 벡터로 encode된 문장을 한꺼번에 원래대로 decode하는 함수입니다. \n",
    "def get_decoded_sentences(encoded_sentences, index_to_word):\n",
    "    return [get_decoded_sentence(encoded_sentence, index_to_word) for encoded_sentence in encoded_sentences]"
   ]
  },
  {
   "cell_type": "code",
   "execution_count": 124,
   "id": "38f0811b",
   "metadata": {},
   "outputs": [
    {
     "name": "stdout",
     "output_type": "stream",
     "text": [
      "<BOS>\n",
      "드라마 귀신 <BOS> <BOS> 같 씨 없 음 달\n"
     ]
    }
   ],
   "source": [
    "#실제 인코딩 인덱스는 제공된 word_to_index에서 index 기준으로 3씩 뒤로 밀려 있습니다.  \n",
    "word_to_index = {k:(v+3) for k,v in word_to_index.items()}\n",
    "\n",
    "# 처음 몇 개 인덱스는 사전에 정의되어 있습니다.\n",
    "word_to_index[\"<PAD>\"] = 0\n",
    "word_to_index[\"<BOS>\"] = 1\n",
    "word_to_index[\"<UNK>\"] = 2  # unknown\n",
    "word_to_index[\"<UNUSED>\"] = 3\n",
    "\n",
    "index_to_word = {index:word for word, index in word_to_index.items()}\n",
    "\n",
    "print(index_to_word[1])     # '<BOS>' 가 출력됩니다. \n",
    "\n",
    "# 보정 후 x_train[0] 데이터\n",
    "print(get_decoded_sentence(X_train[0], index_to_word))"
   ]
  },
  {
   "cell_type": "markdown",
   "id": "cabb162b",
   "metadata": {},
   "source": [
    "keras.preprocessing.sequence.pad_sequences 을 활용한 패딩 추가"
   ]
  },
  {
   "cell_type": "code",
   "execution_count": 133,
   "id": "cbe64584",
   "metadata": {},
   "outputs": [
    {
     "name": "stdout",
     "output_type": "stream",
     "text": [
      "문장길이 평균 :  15.96940191154864\n",
      "문장길이 최대 :  116\n",
      "문장길이 표준편차 :  12.843571191092\n",
      "pad_sequences maxlen :  41\n",
      "전체 문장의 0.9342988343341575%가 maxlen 설정값 이내에 포함됩니다. \n"
     ]
    }
   ],
   "source": [
    "total_data_text = list(X_train) + list(X_test)\n",
    "# 텍스트데이터 문장길이의 리스트를 생성한 후\n",
    "num_tokens = [len(tokens) for tokens in total_data_text]\n",
    "num_tokens = np.array(num_tokens)\n",
    "# 문장길이의 평균값, 최대값, 표준편차를 계산해 본다. \n",
    "print('문장길이 평균 : ', np.mean(num_tokens))\n",
    "print('문장길이 최대 : ', np.max(num_tokens))\n",
    "print('문장길이 표준편차 : ', np.std(num_tokens))\n",
    "\n",
    "# 예를들어, 최대 길이를 (평균 + 2*표준편차)로 한다면,  \n",
    "max_tokens = np.mean(num_tokens) + 2 * np.std(num_tokens)\n",
    "maxlen = int(max_tokens)\n",
    "print('pad_sequences maxlen : ', maxlen)\n",
    "print(f'전체 문장의 {np.sum(num_tokens < max_tokens) / len(num_tokens)}%가 maxlen 설정값 이내에 포함됩니다. ')"
   ]
  },
  {
   "cell_type": "code",
   "execution_count": 134,
   "id": "f1a76f5a",
   "metadata": {},
   "outputs": [
    {
     "name": "stdout",
     "output_type": "stream",
     "text": [
      "(146182, 41)\n"
     ]
    }
   ],
   "source": [
    "X_train = tf.keras.preprocessing.sequence.pad_sequences(\n",
    "    X_train,value=word_to_index[\"<PAD>\"], padding='pre', maxlen=maxlen)\n",
    "\n",
    "X_test = tf.keras.preprocessing.sequence.pad_sequences(\n",
    "    X_test,value=word_to_index[\"<PAD>\"],padding='pre',maxlen=maxlen)\n",
    "\n",
    "print(X_train.shape)"
   ]
  },
  {
   "cell_type": "markdown",
   "id": "81c936f3",
   "metadata": {},
   "source": [
    "### 셀프 임베딩"
   ]
  },
  {
   "cell_type": "code",
   "execution_count": 165,
   "id": "04bc337a",
   "metadata": {},
   "outputs": [],
   "source": [
    "vocab_size = 10000    \n",
    "word_vector_dim = 16  \n",
    "\n",
    "embedding = tf.keras.Sequential()\n",
    "embedding.add(tf.keras.layers.Embedding(vocab_size, word_vector_dim, input_shape=(None,)))\n",
    "embedding_layer = embedding.layers[0]\n",
    "weights = embedding_layer.get_weights()[0]"
   ]
  },
  {
   "cell_type": "code",
   "execution_count": 166,
   "id": "414ea818",
   "metadata": {},
   "outputs": [],
   "source": [
    "# 학습한 Embedding 파라미터를 파일에 써서 저장합니다. \n",
    "word2vec_file_path = os.getenv('HOME')+'/aiffel/sentiment_classification/data/word2vec.txt'\n",
    "f = open(word2vec_file_path, 'w')\n",
    "f.write('{} {}\\n'.format(vocab_size-4, word_vector_dim))  # 몇개의 벡터를 얼마 사이즈로 기재할지 타이틀을 씁니다.\n",
    "\n",
    "# 단어 개수(에서 특수문자 4개는 제외하고)만큼의 워드 벡터를 파일에 기록합니다. \n",
    "vectors = embedding.get_weights()[0]\n",
    "for i in range(4,vocab_size):\n",
    "    f.write('{} {}\\n'.format(index_to_word[i], ' '.join(map(str, list(vectors[i, :])))))\n",
    "f.close()"
   ]
  },
  {
   "cell_type": "code",
   "execution_count": 167,
   "id": "fbdf53f0",
   "metadata": {},
   "outputs": [
    {
     "data": {
      "text/plain": [
       "[('이집트', 0.7828325629234314),\n",
       " ('작위', 0.7780234217643738),\n",
       " ('흐믓', 0.7705455422401428),\n",
       " ('그려냈', 0.7675185799598694),\n",
       " ('놀라', 0.7412804961204529),\n",
       " ('어리', 0.7395816445350647),\n",
       " ('로드리게즈', 0.7305300235748291),\n",
       " ('날아가', 0.7304680347442627),\n",
       " ('은데', 0.7279002070426941),\n",
       " ('취향', 0.7161001563072205)]"
      ]
     },
     "execution_count": 167,
     "metadata": {},
     "output_type": "execute_result"
    }
   ],
   "source": [
    "from gensim.models.keyedvectors import Word2VecKeyedVectors\n",
    "\n",
    "word_vectors_self = Word2VecKeyedVectors.load_word2vec_format(word2vec_file_path, binary=False)\n",
    "word_vectors_self.similar_by_word(\"사랑\")"
   ]
  },
  {
   "cell_type": "code",
   "execution_count": 168,
   "id": "97b525d0",
   "metadata": {},
   "outputs": [
    {
     "data": {
      "text/plain": [
       "[('명감독', 0.7592978477478027),\n",
       " ('주변', 0.7550829648971558),\n",
       " ('소박', 0.7476992011070251),\n",
       " ('선장', 0.7334851622581482),\n",
       " ('빡', 0.7186636328697205),\n",
       " ('예의', 0.7158717513084412),\n",
       " ('온갖', 0.7055344581604004),\n",
       " ('나누', 0.6987045407295227),\n",
       " ('메세지', 0.6986538171768188),\n",
       " ('폴', 0.6937643885612488)]"
      ]
     },
     "execution_count": 168,
     "metadata": {},
     "output_type": "execute_result"
    }
   ],
   "source": [
    "word_vectors_self.similar_by_word(\"재미\")"
   ]
  },
  {
   "cell_type": "markdown",
   "id": "e79a6972",
   "metadata": {},
   "source": [
    "**셀프 임베딩에선 전혀 유사단어를 찾기 힘들었음**"
   ]
  },
  {
   "cell_type": "markdown",
   "id": "e413228e",
   "metadata": {},
   "source": [
    "### Word2vec_ko"
   ]
  },
  {
   "cell_type": "code",
   "execution_count": 169,
   "id": "c615b6f3",
   "metadata": {},
   "outputs": [],
   "source": [
    "from gensim.models.keyedvectors import Word2VecKeyedVectors\n",
    "import os\n",
    "word2vec_file_path = os.getenv('HOME')+'/data/word2vec_ko.model'\n",
    "word_vectors = Word2VecKeyedVectors.load(word2vec_file_path)\n"
   ]
  },
  {
   "cell_type": "code",
   "execution_count": 170,
   "id": "f38c1945",
   "metadata": {},
   "outputs": [],
   "source": [
    "vocab_size = 10000    \n",
    "word_vector_dim = 100 \n",
    "\n",
    "embedding_matrix = np.random.rand(vocab_size, word_vector_dim)\n",
    "\n",
    "# embedding_matrix에 Word2Vec 워드 벡터를 단어 하나씩마다 차례차례 카피\n",
    "for i in range(4,vocab_size):\n",
    "    if index_to_word[i] in word_vectors.wv:\n",
    "        embedding_matrix[i] = word_vectors.wv[index_to_word[i]]"
   ]
  },
  {
   "cell_type": "code",
   "execution_count": 171,
   "id": "d3b911e5",
   "metadata": {},
   "outputs": [
    {
     "data": {
      "text/plain": [
       "[('이별', 0.7626414895057678),\n",
       " ('행복', 0.7550068497657776),\n",
       " ('슬픔', 0.7381505966186523),\n",
       " ('유혹', 0.7238055467605591),\n",
       " ('그리움', 0.7167419195175171),\n",
       " ('추억', 0.7143999338150024),\n",
       " ('꿈', 0.7089294195175171),\n",
       " ('애정', 0.7066588997840881),\n",
       " ('포옹', 0.7034594416618347),\n",
       " ('마음', 0.6972615718841553)]"
      ]
     },
     "execution_count": 171,
     "metadata": {},
     "output_type": "execute_result"
    }
   ],
   "source": [
    "word_vectors.wv.similar_by_word(\"사랑\")"
   ]
  },
  {
   "cell_type": "markdown",
   "id": "a37aad5f",
   "metadata": {},
   "source": [
    "#### 임베딩 비교분석\n",
    "\n",
    "확실히 사전 임베딩이 유사 단어를 잘 찾았음"
   ]
  },
  {
   "cell_type": "markdown",
   "id": "006fb537",
   "metadata": {},
   "source": [
    "## 모델 훈련\n",
    "\n",
    "자체 임베딩이 아닌 불러온 임베딩으로 훈련하고, 학습가능하게 하여 임베딩의 변화 확인\n",
    "\n",
    "모델은 3가지 이상 다양하게 구성하여 실험해 보세요."
   ]
  },
  {
   "cell_type": "code",
   "execution_count": 174,
   "id": "9b0c218c",
   "metadata": {},
   "outputs": [
    {
     "name": "stdout",
     "output_type": "stream",
     "text": [
      "(136182, 41)\n",
      "(136182,)\n"
     ]
    }
   ],
   "source": [
    "X_val = X_train[:10000]   \n",
    "y_val = y_train[:10000]\n",
    "\n",
    "partial_X_train = X_train[10000:]  \n",
    "partial_y_train = y_train[10000:]\n",
    "\n",
    "print(partial_X_train.shape)\n",
    "print(partial_y_train.shape)"
   ]
  },
  {
   "cell_type": "code",
   "execution_count": 175,
   "id": "22ec32e3",
   "metadata": {},
   "outputs": [],
   "source": [
    "from tensorflow.keras.initializers import Constant"
   ]
  },
  {
   "cell_type": "markdown",
   "id": "95e7e686",
   "metadata": {},
   "source": [
    "### 모델 1 단순 DNN\n",
    "\n",
    "결과 : 정확도 54%로 매우 안좋음"
   ]
  },
  {
   "cell_type": "code",
   "execution_count": 176,
   "id": "3b656ba5",
   "metadata": {},
   "outputs": [
    {
     "name": "stdout",
     "output_type": "stream",
     "text": [
      "Model: \"sequential_12\"\n",
      "_________________________________________________________________\n",
      "Layer (type)                 Output Shape              Param #   \n",
      "=================================================================\n",
      "embedding_11 (Embedding)     (None, 41, 100)           1000000   \n",
      "_________________________________________________________________\n",
      "dense_13 (Dense)             (None, 41, 16)            1616      \n",
      "_________________________________________________________________\n",
      "dense_14 (Dense)             (None, 41, 1)             17        \n",
      "=================================================================\n",
      "Total params: 1,001,633\n",
      "Trainable params: 1,001,633\n",
      "Non-trainable params: 0\n",
      "_________________________________________________________________\n"
     ]
    }
   ],
   "source": [
    "model_dnn = tf.keras.Sequential()\n",
    "model_dnn.add(tf.keras.layers.Embedding(\n",
    "    vocab_size, word_vector_dim, \n",
    "    embeddings_initializer=Constant(embedding_matrix),  # 카피한 임베딩을 여기서 활용\n",
    "    input_length=maxlen,trainable=True))   # trainable을 True로 주면 Fine-tuningmodel_dnn.add(tf.keras.layers.Dense(32, activation='relu'))\n",
    "model_dnn.add(tf.keras.layers.Dense(16, activation='relu'))\n",
    "model_dnn.add(tf.keras.layers.Dense(1, activation='sigmoid'))  \n",
    "\n",
    "model_dnn.summary()"
   ]
  },
  {
   "cell_type": "code",
   "execution_count": 179,
   "id": "04794a47",
   "metadata": {},
   "outputs": [],
   "source": [
    "model_dnn.compile(optimizer='adam',\n",
    "              loss='binary_crossentropy',\n",
    "              metrics=['accuracy'])\n",
    "              \n",
    "epochs=100  # 몇 epoch를 훈련하면 좋을지 결과를 보면서 바꾸어 봅시다. \n",
    "\n",
    "history = model_dnn.fit(partial_X_train,\n",
    "                    partial_y_train,\n",
    "                    epochs=epochs,\n",
    "                    batch_size=512,\n",
    "                    validation_data=(X_val, y_val),\n",
    "                    verbose=0)"
   ]
  },
  {
   "cell_type": "code",
   "execution_count": 180,
   "id": "32966543",
   "metadata": {
    "scrolled": true
   },
   "outputs": [
    {
     "name": "stdout",
     "output_type": "stream",
     "text": [
      "1537/1537 - 3s - loss: 0.6743 - accuracy: 0.5461\n",
      "[0.6742711067199707, 0.5461465716362]\n"
     ]
    }
   ],
   "source": [
    "results = model_dnn.evaluate(X_test, y_test, verbose=2)\n",
    "\n",
    "print(results)"
   ]
  },
  {
   "cell_type": "code",
   "execution_count": 181,
   "id": "66eab3ae",
   "metadata": {},
   "outputs": [
    {
     "data": {
      "image/png": "[encoded data removed]",
      "text/plain": [
       "<Figure size 432x288 with 1 Axes>"
      ]
     },
     "metadata": {
      "needs_background": "light"
     },
     "output_type": "display_data"
    }
   ],
   "source": [
    "history_dict = history.history\n",
    "import matplotlib.pyplot as plt\n",
    "\n",
    "acc = history_dict['accuracy']\n",
    "val_acc = history_dict['val_accuracy']\n",
    "loss = history_dict['loss']\n",
    "val_loss = history_dict['val_loss']\n",
    "\n",
    "epochs = range(1, len(acc) + 1)\n",
    "\n",
    "# \"bo\"는 \"파란색 점\"입니다\n",
    "plt.plot(epochs, loss, 'bo', label='Training loss')\n",
    "# b는 \"파란 실선\"입니다\n",
    "plt.plot(epochs, val_loss, 'b', label='Validation loss')\n",
    "plt.title('Training and validation loss')\n",
    "plt.xlabel('Epochs')\n",
    "plt.ylabel('Loss')\n",
    "plt.legend()\n",
    "\n",
    "plt.show()"
   ]
  },
  {
   "cell_type": "markdown",
   "id": "01578bb6",
   "metadata": {},
   "source": [
    "### 모델 2 LSTM\n",
    "\n",
    "모델 1이 성능이 낮아 3층의 LSTM으로 시도\n",
    "\n",
    "결과 : 83.94%로 모델 1 보단 성능이 매우 높지만 루브릭에는 못미침"
   ]
  },
  {
   "cell_type": "code",
   "execution_count": 186,
   "id": "8e8594e3",
   "metadata": {},
   "outputs": [
    {
     "data": {
      "text/plain": [
       "12.5"
      ]
     },
     "execution_count": 186,
     "metadata": {},
     "output_type": "execute_result"
    }
   ],
   "source": [
    "embedding_matrix.shape[1] / 8\n"
   ]
  },
  {
   "cell_type": "code",
   "execution_count": 193,
   "id": "acc3fbfb",
   "metadata": {},
   "outputs": [
    {
     "name": "stdout",
     "output_type": "stream",
     "text": [
      "Model: \"sequential_20\"\n",
      "_________________________________________________________________\n",
      "Layer (type)                 Output Shape              Param #   \n",
      "=================================================================\n",
      "embedding_19 (Embedding)     (None, 41, 100)           1000000   \n",
      "_________________________________________________________________\n",
      "lstm_9 (LSTM)                (None, 41, 12)            5424      \n",
      "_________________________________________________________________\n",
      "lstm_10 (LSTM)               (None, 41, 12)            1200      \n",
      "_________________________________________________________________\n",
      "lstm_11 (LSTM)               (None, 12)                1200      \n",
      "_________________________________________________________________\n",
      "dense_25 (Dense)             (None, 12)                156       \n",
      "_________________________________________________________________\n",
      "dense_26 (Dense)             (None, 1)                 13        \n",
      "=================================================================\n",
      "Total params: 1,007,993\n",
      "Trainable params: 1,007,993\n",
      "Non-trainable params: 0\n",
      "_________________________________________________________________\n"
     ]
    }
   ],
   "source": [
    "lstm_size = int(embedding_matrix.shape[1] / 8)\n",
    "\n",
    "model_lstm = tf.keras.Sequential()\n",
    "model_lstm.add(tf.keras.layers.Embedding(\n",
    "    vocab_size, word_vector_dim, \n",
    "    embeddings_initializer=Constant(embedding_matrix),  # 카피한 임베딩을 여기서 활용\n",
    "    input_length=maxlen,trainable=True))   # trainable을 True로 주면 Fine-tuningmodel_dnn.add(tf.keras.layers.Dense(32, activation='relu'))\n",
    "model_lstm.add(tf.keras.layers.LSTM(lstm_size,return_sequences=True,))   \n",
    "model_lstm.add(tf.keras.layers.LSTM(lstm_size,return_sequences=True,))   \n",
    "model_lstm.add(tf.keras.layers.LSTM(lstm_size))   \n",
    "model_lstm.add(tf.keras.layers.Dense(lstm_size, activation='relu'))\n",
    "model_lstm.add(tf.keras.layers.Dense(1, activation='sigmoid'))  \n",
    "\n",
    "model_lstm.summary()"
   ]
  },
  {
   "cell_type": "code",
   "execution_count": 194,
   "id": "ad34c1ef",
   "metadata": {},
   "outputs": [],
   "source": [
    "model_lstm.compile(optimizer='adam',\n",
    "              loss='binary_crossentropy',\n",
    "              metrics=['accuracy'])\n",
    "              \n",
    "epochs=20  # 몇 epoch를 훈련하면 좋을지 결과를 보면서 바꾸어 봅시다. \n",
    "\n",
    "history_lstm = model_lstm.fit(partial_X_train,\n",
    "                    partial_y_train,\n",
    "                    epochs=epochs,\n",
    "                    batch_size=512,\n",
    "                    validation_data=(X_val, y_val),\n",
    "                    verbose=0)"
   ]
  },
  {
   "cell_type": "code",
   "execution_count": 201,
   "id": "baeb936f",
   "metadata": {},
   "outputs": [
    {
     "name": "stdout",
     "output_type": "stream",
     "text": [
      "1537/1537 - 5s - loss: 0.4165 - accuracy: 0.8394\n",
      "[0.4165233373641968, 0.8393921256065369]\n"
     ]
    }
   ],
   "source": [
    "results = model_lstm.evaluate(X_test, y_test, verbose=2)\n",
    "\n",
    "print(results)"
   ]
  },
  {
   "cell_type": "code",
   "execution_count": 196,
   "id": "cc8e5ade",
   "metadata": {},
   "outputs": [
    {
     "data": {
      "image/png": "[encoded data removed]",
      "text/plain": [
       "<Figure size 432x288 with 1 Axes>"
      ]
     },
     "metadata": {
      "needs_background": "light"
     },
     "output_type": "display_data"
    }
   ],
   "source": [
    "history_dict = history_lstm.history\n",
    "import matplotlib.pyplot as plt\n",
    "\n",
    "acc = history_dict['accuracy']\n",
    "val_acc = history_dict['val_accuracy']\n",
    "loss = history_dict['loss']\n",
    "val_loss = history_dict['val_loss']\n",
    "\n",
    "epochs = range(1, len(acc) + 1)\n",
    "\n",
    "# \"bo\"는 \"파란색 점\"입니다\n",
    "plt.plot(epochs, loss, 'bo', label='Training loss')\n",
    "# b는 \"파란 실선\"입니다\n",
    "plt.plot(epochs, val_loss, 'b', label='Validation loss')\n",
    "plt.title('Training and validation loss')\n",
    "plt.xlabel('Epochs')\n",
    "plt.ylabel('Loss')\n",
    "plt.legend()\n",
    "\n",
    "plt.show()"
   ]
  },
  {
   "cell_type": "markdown",
   "id": "1021ae98",
   "metadata": {},
   "source": [
    "### 모델 3 CNN을 활용 (CNN + LSTM)\n",
    "\n",
    "결과 : 정확도 77.76%로 모델 2보다 성능이 좋지 않음"
   ]
  },
  {
   "cell_type": "code",
   "execution_count": 206,
   "id": "009c3695",
   "metadata": {},
   "outputs": [
    {
     "name": "stdout",
     "output_type": "stream",
     "text": [
      "Model: \"sequential_25\"\n",
      "_________________________________________________________________\n",
      "Layer (type)                 Output Shape              Param #   \n",
      "=================================================================\n",
      "embedding_24 (Embedding)     (None, 41, 100)           1000000   \n",
      "_________________________________________________________________\n",
      "conv1d_8 (Conv1D)            (None, 39, 16)            4816      \n",
      "_________________________________________________________________\n",
      "max_pooling1d_7 (MaxPooling1 (None, 19, 16)            0         \n",
      "_________________________________________________________________\n",
      "conv1d_9 (Conv1D)            (None, 17, 32)            1568      \n",
      "_________________________________________________________________\n",
      "max_pooling1d_8 (MaxPooling1 (None, 8, 32)             0         \n",
      "_________________________________________________________________\n",
      "lstm_16 (LSTM)               (None, 8, 12)             2160      \n",
      "_________________________________________________________________\n",
      "lstm_17 (LSTM)               (None, 8, 12)             1200      \n",
      "_________________________________________________________________\n",
      "lstm_18 (LSTM)               (None, 12)                1200      \n",
      "_________________________________________________________________\n",
      "dense_29 (Dense)             (None, 12)                156       \n",
      "_________________________________________________________________\n",
      "dense_30 (Dense)             (None, 1)                 13        \n",
      "=================================================================\n",
      "Total params: 1,011,113\n",
      "Trainable params: 1,011,113\n",
      "Non-trainable params: 0\n",
      "_________________________________________________________________\n"
     ]
    }
   ],
   "source": [
    "model_cnn = tf.keras.Sequential()\n",
    "model_cnn.add(tf.keras.layers.Embedding(\n",
    "    vocab_size, word_vector_dim, \n",
    "    embeddings_initializer=Constant(embedding_matrix),  # 카피한 임베딩을 여기서 활용\n",
    "    input_length=maxlen,trainable=True))\n",
    "model_cnn.add(tf.keras.layers.Conv1D(16, 3, activation='relu'))\n",
    "model_cnn.add(tf.keras.layers.MaxPooling1D(2))\n",
    "model_cnn.add(tf.keras.layers.Conv1D(32, 3, activation='relu'))\n",
    "model_cnn.add(tf.keras.layers.MaxPooling1D(2))\n",
    "model_cnn.add(tf.keras.layers.LSTM(lstm_size,return_sequences=True,))   \n",
    "model_cnn.add(tf.keras.layers.LSTM(lstm_size,return_sequences=True,))   \n",
    "model_cnn.add(tf.keras.layers.LSTM(lstm_size))   \n",
    "model_cnn.add(tf.keras.layers.Dense(lstm_size, activation='relu'))\n",
    "model_cnn.add(tf.keras.layers.Dense(1, activation='sigmoid'))  \n",
    "\n",
    "model_cnn.summary()"
   ]
  },
  {
   "cell_type": "code",
   "execution_count": 207,
   "id": "e15432cd",
   "metadata": {},
   "outputs": [],
   "source": [
    "model_cnn.compile(optimizer='adam',\n",
    "              loss='binary_crossentropy',\n",
    "              metrics=['accuracy'])\n",
    "              \n",
    "epochs=20  # 몇 epoch를 훈련하면 좋을지 결과를 보면서 바꾸어 봅시다. \n",
    "\n",
    "history_cnn = model_cnn.fit(partial_X_train,\n",
    "                    partial_y_train,\n",
    "                    epochs=epochs,\n",
    "                    batch_size=512,\n",
    "                    validation_data=(X_val, y_val),\n",
    "                    verbose=0)"
   ]
  },
  {
   "cell_type": "code",
   "execution_count": 208,
   "id": "4d881bd8",
   "metadata": {},
   "outputs": [
    {
     "name": "stdout",
     "output_type": "stream",
     "text": [
      "1537/1537 - 5s - loss: 0.5393 - accuracy: 0.7776\n",
      "[0.5392841100692749, 0.7776105403900146]\n"
     ]
    }
   ],
   "source": [
    "results = model_cnn.evaluate(X_test, y_test, verbose=2)\n",
    "\n",
    "print(results)"
   ]
  },
  {
   "cell_type": "code",
   "execution_count": 209,
   "id": "07c57f5a",
   "metadata": {},
   "outputs": [
    {
     "data": {
      "image/png": "[encoded data removed]",
      "text/plain": [
       "<Figure size 432x288 with 1 Axes>"
      ]
     },
     "metadata": {
      "needs_background": "light"
     },
     "output_type": "display_data"
    }
   ],
   "source": [
    "history_dict = history_cnn.history\n",
    "import matplotlib.pyplot as plt\n",
    "\n",
    "acc = history_dict['accuracy']\n",
    "val_acc = history_dict['val_accuracy']\n",
    "loss = history_dict['loss']\n",
    "val_loss = history_dict['val_loss']\n",
    "\n",
    "epochs = range(1, len(acc) + 1)\n",
    "\n",
    "# \"bo\"는 \"파란색 점\"입니다\n",
    "plt.plot(epochs, loss, 'bo', label='Training loss')\n",
    "# b는 \"파란 실선\"입니다\n",
    "plt.plot(epochs, val_loss, 'b', label='Validation loss')\n",
    "plt.title('Training and validation loss')\n",
    "plt.xlabel('Epochs')\n",
    "plt.ylabel('Loss')\n",
    "plt.legend()\n",
    "\n",
    "plt.show()"
   ]
  },
  {
   "cell_type": "markdown",
   "id": "743683f8",
   "metadata": {},
   "source": [
    "### 모델 4 불용어 추가 제거\n",
    "\n",
    "결과 : 정확도 84.5%로 루브릭에 조금 못미침"
   ]
  },
  {
   "cell_type": "markdown",
   "id": "58d09bcc",
   "metadata": {},
   "source": [
    "#### 단어 사전에서 빈도가 높은 불용어가 몇개 보여서 불용어를 더 제거\n",
    "\n",
    "구두점(.), 을 등"
   ]
  },
  {
   "cell_type": "code",
   "execution_count": 218,
   "id": "732f22bd",
   "metadata": {},
   "outputs": [],
   "source": [
    "from konlpy.tag import Mecab\n",
    "\n",
    "new_stopwords = ['.','을', ',']\n",
    "stopwords.extend(new_stopwords)\n",
    "\n",
    "X_train, y_train, X_test, y_test, word_to_index = load_data(train_data, test_data)\n",
    "index_to_word = {index:word for word, index in word_to_index.items()}\n",
    "\n",
    "word_to_index = {k:(v+3) for k,v in word_to_index.items()}\n",
    "\n",
    "# 처음 몇 개 인덱스는 사전에 정의되어 있습니다.\n",
    "word_to_index[\"<PAD>\"] = 0\n",
    "word_to_index[\"<BOS>\"] = 1\n",
    "word_to_index[\"<UNK>\"] = 2  # unknown\n",
    "word_to_index[\"<UNUSED>\"] = 3\n",
    "\n",
    "index_to_word = {index:word for word, index in word_to_index.items()}\n",
    "\n",
    "total_data_text = list(X_train) + list(X_test)\n",
    "# 텍스트데이터 문장길이의 리스트를 생성한 후\n",
    "num_tokens = [len(tokens) for tokens in total_data_text]\n",
    "num_tokens = np.array(num_tokens)\n",
    "\n",
    "# 예를들어, 최대 길이를 (평균 + 2*표준편차)로 한다면,  \n",
    "max_tokens = np.mean(num_tokens) + 2 * np.std(num_tokens)\n",
    "maxlen = int(max_tokens)\n",
    "\n",
    "X_train = tf.keras.preprocessing.sequence.pad_sequences(\n",
    "    X_train,value=word_to_index[\"<PAD>\"], padding='pre', maxlen=maxlen)\n",
    "\n",
    "X_test = tf.keras.preprocessing.sequence.pad_sequences(\n",
    "    X_test,value=word_to_index[\"<PAD>\"],padding='pre',maxlen=maxlen)"
   ]
  },
  {
   "cell_type": "code",
   "execution_count": 219,
   "id": "c0e3366c",
   "metadata": {},
   "outputs": [],
   "source": [
    "vocab_size = 10000    \n",
    "word_vector_dim = 100 \n",
    "\n",
    "embedding_matrix = np.random.rand(vocab_size, word_vector_dim)\n",
    "\n",
    "# embedding_matrix에 Word2Vec 워드 벡터를 단어 하나씩마다 차례차례 카피\n",
    "for i in range(4,vocab_size):\n",
    "    if index_to_word[i] in word_vectors.wv:\n",
    "        embedding_matrix[i] = word_vectors.wv[index_to_word[i]]"
   ]
  },
  {
   "cell_type": "code",
   "execution_count": 233,
   "id": "7e99012a",
   "metadata": {},
   "outputs": [],
   "source": [
    "X_val = X_train[:10000]   \n",
    "y_val = y_train[:10000]\n",
    "\n",
    "partial_X_train = X_train[10000:]  \n",
    "partial_y_train = y_train[10000:]\n",
    "\n"
   ]
  },
  {
   "cell_type": "markdown",
   "id": "e7da4ca0",
   "metadata": {},
   "source": [
    "#### 모델"
   ]
  },
  {
   "cell_type": "code",
   "execution_count": 224,
   "id": "e506edab",
   "metadata": {
    "scrolled": true
   },
   "outputs": [
    {
     "name": "stdout",
     "output_type": "stream",
     "text": [
      "Model: \"sequential_26\"\n",
      "_________________________________________________________________\n",
      "Layer (type)                 Output Shape              Param #   \n",
      "=================================================================\n",
      "embedding_25 (Embedding)     (None, 38, 100)           1000000   \n",
      "_________________________________________________________________\n",
      "lstm_19 (LSTM)               (None, 38, 12)            5424      \n",
      "_________________________________________________________________\n",
      "lstm_20 (LSTM)               (None, 38, 12)            1200      \n",
      "_________________________________________________________________\n",
      "lstm_21 (LSTM)               (None, 12)                1200      \n",
      "_________________________________________________________________\n",
      "dense_31 (Dense)             (None, 12)                156       \n",
      "_________________________________________________________________\n",
      "dense_32 (Dense)             (None, 1)                 13        \n",
      "=================================================================\n",
      "Total params: 1,007,993\n",
      "Trainable params: 1,007,993\n",
      "Non-trainable params: 0\n",
      "_________________________________________________________________\n"
     ]
    }
   ],
   "source": [
    "lstm_size = int(embedding_matrix.shape[1] / 8)\n",
    "\n",
    "model_lstm = tf.keras.Sequential()\n",
    "model_lstm.add(tf.keras.layers.Embedding(\n",
    "    vocab_size, word_vector_dim, \n",
    "    embeddings_initializer=Constant(embedding_matrix),  # 카피한 임베딩을 여기서 활용\n",
    "    input_length=maxlen,trainable=True))   # trainable을 True로 주면 Fine-tuningmodel_dnn.add(tf.keras.layers.Dense(32, activation='relu'))\n",
    "model_lstm.add(tf.keras.layers.LSTM(lstm_size,return_sequences=True,))   \n",
    "model_lstm.add(tf.keras.layers.LSTM(lstm_size,return_sequences=True,))   \n",
    "model_lstm.add(tf.keras.layers.LSTM(lstm_size))   \n",
    "model_lstm.add(tf.keras.layers.Dense(lstm_size, activation='relu'))\n",
    "model_lstm.add(tf.keras.layers.Dense(1, activation='sigmoid'))  \n",
    "\n",
    "model_lstm.summary()"
   ]
  },
  {
   "cell_type": "code",
   "execution_count": 234,
   "id": "11a065b6",
   "metadata": {},
   "outputs": [],
   "source": [
    "model_lstm.compile(optimizer='adam',\n",
    "              loss='binary_crossentropy',\n",
    "              metrics=['accuracy'])\n",
    "              \n",
    "epochs=10  # 몇 epoch를 훈련하면 좋을지 결과를 보면서 바꾸어 봅시다. \n",
    "\n",
    "history_lstm = model_lstm.fit(partial_X_train,\n",
    "                    partial_y_train,\n",
    "                    epochs=epochs,\n",
    "                    batch_size=512,\n",
    "                    validation_data=(X_val, y_val),\n",
    "                    verbose=0)"
   ]
  },
  {
   "cell_type": "code",
   "execution_count": 237,
   "id": "5fd20ef1",
   "metadata": {},
   "outputs": [
    {
     "name": "stdout",
     "output_type": "stream",
     "text": [
      "1537/1537 - 5s - loss: 0.3719 - accuracy: 0.8449\n",
      "[0.3718808889389038, 0.8448644280433655]\n"
     ]
    }
   ],
   "source": [
    "results = model_lstm.evaluate(X_test, y_test, verbose=2)\n",
    "\n",
    "print(results)"
   ]
  },
  {
   "cell_type": "code",
   "execution_count": 238,
   "id": "97679563",
   "metadata": {},
   "outputs": [
    {
     "data": {
      "image/png": "[encoded data removed]",
      "text/plain": [
       "<Figure size 432x288 with 1 Axes>"
      ]
     },
     "metadata": {
      "needs_background": "light"
     },
     "output_type": "display_data"
    }
   ],
   "source": [
    "history_dict = history_lstm.history\n",
    "import matplotlib.pyplot as plt\n",
    "\n",
    "acc = history_dict['accuracy']\n",
    "val_acc = history_dict['val_accuracy']\n",
    "loss = history_dict['loss']\n",
    "val_loss = history_dict['val_loss']\n",
    "\n",
    "epochs = range(1, len(acc) + 1)\n",
    "\n",
    "# \"bo\"는 \"파란색 점\"입니다\n",
    "plt.plot(epochs, loss, 'bo', label='Training loss')\n",
    "# b는 \"파란 실선\"입니다\n",
    "plt.plot(epochs, val_loss, 'b', label='Validation loss')\n",
    "plt.title('Training and validation loss')\n",
    "plt.xlabel('Epochs')\n",
    "plt.ylabel('Loss')\n",
    "plt.legend()\n",
    "\n",
    "plt.show()"
   ]
  },
  {
   "cell_type": "markdown",
   "id": "ba5cdeec",
   "metadata": {},
   "source": [
    "## 최종 모델\n",
    "양방향 lstm을 적용하여 최종 모델 결정  \n",
    "\n",
    "모델 구조 : in-양방향lstm-양방향lstm-양방향lstm-dense-dense-out  \n",
    "\n",
    "**최종 정확도 : 85.48%**\n",
    "\n",
    "* recurrent dropout을 사용하려고 했는데, cudnn이 작동하지 않아 20분동안 돌리다가 포기\n"
   ]
  },
  {
   "cell_type": "code",
   "execution_count": 289,
   "id": "fb2947ac",
   "metadata": {
    "scrolled": true
   },
   "outputs": [
    {
     "name": "stdout",
     "output_type": "stream",
     "text": [
      "1537/1537 - 8s - loss: 0.3437 - accuracy: 0.8548\n"
     ]
    }
   ],
   "source": [
    "lstm_size = int(embedding_matrix.shape[1] / 8)\n",
    "\n",
    "model_lstm = tf.keras.Sequential()\n",
    "model_lstm.add(tf.keras.layers.Embedding(\n",
    "    vocab_size, word_vector_dim, \n",
    "    embeddings_initializer=Constant(embedding_matrix),  # 카피한 임베딩을 여기서 활용\n",
    "    input_length=maxlen,trainable=True)) \n",
    "# 양방향 lstm. dropout 0.2도 적용\n",
    "model_lstm.add(tf.keras.layers.Bidirectional(tf.keras.layers.LSTM(lstm_size,return_sequences=True, dropout=0.2)))  \n",
    "model_lstm.add(tf.keras.layers.Bidirectional(tf.keras.layers.LSTM(lstm_size,return_sequences=True, dropout=0.2)))  \n",
    "model_lstm.add(tf.keras.layers.Bidirectional(tf.keras.layers.LSTM(lstm_size, dropout=0.2)))  \n",
    "\n",
    "# 모델 복잡성을 위해 dense을 2층 쌓음 \n",
    "model_lstm.add(tf.keras.layers.Dense(lstm_size, activation='relu'))\n",
    "model_lstm.add(tf.keras.layers.Dense(int(lstm_size/2), activation='relu'))\n",
    "\n",
    "model_lstm.add(tf.keras.layers.Dense(1, activation='sigmoid'))  \n",
    "\n",
    "model_lstm.compile(optimizer='adam',\n",
    "              loss='binary_crossentropy',\n",
    "              metrics=['accuracy'])\n",
    "              \n",
    "epochs=20  \n",
    "\n",
    "history_lstm = model_lstm.fit(partial_X_train,\n",
    "                    partial_y_train,\n",
    "                    epochs=epochs,\n",
    "                    batch_size=1024,\n",
    "                    validation_data=(X_val, y_val),\n",
    "                    verbose=0)\n",
    "\n",
    "results = model_lstm.evaluate(X_test, y_test, verbose=2)"
   ]
  },
  {
   "cell_type": "code",
   "execution_count": 290,
   "id": "2cf9e317",
   "metadata": {},
   "outputs": [
    {
     "data": {
      "image/png": "[encoded data removed]",
      "text/plain": [
       "<Figure size 432x288 with 1 Axes>"
      ]
     },
     "metadata": {
      "needs_background": "light"
     },
     "output_type": "display_data"
    }
   ],
   "source": [
    "history_dict = history_lstm.history\n",
    "import matplotlib.pyplot as plt\n",
    "\n",
    "acc = history_dict['accuracy']\n",
    "val_acc = history_dict['val_accuracy']\n",
    "loss = history_dict['loss']\n",
    "val_loss = history_dict['val_loss']\n",
    "\n",
    "epochs = range(1, len(acc) + 1)\n",
    "\n",
    "# \"bo\"는 \"파란색 점\"입니다\n",
    "plt.plot(epochs, loss, 'bo', label='Training loss')\n",
    "# b는 \"파란 실선\"입니다\n",
    "plt.plot(epochs, val_loss, 'b', label='Validation loss')\n",
    "plt.title('Training and validation loss')\n",
    "plt.xlabel('Epochs')\n",
    "plt.ylabel('Loss')\n",
    "plt.legend()\n",
    "\n",
    "plt.show()"
   ]
  },
  {
   "cell_type": "markdown",
   "id": "771bc906",
   "metadata": {},
   "source": [
    "경향성을 보기 힘들어 epoch를 늘려봄"
   ]
  },
  {
   "cell_type": "code",
   "execution_count": 293,
   "id": "7e570e8b",
   "metadata": {},
   "outputs": [
    {
     "name": "stdout",
     "output_type": "stream",
     "text": [
      "1537/1537 - 8s - loss: 0.3657 - accuracy: 0.8547\n"
     ]
    }
   ],
   "source": [
    "lstm_size = int(embedding_matrix.shape[1] / 8)\n",
    "\n",
    "model_lstm = tf.keras.Sequential()\n",
    "model_lstm.add(tf.keras.layers.Embedding(\n",
    "    vocab_size, word_vector_dim, \n",
    "    embeddings_initializer=Constant(embedding_matrix),  # 카피한 임베딩을 여기서 활용\n",
    "    input_length=maxlen,trainable=True)) \n",
    "model_lstm.add(tf.keras.layers.Bidirectional(tf.keras.layers.LSTM(lstm_size,return_sequences=True, dropout=0.2)))  \n",
    "model_lstm.add(tf.keras.layers.Bidirectional(tf.keras.layers.LSTM(lstm_size,return_sequences=True, dropout=0.2)))  \n",
    "model_lstm.add(tf.keras.layers.Bidirectional(tf.keras.layers.LSTM(lstm_size, dropout=0.2)))  \n",
    "\n",
    "model_lstm.add(tf.keras.layers.Dense(lstm_size, activation='relu'))\n",
    "model_lstm.add(tf.keras.layers.Dense(int(lstm_size/2), activation='relu'))\n",
    "\n",
    "model_lstm.add(tf.keras.layers.Dense(1, activation='sigmoid'))  \n",
    "\n",
    "model_lstm.compile(optimizer='adam',\n",
    "              loss='binary_crossentropy',\n",
    "              metrics=['accuracy'])\n",
    "              \n",
    "epochs=50\n",
    "\n",
    "history_lstm = model_lstm.fit(partial_X_train,\n",
    "                    partial_y_train,\n",
    "                    epochs=epochs,\n",
    "                    batch_size=1024,\n",
    "                    validation_data=(X_val, y_val),\n",
    "                    verbose=0)\n",
    "\n",
    "results = model_lstm.evaluate(X_test, y_test, verbose=2)"
   ]
  },
  {
   "cell_type": "code",
   "execution_count": 294,
   "id": "e98fdce0",
   "metadata": {},
   "outputs": [
    {
     "data": {
      "image/png": "[encoded data removed]",
      "text/plain": [
       "<Figure size 432x288 with 1 Axes>"
      ]
     },
     "metadata": {
      "needs_background": "light"
     },
     "output_type": "display_data"
    }
   ],
   "source": [
    "history_dict = history_lstm.history\n",
    "import matplotlib.pyplot as plt\n",
    "\n",
    "acc = history_dict['accuracy']\n",
    "val_acc = history_dict['val_accuracy']\n",
    "loss = history_dict['loss']\n",
    "val_loss = history_dict['val_loss']\n",
    "\n",
    "epochs = range(1, len(acc) + 1)\n",
    "\n",
    "# \"bo\"는 \"파란색 점\"입니다\n",
    "plt.plot(epochs, loss, 'bo', label='Training loss')\n",
    "# b는 \"파란 실선\"입니다\n",
    "plt.plot(epochs, val_loss, 'b', label='Validation loss')\n",
    "plt.title('Training and validation loss')\n",
    "plt.xlabel('Epochs')\n",
    "plt.ylabel('Loss')\n",
    "plt.legend()\n",
    "\n",
    "plt.show()"
   ]
  },
  {
   "cell_type": "markdown",
   "id": "c95a01e6",
   "metadata": {},
   "source": [
    "epoch 20에서의 성능이 괜찮은 것으로 보임"
   ]
  },
  {
   "cell_type": "markdown",
   "id": "2f86cfe2",
   "metadata": {},
   "source": [
    "## 결론 및 회고"
   ]
  },
  {
   "cell_type": "markdown",
   "id": "d2c23b52",
   "metadata": {},
   "source": [
    "다양한 시도를 하면서 **양방향 lstm**을 사용하게 되었다.  \n",
    "최종 정확도는 **85.48%**로 루브릭을 겨우 넘는 수준이어서 아쉬웠다.  \n",
    "\n",
    "여러 실험을 통해 알게되 점  \n",
    " 1. lstm 층을 늘리는 것이 성능 향상에 도움을 주기는 하였는데, 계속 늘리는 것은 의미가 없었다.   \n",
    " 2. nlp에선 양방향 lstm이 일반 lstm보다 성능이 좋은 걸 체감하였다.   \n",
    " 3. cnn층으로 특성 추출을 하고 lstm층으로 감성분석을 하는 것은 매우매우 성능이 좋지 않았다.  \n",
    " 4. 구둣점이나 '을' 같이 제거되지 못한 불용어를 추가제거 하여도 성능 향상에 많은 도움을 주지는 않았다.  \n",
    "\n",
    "마지막에 조원분이 lstm레이어 층을 넓히면 성능이 좋아진다고 하셔서 시도해 봐야 할 것 같다. "
   ]
  },
  {
   "cell_type": "markdown",
   "id": "5f424ccc",
   "metadata": {},
   "source": [
    "### 추가. 훈련 후 임베딩 비교\n",
    "\n",
    "임베딩을 훈련가능하게 하여 임베딩이 바뀐것을 보았는데 처음 임베딩보다 안좋아 진 거 같다."
   ]
  },
  {
   "cell_type": "code",
   "execution_count": null,
   "id": "e77b49f0",
   "metadata": {},
   "outputs": [],
   "source": [
    "vocab_size = 10000    \n",
    "word_vector_dim = 16 \n",
    "\n",
    "embedding_layer = model_lstm.layers[0]\n",
    "weights = embedding_layer.get_weights()[0]"
   ]
  },
  {
   "cell_type": "code",
   "execution_count": null,
   "id": "3a93ea60",
   "metadata": {},
   "outputs": [],
   "source": [
    "# 학습한 Embedding 파라미터를 파일에 써서 저장합니다. \n",
    "word2vec_file_path = os.getenv('HOME')+'/aiffel/sentiment_classification/data/wortxtd2vec.'\n",
    "f = open(word2vec_file_path, 'w')\n",
    "f.write('{} {}\\n'.format(vocab_size-4, word_vector_dim))  # 몇개의 벡터를 얼마 사이즈로 기재할지 타이틀을 씁니다.\n",
    "\n",
    "# 단어 개수(에서 특수문자 4개는 제외하고)만큼의 워드 벡터를 파일에 기록합니다. \n",
    "vectors = embedding.get_weights()[0]\n",
    "for i in range(4,vocab_size):\n",
    "    f.write('{} {}\\n'.format(index_to_word[i], ' '.join(map(str, list(vectors[i, :])))))\n",
    "f.close()"
   ]
  },
  {
   "cell_type": "code",
   "execution_count": null,
   "id": "3b597dbe",
   "metadata": {},
   "outputs": [
    {
     "data": {
      "text/plain": [
       "[('블로그', 0.8074831366539001),\n",
       " ('어우러져', 0.7980995178222656),\n",
       " ('한지훈', 0.7670777440071106),\n",
       " ('뒤통수', 0.7457050681114197),\n",
       " ('지겹', 0.7436698079109192),\n",
       " ('돋보이', 0.7188777327537537),\n",
       " ('통찰', 0.7164884209632874),\n",
       " ('애써', 0.7157044410705566),\n",
       " ('검색어', 0.7026494741439819),\n",
       " ('자리', 0.6938202381134033)]"
      ]
     },
     "metadata": {},
     "output_type": "display_data"
    }
   ],
   "source": [
    "word_vectors_self = Word2VecKeyedVectors.load_word2vec_format(word2vec_file_path, binary=False)\n",
    "word_vectors_self.similar_by_word(\"사랑\")"
   ]
  }
 ],
 "metadata": {
  "kernelspec": {
   "display_name": "Python 3 (ipykernel)",
   "language": "python",
   "name": "python3"
  },
  "language_info": {
   "codemirror_mode": {
    "name": "ipython",
    "version": 3
   },
   "file_extension": ".py",
   "mimetype": "text/x-python",
   "name": "python",
   "nbconvert_exporter": "python",
   "pygments_lexer": "ipython3",
   "version": "3.9.7"
  }
 },
 "nbformat": 4,
 "nbformat_minor": 5
}
